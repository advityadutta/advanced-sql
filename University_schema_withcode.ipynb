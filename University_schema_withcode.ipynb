{
  "cells": [
    {
      "cell_type": "markdown",
      "metadata": {
        "id": "3oX6MvzyC71P"
      },
      "source": [
        "<h1><u><center>University Schema Assignment</center></u></h1>"
      ]
    },
    {
      "cell_type": "markdown",
      "metadata": {
        "id": "-pmNVVD9ZEol"
      },
      "source": [
        "### **DATABASE CREATION AND CONNECTING IT**\n"
      ]
    },
    {
      "cell_type": "code",
      "execution_count": 1,
      "metadata": {
        "id": "-OjGcCwnTmvd"
      },
      "outputs": [],
      "source": [
        "import pandas as pd\n",
        "import sqlite3\n",
        "connection=sqlite3.connect('university.db')"
      ]
    },
    {
      "cell_type": "code",
      "execution_count": 2,
      "metadata": {
        "colab": {
          "base_uri": "https://localhost:8080/",
          "height": 36
        },
        "id": "NgIrZSlAVsgY",
        "outputId": "e5877ff7-e857-4d8e-9a96-a241f3561bf2"
      },
      "outputs": [
        {
          "output_type": "execute_result",
          "data": {
            "text/plain": [
              "'Connected: @university.db'"
            ],
            "application/vnd.google.colaboratory.intrinsic+json": {
              "type": "string"
            }
          },
          "metadata": {},
          "execution_count": 2
        }
      ],
      "source": [
        "%load_ext sql\n",
        "%sql sqlite:///university.db"
      ]
    },
    {
      "cell_type": "markdown",
      "metadata": {
        "id": "iL8Ndz-pZLsX"
      },
      "source": [
        "### NOW WE WILL CREATE TABLES AND INSERT DATA\n"
      ]
    },
    {
      "cell_type": "code",
      "execution_count": 3,
      "metadata": {
        "colab": {
          "base_uri": "https://localhost:8080/"
        },
        "id": "JljIQQtOTh7e",
        "outputId": "4df4fc1a-e818-405a-c22c-7ebb4d383b02"
      },
      "outputs": [
        {
          "output_type": "stream",
          "name": "stdout",
          "text": [
            " * sqlite:///university.db\n",
            "Done.\n"
          ]
        },
        {
          "output_type": "execute_result",
          "data": {
            "text/plain": [
              "[]"
            ]
          },
          "metadata": {},
          "execution_count": 3
        }
      ],
      "source": [
        "%%sql\n",
        "create table classroom\n",
        "\t(building\t\tvarchar(15),\n",
        "\t room_number\t\tvarchar(7),\n",
        "\t capacity\t\tnumeric(4,0),\n",
        "\t primary key (building, room_number)\n",
        "\t);\n"
      ]
    },
    {
      "cell_type": "code",
      "execution_count": 4,
      "metadata": {
        "colab": {
          "base_uri": "https://localhost:8080/"
        },
        "id": "4FmpUgguWDNt",
        "outputId": "49bbd14d-0d5a-463c-c185-f37cc4f62c0b"
      },
      "outputs": [
        {
          "output_type": "stream",
          "name": "stdout",
          "text": [
            " * sqlite:///university.db\n",
            "1 rows affected.\n",
            "1 rows affected.\n",
            "1 rows affected.\n",
            "1 rows affected.\n",
            "1 rows affected.\n",
            "1 rows affected.\n",
            "1 rows affected.\n",
            "1 rows affected.\n"
          ]
        },
        {
          "output_type": "execute_result",
          "data": {
            "text/plain": [
              "[]"
            ]
          },
          "metadata": {},
          "execution_count": 4
        }
      ],
      "source": [
        "%%sql\n",
        "insert into classroom values ('Packard', '101', '500');\n",
        "insert into classroom values ('Painter', '514', '10');\n",
        "insert into classroom values ('Taylor', '3128', '70');\n",
        "insert into classroom values ('Watson', '100', '30');\n",
        "insert into classroom values ('Watson', '120', '50');\n",
        "insert into classroom values ('Taylor', '112', '30');\n",
        "insert into classroom values ('Painter', '234', '50');\n",
        "insert into classroom values ('Packard', '303', '56')"
      ]
    },
    {
      "cell_type": "code",
      "execution_count": 5,
      "metadata": {
        "colab": {
          "base_uri": "https://localhost:8080/",
          "height": 242
        },
        "id": "JNxq0DnxWidU",
        "outputId": "764518e7-25b8-43f2-cf0e-a6452d69c4ff"
      },
      "outputs": [
        {
          "output_type": "stream",
          "name": "stdout",
          "text": [
            " * sqlite:///university.db\n",
            "Done.\n"
          ]
        },
        {
          "output_type": "execute_result",
          "data": {
            "text/plain": [
              "[('Packard', '101', 500),\n",
              " ('Painter', '514', 10),\n",
              " ('Taylor', '3128', 70),\n",
              " ('Watson', '100', 30),\n",
              " ('Watson', '120', 50),\n",
              " ('Taylor', '112', 30),\n",
              " ('Painter', '234', 50),\n",
              " ('Packard', '303', 56)]"
            ],
            "text/html": [
              "<table>\n",
              "    <thead>\n",
              "        <tr>\n",
              "            <th>building</th>\n",
              "            <th>room_number</th>\n",
              "            <th>capacity</th>\n",
              "        </tr>\n",
              "    </thead>\n",
              "    <tbody>\n",
              "        <tr>\n",
              "            <td>Packard</td>\n",
              "            <td>101</td>\n",
              "            <td>500</td>\n",
              "        </tr>\n",
              "        <tr>\n",
              "            <td>Painter</td>\n",
              "            <td>514</td>\n",
              "            <td>10</td>\n",
              "        </tr>\n",
              "        <tr>\n",
              "            <td>Taylor</td>\n",
              "            <td>3128</td>\n",
              "            <td>70</td>\n",
              "        </tr>\n",
              "        <tr>\n",
              "            <td>Watson</td>\n",
              "            <td>100</td>\n",
              "            <td>30</td>\n",
              "        </tr>\n",
              "        <tr>\n",
              "            <td>Watson</td>\n",
              "            <td>120</td>\n",
              "            <td>50</td>\n",
              "        </tr>\n",
              "        <tr>\n",
              "            <td>Taylor</td>\n",
              "            <td>112</td>\n",
              "            <td>30</td>\n",
              "        </tr>\n",
              "        <tr>\n",
              "            <td>Painter</td>\n",
              "            <td>234</td>\n",
              "            <td>50</td>\n",
              "        </tr>\n",
              "        <tr>\n",
              "            <td>Packard</td>\n",
              "            <td>303</td>\n",
              "            <td>56</td>\n",
              "        </tr>\n",
              "    </tbody>\n",
              "</table>"
            ]
          },
          "metadata": {},
          "execution_count": 5
        }
      ],
      "source": [
        "%%sql\n",
        "select * from classroom"
      ]
    },
    {
      "cell_type": "code",
      "execution_count": 6,
      "metadata": {
        "colab": {
          "base_uri": "https://localhost:8080/"
        },
        "id": "-XM97WzUUHSk",
        "outputId": "01525565-4bfb-492f-8de2-43a17bd695a8"
      },
      "outputs": [
        {
          "output_type": "stream",
          "name": "stdout",
          "text": [
            " * sqlite:///university.db\n",
            "Done.\n"
          ]
        },
        {
          "output_type": "execute_result",
          "data": {
            "text/plain": [
              "[]"
            ]
          },
          "metadata": {},
          "execution_count": 6
        }
      ],
      "source": [
        "%%sql\n",
        "create table department\n",
        "\t(dept_name\t\tvarchar(20), \n",
        "\t building\t\tvarchar(15), \n",
        "\t budget\t\t        numeric(12,2) check (budget > 0),\n",
        "\t primary key (dept_name)\n",
        "\t);"
      ]
    },
    {
      "cell_type": "code",
      "execution_count": 7,
      "metadata": {
        "colab": {
          "base_uri": "https://localhost:8080/"
        },
        "id": "mBnovk6nWrxT",
        "outputId": "7047561e-c7ef-45d7-9919-7a27bfb7876a"
      },
      "outputs": [
        {
          "output_type": "stream",
          "name": "stdout",
          "text": [
            " * sqlite:///university.db\n",
            "1 rows affected.\n",
            "1 rows affected.\n",
            "1 rows affected.\n",
            "1 rows affected.\n",
            "1 rows affected.\n",
            "1 rows affected.\n",
            "1 rows affected.\n"
          ]
        },
        {
          "output_type": "execute_result",
          "data": {
            "text/plain": [
              "[]"
            ]
          },
          "metadata": {},
          "execution_count": 7
        }
      ],
      "source": [
        "%%sql\n",
        "insert into department values ('Biology', 'Watson', '90000');\n",
        "insert into department values ('Comp. Sci.', 'Taylor', '100000');\n",
        "insert into department values ('Elec. Eng.', 'Taylor', '85000');\n",
        "insert into department values ('Finance', 'Painter', '120000');\n",
        "insert into department values ('History', 'Painter', '50000');\n",
        "insert into department values ('Music', 'Packard', '80000');\n",
        "insert into department values ('Physics', 'Watson', '70000');"
      ]
    },
    {
      "cell_type": "code",
      "execution_count": 8,
      "metadata": {
        "colab": {
          "base_uri": "https://localhost:8080/",
          "height": 221
        },
        "id": "WWTE5GeyWwHR",
        "outputId": "3ef18b64-d5ed-4f7a-8b42-e1c6fac0f529"
      },
      "outputs": [
        {
          "output_type": "stream",
          "name": "stdout",
          "text": [
            " * sqlite:///university.db\n",
            "Done.\n"
          ]
        },
        {
          "output_type": "execute_result",
          "data": {
            "text/plain": [
              "[('Biology', 'Watson', 90000),\n",
              " ('Comp. Sci.', 'Taylor', 100000),\n",
              " ('Elec. Eng.', 'Taylor', 85000),\n",
              " ('Finance', 'Painter', 120000),\n",
              " ('History', 'Painter', 50000),\n",
              " ('Music', 'Packard', 80000),\n",
              " ('Physics', 'Watson', 70000)]"
            ],
            "text/html": [
              "<table>\n",
              "    <thead>\n",
              "        <tr>\n",
              "            <th>dept_name</th>\n",
              "            <th>building</th>\n",
              "            <th>budget</th>\n",
              "        </tr>\n",
              "    </thead>\n",
              "    <tbody>\n",
              "        <tr>\n",
              "            <td>Biology</td>\n",
              "            <td>Watson</td>\n",
              "            <td>90000</td>\n",
              "        </tr>\n",
              "        <tr>\n",
              "            <td>Comp. Sci.</td>\n",
              "            <td>Taylor</td>\n",
              "            <td>100000</td>\n",
              "        </tr>\n",
              "        <tr>\n",
              "            <td>Elec. Eng.</td>\n",
              "            <td>Taylor</td>\n",
              "            <td>85000</td>\n",
              "        </tr>\n",
              "        <tr>\n",
              "            <td>Finance</td>\n",
              "            <td>Painter</td>\n",
              "            <td>120000</td>\n",
              "        </tr>\n",
              "        <tr>\n",
              "            <td>History</td>\n",
              "            <td>Painter</td>\n",
              "            <td>50000</td>\n",
              "        </tr>\n",
              "        <tr>\n",
              "            <td>Music</td>\n",
              "            <td>Packard</td>\n",
              "            <td>80000</td>\n",
              "        </tr>\n",
              "        <tr>\n",
              "            <td>Physics</td>\n",
              "            <td>Watson</td>\n",
              "            <td>70000</td>\n",
              "        </tr>\n",
              "    </tbody>\n",
              "</table>"
            ]
          },
          "metadata": {},
          "execution_count": 8
        }
      ],
      "source": [
        "%%sql\n",
        "select * from department"
      ]
    },
    {
      "cell_type": "code",
      "execution_count": 9,
      "metadata": {
        "colab": {
          "base_uri": "https://localhost:8080/"
        },
        "id": "HA3lkt9oUOGq",
        "outputId": "3c6fedb2-a701-4d14-d396-12eb06af6293"
      },
      "outputs": [
        {
          "output_type": "stream",
          "name": "stdout",
          "text": [
            " * sqlite:///university.db\n",
            "Done.\n"
          ]
        },
        {
          "output_type": "execute_result",
          "data": {
            "text/plain": [
              "[]"
            ]
          },
          "metadata": {},
          "execution_count": 9
        }
      ],
      "source": [
        "%%sql\n",
        "create table course\n",
        "\t(course_id\t\tvarchar(8), \n",
        "\t title\t\t\tvarchar(50), \n",
        "\t dept_name\t\tvarchar(20),\n",
        "\t credits\t\tnumeric(2,0) check (credits > 0),\n",
        "\t primary key (course_id),\n",
        "\t foreign key (dept_name) references department (dept_name)\n",
        "\t\ton delete set null\n",
        "\t);"
      ]
    },
    {
      "cell_type": "code",
      "execution_count": 10,
      "metadata": {
        "colab": {
          "base_uri": "https://localhost:8080/"
        },
        "id": "io_yfMKsW48z",
        "outputId": "3981a4a0-a5a0-4226-8b9b-c38f693692a9"
      },
      "outputs": [
        {
          "output_type": "stream",
          "name": "stdout",
          "text": [
            " * sqlite:///university.db\n",
            "1 rows affected.\n",
            "1 rows affected.\n",
            "1 rows affected.\n",
            "1 rows affected.\n",
            "1 rows affected.\n",
            "1 rows affected.\n",
            "1 rows affected.\n",
            "1 rows affected.\n",
            "1 rows affected.\n",
            "1 rows affected.\n",
            "1 rows affected.\n",
            "1 rows affected.\n",
            "1 rows affected.\n"
          ]
        },
        {
          "output_type": "execute_result",
          "data": {
            "text/plain": [
              "[]"
            ]
          },
          "metadata": {},
          "execution_count": 10
        }
      ],
      "source": [
        "%%sql\n",
        "\n",
        "insert into course values ('BIO-101', 'Intro. to Biology', 'Biology', '4');\n",
        "insert into course values ('BIO-301', 'Genetics', 'Biology', '4');\n",
        "insert into course values ('BIO-399', 'Computational Biology', 'Biology', '3');\n",
        "insert into course values ('CS-101', 'Intro. to Computer Science', 'Comp. Sci.', '4');\n",
        "insert into course values ('CS-190', 'Game Design', 'Comp. Sci.', '4');\n",
        "insert into course values ('CS-315', 'Robotics', 'Comp. Sci.', '3');\n",
        "insert into course values ('CS-319', 'Image Processing', 'Comp. Sci.', '3');\n",
        "insert into course values ('CS-347', 'Database System Concepts', 'Comp. Sci.', '3');\n",
        "insert into course values ('EE-181', 'Intro. to Digital Systems', 'Elec. Eng.', '3');\n",
        "insert into course values ('FIN-201', 'Investment Banking', 'Finance', '3');\n",
        "insert into course values ('HIS-351', 'World History', 'History', '3');\n",
        "insert into course values ('MU-199', 'Music Video Production', 'Music', '3');\n",
        "insert into course values ('PHY-101', 'Physical Principles', 'Physics', '4');"
      ]
    },
    {
      "cell_type": "code",
      "execution_count": 11,
      "metadata": {
        "colab": {
          "base_uri": "https://localhost:8080/",
          "height": 347
        },
        "id": "ehivf58kW72w",
        "outputId": "cbbbb8dd-e24a-4a2a-bc0e-aabac7dc9ce6"
      },
      "outputs": [
        {
          "output_type": "stream",
          "name": "stdout",
          "text": [
            " * sqlite:///university.db\n",
            "Done.\n"
          ]
        },
        {
          "output_type": "execute_result",
          "data": {
            "text/plain": [
              "[('BIO-101', 'Intro. to Biology', 'Biology', 4),\n",
              " ('BIO-301', 'Genetics', 'Biology', 4),\n",
              " ('BIO-399', 'Computational Biology', 'Biology', 3),\n",
              " ('CS-101', 'Intro. to Computer Science', 'Comp. Sci.', 4),\n",
              " ('CS-190', 'Game Design', 'Comp. Sci.', 4),\n",
              " ('CS-315', 'Robotics', 'Comp. Sci.', 3),\n",
              " ('CS-319', 'Image Processing', 'Comp. Sci.', 3),\n",
              " ('CS-347', 'Database System Concepts', 'Comp. Sci.', 3),\n",
              " ('EE-181', 'Intro. to Digital Systems', 'Elec. Eng.', 3),\n",
              " ('FIN-201', 'Investment Banking', 'Finance', 3),\n",
              " ('HIS-351', 'World History', 'History', 3),\n",
              " ('MU-199', 'Music Video Production', 'Music', 3),\n",
              " ('PHY-101', 'Physical Principles', 'Physics', 4)]"
            ],
            "text/html": [
              "<table>\n",
              "    <thead>\n",
              "        <tr>\n",
              "            <th>course_id</th>\n",
              "            <th>title</th>\n",
              "            <th>dept_name</th>\n",
              "            <th>credits</th>\n",
              "        </tr>\n",
              "    </thead>\n",
              "    <tbody>\n",
              "        <tr>\n",
              "            <td>BIO-101</td>\n",
              "            <td>Intro. to Biology</td>\n",
              "            <td>Biology</td>\n",
              "            <td>4</td>\n",
              "        </tr>\n",
              "        <tr>\n",
              "            <td>BIO-301</td>\n",
              "            <td>Genetics</td>\n",
              "            <td>Biology</td>\n",
              "            <td>4</td>\n",
              "        </tr>\n",
              "        <tr>\n",
              "            <td>BIO-399</td>\n",
              "            <td>Computational Biology</td>\n",
              "            <td>Biology</td>\n",
              "            <td>3</td>\n",
              "        </tr>\n",
              "        <tr>\n",
              "            <td>CS-101</td>\n",
              "            <td>Intro. to Computer Science</td>\n",
              "            <td>Comp. Sci.</td>\n",
              "            <td>4</td>\n",
              "        </tr>\n",
              "        <tr>\n",
              "            <td>CS-190</td>\n",
              "            <td>Game Design</td>\n",
              "            <td>Comp. Sci.</td>\n",
              "            <td>4</td>\n",
              "        </tr>\n",
              "        <tr>\n",
              "            <td>CS-315</td>\n",
              "            <td>Robotics</td>\n",
              "            <td>Comp. Sci.</td>\n",
              "            <td>3</td>\n",
              "        </tr>\n",
              "        <tr>\n",
              "            <td>CS-319</td>\n",
              "            <td>Image Processing</td>\n",
              "            <td>Comp. Sci.</td>\n",
              "            <td>3</td>\n",
              "        </tr>\n",
              "        <tr>\n",
              "            <td>CS-347</td>\n",
              "            <td>Database System Concepts</td>\n",
              "            <td>Comp. Sci.</td>\n",
              "            <td>3</td>\n",
              "        </tr>\n",
              "        <tr>\n",
              "            <td>EE-181</td>\n",
              "            <td>Intro. to Digital Systems</td>\n",
              "            <td>Elec. Eng.</td>\n",
              "            <td>3</td>\n",
              "        </tr>\n",
              "        <tr>\n",
              "            <td>FIN-201</td>\n",
              "            <td>Investment Banking</td>\n",
              "            <td>Finance</td>\n",
              "            <td>3</td>\n",
              "        </tr>\n",
              "        <tr>\n",
              "            <td>HIS-351</td>\n",
              "            <td>World History</td>\n",
              "            <td>History</td>\n",
              "            <td>3</td>\n",
              "        </tr>\n",
              "        <tr>\n",
              "            <td>MU-199</td>\n",
              "            <td>Music Video Production</td>\n",
              "            <td>Music</td>\n",
              "            <td>3</td>\n",
              "        </tr>\n",
              "        <tr>\n",
              "            <td>PHY-101</td>\n",
              "            <td>Physical Principles</td>\n",
              "            <td>Physics</td>\n",
              "            <td>4</td>\n",
              "        </tr>\n",
              "    </tbody>\n",
              "</table>"
            ]
          },
          "metadata": {},
          "execution_count": 11
        }
      ],
      "source": [
        "%%sql\n",
        "select * from course"
      ]
    },
    {
      "cell_type": "code",
      "execution_count": 12,
      "metadata": {
        "colab": {
          "base_uri": "https://localhost:8080/"
        },
        "id": "G36TKzG3UTcl",
        "outputId": "96521e17-4783-4f5f-e330-ff4d274c3381"
      },
      "outputs": [
        {
          "output_type": "stream",
          "name": "stdout",
          "text": [
            " * sqlite:///university.db\n",
            "Done.\n"
          ]
        },
        {
          "output_type": "execute_result",
          "data": {
            "text/plain": [
              "[]"
            ]
          },
          "metadata": {},
          "execution_count": 12
        }
      ],
      "source": [
        "%%sql\n",
        "create table instructor\n",
        "\t(ID\t\t\tvarchar(5), \n",
        "\t name\t\t\tvarchar(20) not null, \n",
        "\t dept_name\t\tvarchar(20), \n",
        "\t salary\t\t\tnumeric(8,2) check (salary > 29000),\n",
        "\t primary key (ID),\n",
        "\t foreign key (dept_name) references department (dept_name)\n",
        "\t\ton delete set null\n",
        "\t);"
      ]
    },
    {
      "cell_type": "code",
      "execution_count": 13,
      "metadata": {
        "colab": {
          "base_uri": "https://localhost:8080/"
        },
        "id": "PU3KZhLzXObp",
        "outputId": "8d640a51-7885-4e6b-e917-d57422c3a1fb"
      },
      "outputs": [
        {
          "output_type": "stream",
          "name": "stdout",
          "text": [
            " * sqlite:///university.db\n",
            "1 rows affected.\n",
            "1 rows affected.\n",
            "1 rows affected.\n",
            "1 rows affected.\n",
            "1 rows affected.\n",
            "1 rows affected.\n",
            "1 rows affected.\n",
            "1 rows affected.\n",
            "1 rows affected.\n",
            "1 rows affected.\n",
            "1 rows affected.\n",
            "1 rows affected.\n"
          ]
        },
        {
          "output_type": "execute_result",
          "data": {
            "text/plain": [
              "[]"
            ]
          },
          "metadata": {},
          "execution_count": 13
        }
      ],
      "source": [
        "%%sql\n",
        "insert into instructor values ('10101', 'Srinivasan', 'Comp. Sci.', '65000');\n",
        "insert into instructor values ('12121', 'Wu', 'Finance', '90000');\n",
        "insert into instructor values ('15151', 'Mozart', 'Music', '40000');\n",
        "insert into instructor values ('22222', 'Einstein', 'Physics', '95000');\n",
        "insert into instructor values ('32343', 'El Said', 'History', '60000');\n",
        "insert into instructor values ('33456', 'Gold', 'Physics', '87000');\n",
        "insert into instructor values ('45565', 'Katz', 'Comp. Sci.', '75000');\n",
        "insert into instructor values ('58583', 'Califieri', 'History', '62000');\n",
        "insert into instructor values ('76543', 'Singh', 'Finance', '80000');\n",
        "insert into instructor values ('76766', 'Crick', 'Biology', '72000');\n",
        "insert into instructor values ('83821', 'Brandt', 'Comp. Sci.', '92000');\n",
        "insert into instructor values ('98345', 'Kim', 'Elec. Eng.', '80000');"
      ]
    },
    {
      "cell_type": "code",
      "execution_count": 14,
      "metadata": {
        "colab": {
          "base_uri": "https://localhost:8080/",
          "height": 326
        },
        "id": "eqRak6-SXRtB",
        "outputId": "76a9d343-f92f-454e-df08-9eb729ba2950"
      },
      "outputs": [
        {
          "output_type": "stream",
          "name": "stdout",
          "text": [
            " * sqlite:///university.db\n",
            "Done.\n"
          ]
        },
        {
          "output_type": "execute_result",
          "data": {
            "text/plain": [
              "[('10101', 'Srinivasan', 'Comp. Sci.', 65000),\n",
              " ('12121', 'Wu', 'Finance', 90000),\n",
              " ('15151', 'Mozart', 'Music', 40000),\n",
              " ('22222', 'Einstein', 'Physics', 95000),\n",
              " ('32343', 'El Said', 'History', 60000),\n",
              " ('33456', 'Gold', 'Physics', 87000),\n",
              " ('45565', 'Katz', 'Comp. Sci.', 75000),\n",
              " ('58583', 'Califieri', 'History', 62000),\n",
              " ('76543', 'Singh', 'Finance', 80000),\n",
              " ('76766', 'Crick', 'Biology', 72000),\n",
              " ('83821', 'Brandt', 'Comp. Sci.', 92000),\n",
              " ('98345', 'Kim', 'Elec. Eng.', 80000)]"
            ],
            "text/html": [
              "<table>\n",
              "    <thead>\n",
              "        <tr>\n",
              "            <th>ID</th>\n",
              "            <th>name</th>\n",
              "            <th>dept_name</th>\n",
              "            <th>salary</th>\n",
              "        </tr>\n",
              "    </thead>\n",
              "    <tbody>\n",
              "        <tr>\n",
              "            <td>10101</td>\n",
              "            <td>Srinivasan</td>\n",
              "            <td>Comp. Sci.</td>\n",
              "            <td>65000</td>\n",
              "        </tr>\n",
              "        <tr>\n",
              "            <td>12121</td>\n",
              "            <td>Wu</td>\n",
              "            <td>Finance</td>\n",
              "            <td>90000</td>\n",
              "        </tr>\n",
              "        <tr>\n",
              "            <td>15151</td>\n",
              "            <td>Mozart</td>\n",
              "            <td>Music</td>\n",
              "            <td>40000</td>\n",
              "        </tr>\n",
              "        <tr>\n",
              "            <td>22222</td>\n",
              "            <td>Einstein</td>\n",
              "            <td>Physics</td>\n",
              "            <td>95000</td>\n",
              "        </tr>\n",
              "        <tr>\n",
              "            <td>32343</td>\n",
              "            <td>El Said</td>\n",
              "            <td>History</td>\n",
              "            <td>60000</td>\n",
              "        </tr>\n",
              "        <tr>\n",
              "            <td>33456</td>\n",
              "            <td>Gold</td>\n",
              "            <td>Physics</td>\n",
              "            <td>87000</td>\n",
              "        </tr>\n",
              "        <tr>\n",
              "            <td>45565</td>\n",
              "            <td>Katz</td>\n",
              "            <td>Comp. Sci.</td>\n",
              "            <td>75000</td>\n",
              "        </tr>\n",
              "        <tr>\n",
              "            <td>58583</td>\n",
              "            <td>Califieri</td>\n",
              "            <td>History</td>\n",
              "            <td>62000</td>\n",
              "        </tr>\n",
              "        <tr>\n",
              "            <td>76543</td>\n",
              "            <td>Singh</td>\n",
              "            <td>Finance</td>\n",
              "            <td>80000</td>\n",
              "        </tr>\n",
              "        <tr>\n",
              "            <td>76766</td>\n",
              "            <td>Crick</td>\n",
              "            <td>Biology</td>\n",
              "            <td>72000</td>\n",
              "        </tr>\n",
              "        <tr>\n",
              "            <td>83821</td>\n",
              "            <td>Brandt</td>\n",
              "            <td>Comp. Sci.</td>\n",
              "            <td>92000</td>\n",
              "        </tr>\n",
              "        <tr>\n",
              "            <td>98345</td>\n",
              "            <td>Kim</td>\n",
              "            <td>Elec. Eng.</td>\n",
              "            <td>80000</td>\n",
              "        </tr>\n",
              "    </tbody>\n",
              "</table>"
            ]
          },
          "metadata": {},
          "execution_count": 14
        }
      ],
      "source": [
        "%%sql\n",
        "select * from instructor"
      ]
    },
    {
      "cell_type": "code",
      "execution_count": 15,
      "metadata": {
        "colab": {
          "base_uri": "https://localhost:8080/"
        },
        "id": "sWLbxNk0UYPN",
        "outputId": "bac5bd97-1ae9-4fb9-beb6-d8e9b613b1ab"
      },
      "outputs": [
        {
          "output_type": "stream",
          "name": "stdout",
          "text": [
            " * sqlite:///university.db\n",
            "Done.\n"
          ]
        },
        {
          "output_type": "execute_result",
          "data": {
            "text/plain": [
              "[]"
            ]
          },
          "metadata": {},
          "execution_count": 15
        }
      ],
      "source": [
        "%%sql\n",
        "create table section\n",
        "\t(course_id\t\tvarchar(8), \n",
        "         sec_id\t\t\tvarchar(8),\n",
        "\t semester\t\tvarchar(6)\n",
        "\t\tcheck (semester in ('Fall', 'Winter', 'Spring', 'Summer')), \n",
        "\t year\t\t\tnumeric(4,0) check (year > 1701 and year < 2100), \n",
        "\t building\t\tvarchar(15),\n",
        "\t room_number\t\tvarchar(7),\n",
        "\t time_slot_id\t\tvarchar(4),\n",
        "\t primary key (course_id, sec_id, semester, year),\n",
        "\t foreign key (course_id) references course (course_id)\n",
        "\t\ton delete cascade,\n",
        "\t foreign key (building, room_number) references classroom (building, room_number)\n",
        "\t\ton delete set null\n",
        "\t);\n",
        "\n"
      ]
    },
    {
      "cell_type": "code",
      "execution_count": 16,
      "metadata": {
        "colab": {
          "base_uri": "https://localhost:8080/"
        },
        "id": "54eXml7AXamZ",
        "outputId": "862d85da-4786-4097-a1b2-937c9fa56ff8"
      },
      "outputs": [
        {
          "output_type": "stream",
          "name": "stdout",
          "text": [
            " * sqlite:///university.db\n",
            "1 rows affected.\n",
            "1 rows affected.\n",
            "1 rows affected.\n",
            "1 rows affected.\n",
            "1 rows affected.\n",
            "1 rows affected.\n",
            "1 rows affected.\n",
            "1 rows affected.\n",
            "1 rows affected.\n",
            "1 rows affected.\n",
            "1 rows affected.\n",
            "1 rows affected.\n",
            "1 rows affected.\n",
            "1 rows affected.\n",
            "1 rows affected.\n"
          ]
        },
        {
          "output_type": "execute_result",
          "data": {
            "text/plain": [
              "[]"
            ]
          },
          "metadata": {},
          "execution_count": 16
        }
      ],
      "source": [
        "%%sql\n",
        "insert into section values ('BIO-101', '1', 'Summer', '2017', 'Painter', '514', 'B');\n",
        "insert into section values ('BIO-301', '1', 'Summer', '2018', 'Painter', '514', 'A');\n",
        "insert into section values ('CS-101', '1', 'Fall', '2017', 'Packard', '101', 'H');\n",
        "insert into section values ('CS-101', '1', 'Spring', '2018', 'Packard', '101', 'F');\n",
        "insert into section values ('CS-190', '1', 'Spring', '2017', 'Taylor', '3128', 'E');\n",
        "insert into section values ('CS-190', '2', 'Spring', '2017', 'Taylor', '3128', 'A');\n",
        "insert into section values ('CS-315', '1', 'Spring', '2018', 'Watson', '120', 'D');\n",
        "insert into section values ('CS-319', '1', 'Spring', '2018', 'Watson', '100', 'B');\n",
        "insert into section values ('CS-319', '2', 'Spring', '2018', 'Taylor', '3128', 'C');\n",
        "insert into section values ('CS-347', '1', 'Fall', '2017', 'Taylor', '3128', 'A');\n",
        "insert into section values ('EE-181', '1', 'Spring', '2017', 'Taylor', '3128', 'C');\n",
        "insert into section values ('FIN-201', '1', 'Spring', '2018', 'Packard', '101', 'B');\n",
        "insert into section values ('HIS-351', '1', 'Spring', '2018', 'Painter', '514', 'C');\n",
        "insert into section values ('MU-199', '1', 'Spring', '2018', 'Packard', '101', 'D');\n",
        "insert into section values ('PHY-101', '1', 'Fall', '2017', 'Watson', '100', 'A');"
      ]
    },
    {
      "cell_type": "code",
      "execution_count": 17,
      "metadata": {
        "colab": {
          "base_uri": "https://localhost:8080/",
          "height": 389
        },
        "id": "wu99luVqXeC1",
        "outputId": "824e8dd0-1cbf-46eb-9645-8df34ce81807"
      },
      "outputs": [
        {
          "output_type": "stream",
          "name": "stdout",
          "text": [
            " * sqlite:///university.db\n",
            "Done.\n"
          ]
        },
        {
          "output_type": "execute_result",
          "data": {
            "text/plain": [
              "[('BIO-101', '1', 'Summer', 2017, 'Painter', '514', 'B'),\n",
              " ('BIO-301', '1', 'Summer', 2018, 'Painter', '514', 'A'),\n",
              " ('CS-101', '1', 'Fall', 2017, 'Packard', '101', 'H'),\n",
              " ('CS-101', '1', 'Spring', 2018, 'Packard', '101', 'F'),\n",
              " ('CS-190', '1', 'Spring', 2017, 'Taylor', '3128', 'E'),\n",
              " ('CS-190', '2', 'Spring', 2017, 'Taylor', '3128', 'A'),\n",
              " ('CS-315', '1', 'Spring', 2018, 'Watson', '120', 'D'),\n",
              " ('CS-319', '1', 'Spring', 2018, 'Watson', '100', 'B'),\n",
              " ('CS-319', '2', 'Spring', 2018, 'Taylor', '3128', 'C'),\n",
              " ('CS-347', '1', 'Fall', 2017, 'Taylor', '3128', 'A'),\n",
              " ('EE-181', '1', 'Spring', 2017, 'Taylor', '3128', 'C'),\n",
              " ('FIN-201', '1', 'Spring', 2018, 'Packard', '101', 'B'),\n",
              " ('HIS-351', '1', 'Spring', 2018, 'Painter', '514', 'C'),\n",
              " ('MU-199', '1', 'Spring', 2018, 'Packard', '101', 'D'),\n",
              " ('PHY-101', '1', 'Fall', 2017, 'Watson', '100', 'A')]"
            ],
            "text/html": [
              "<table>\n",
              "    <thead>\n",
              "        <tr>\n",
              "            <th>course_id</th>\n",
              "            <th>sec_id</th>\n",
              "            <th>semester</th>\n",
              "            <th>year</th>\n",
              "            <th>building</th>\n",
              "            <th>room_number</th>\n",
              "            <th>time_slot_id</th>\n",
              "        </tr>\n",
              "    </thead>\n",
              "    <tbody>\n",
              "        <tr>\n",
              "            <td>BIO-101</td>\n",
              "            <td>1</td>\n",
              "            <td>Summer</td>\n",
              "            <td>2017</td>\n",
              "            <td>Painter</td>\n",
              "            <td>514</td>\n",
              "            <td>B</td>\n",
              "        </tr>\n",
              "        <tr>\n",
              "            <td>BIO-301</td>\n",
              "            <td>1</td>\n",
              "            <td>Summer</td>\n",
              "            <td>2018</td>\n",
              "            <td>Painter</td>\n",
              "            <td>514</td>\n",
              "            <td>A</td>\n",
              "        </tr>\n",
              "        <tr>\n",
              "            <td>CS-101</td>\n",
              "            <td>1</td>\n",
              "            <td>Fall</td>\n",
              "            <td>2017</td>\n",
              "            <td>Packard</td>\n",
              "            <td>101</td>\n",
              "            <td>H</td>\n",
              "        </tr>\n",
              "        <tr>\n",
              "            <td>CS-101</td>\n",
              "            <td>1</td>\n",
              "            <td>Spring</td>\n",
              "            <td>2018</td>\n",
              "            <td>Packard</td>\n",
              "            <td>101</td>\n",
              "            <td>F</td>\n",
              "        </tr>\n",
              "        <tr>\n",
              "            <td>CS-190</td>\n",
              "            <td>1</td>\n",
              "            <td>Spring</td>\n",
              "            <td>2017</td>\n",
              "            <td>Taylor</td>\n",
              "            <td>3128</td>\n",
              "            <td>E</td>\n",
              "        </tr>\n",
              "        <tr>\n",
              "            <td>CS-190</td>\n",
              "            <td>2</td>\n",
              "            <td>Spring</td>\n",
              "            <td>2017</td>\n",
              "            <td>Taylor</td>\n",
              "            <td>3128</td>\n",
              "            <td>A</td>\n",
              "        </tr>\n",
              "        <tr>\n",
              "            <td>CS-315</td>\n",
              "            <td>1</td>\n",
              "            <td>Spring</td>\n",
              "            <td>2018</td>\n",
              "            <td>Watson</td>\n",
              "            <td>120</td>\n",
              "            <td>D</td>\n",
              "        </tr>\n",
              "        <tr>\n",
              "            <td>CS-319</td>\n",
              "            <td>1</td>\n",
              "            <td>Spring</td>\n",
              "            <td>2018</td>\n",
              "            <td>Watson</td>\n",
              "            <td>100</td>\n",
              "            <td>B</td>\n",
              "        </tr>\n",
              "        <tr>\n",
              "            <td>CS-319</td>\n",
              "            <td>2</td>\n",
              "            <td>Spring</td>\n",
              "            <td>2018</td>\n",
              "            <td>Taylor</td>\n",
              "            <td>3128</td>\n",
              "            <td>C</td>\n",
              "        </tr>\n",
              "        <tr>\n",
              "            <td>CS-347</td>\n",
              "            <td>1</td>\n",
              "            <td>Fall</td>\n",
              "            <td>2017</td>\n",
              "            <td>Taylor</td>\n",
              "            <td>3128</td>\n",
              "            <td>A</td>\n",
              "        </tr>\n",
              "        <tr>\n",
              "            <td>EE-181</td>\n",
              "            <td>1</td>\n",
              "            <td>Spring</td>\n",
              "            <td>2017</td>\n",
              "            <td>Taylor</td>\n",
              "            <td>3128</td>\n",
              "            <td>C</td>\n",
              "        </tr>\n",
              "        <tr>\n",
              "            <td>FIN-201</td>\n",
              "            <td>1</td>\n",
              "            <td>Spring</td>\n",
              "            <td>2018</td>\n",
              "            <td>Packard</td>\n",
              "            <td>101</td>\n",
              "            <td>B</td>\n",
              "        </tr>\n",
              "        <tr>\n",
              "            <td>HIS-351</td>\n",
              "            <td>1</td>\n",
              "            <td>Spring</td>\n",
              "            <td>2018</td>\n",
              "            <td>Painter</td>\n",
              "            <td>514</td>\n",
              "            <td>C</td>\n",
              "        </tr>\n",
              "        <tr>\n",
              "            <td>MU-199</td>\n",
              "            <td>1</td>\n",
              "            <td>Spring</td>\n",
              "            <td>2018</td>\n",
              "            <td>Packard</td>\n",
              "            <td>101</td>\n",
              "            <td>D</td>\n",
              "        </tr>\n",
              "        <tr>\n",
              "            <td>PHY-101</td>\n",
              "            <td>1</td>\n",
              "            <td>Fall</td>\n",
              "            <td>2017</td>\n",
              "            <td>Watson</td>\n",
              "            <td>100</td>\n",
              "            <td>A</td>\n",
              "        </tr>\n",
              "    </tbody>\n",
              "</table>"
            ]
          },
          "metadata": {},
          "execution_count": 17
        }
      ],
      "source": [
        "%%sql\n",
        "select * from section"
      ]
    },
    {
      "cell_type": "code",
      "execution_count": 18,
      "metadata": {
        "colab": {
          "base_uri": "https://localhost:8080/"
        },
        "id": "Wu3Q_KNfUpmw",
        "outputId": "20b93311-2e7d-4d35-d941-ae4abad4a593"
      },
      "outputs": [
        {
          "output_type": "stream",
          "name": "stdout",
          "text": [
            " * sqlite:///university.db\n",
            "Done.\n"
          ]
        },
        {
          "output_type": "execute_result",
          "data": {
            "text/plain": [
              "[]"
            ]
          },
          "metadata": {},
          "execution_count": 18
        }
      ],
      "source": [
        "%%sql\n",
        "create table teaches\n",
        "\t(ID\t\t\tvarchar(5), \n",
        "\t course_id\t\tvarchar(8),\n",
        "\t sec_id\t\t\tvarchar(8), \n",
        "\t semester\t\tvarchar(6),\n",
        "\t year\t\t\tnumeric(4,0),\n",
        "\t primary key (ID, course_id, sec_id, semester, year),\n",
        "\t foreign key (course_id, sec_id, semester, year) references section (course_id, sec_id, semester, year)\n",
        "\t\ton delete cascade,\n",
        "\t foreign key (ID) references instructor (ID)\n",
        "\t\ton delete cascade\n",
        "\t);"
      ]
    },
    {
      "cell_type": "code",
      "execution_count": 19,
      "metadata": {
        "colab": {
          "base_uri": "https://localhost:8080/"
        },
        "id": "qIBm-kLXXmpZ",
        "outputId": "af91b476-68dd-46a3-d4c1-e948bc9f949b"
      },
      "outputs": [
        {
          "output_type": "stream",
          "name": "stdout",
          "text": [
            " * sqlite:///university.db\n",
            "1 rows affected.\n",
            "1 rows affected.\n",
            "1 rows affected.\n",
            "1 rows affected.\n",
            "1 rows affected.\n",
            "1 rows affected.\n",
            "1 rows affected.\n",
            "1 rows affected.\n",
            "1 rows affected.\n",
            "1 rows affected.\n",
            "1 rows affected.\n",
            "1 rows affected.\n",
            "1 rows affected.\n",
            "1 rows affected.\n",
            "1 rows affected.\n"
          ]
        },
        {
          "output_type": "execute_result",
          "data": {
            "text/plain": [
              "[]"
            ]
          },
          "metadata": {},
          "execution_count": 19
        }
      ],
      "source": [
        "%%sql\n",
        "insert into teaches values ('10101', 'CS-101', '1', 'Fall', '2017');\n",
        "insert into teaches values ('10101', 'CS-315', '1', 'Spring', '2018');\n",
        "insert into teaches values ('10101', 'CS-347', '1', 'Fall', '2017');\n",
        "insert into teaches values ('12121', 'FIN-201', '1', 'Spring', '2018');\n",
        "insert into teaches values ('15151', 'MU-199', '1', 'Spring', '2018');\n",
        "insert into teaches values ('22222', 'PHY-101', '1', 'Fall', '2017');\n",
        "insert into teaches values ('32343', 'HIS-351', '1', 'Spring', '2018');\n",
        "insert into teaches values ('45565', 'CS-101', '1', 'Spring', '2018');\n",
        "insert into teaches values ('45565', 'CS-319', '1', 'Spring', '2018');\n",
        "insert into teaches values ('76766', 'BIO-101', '1', 'Summer', '2017');\n",
        "insert into teaches values ('76766', 'BIO-301', '1', 'Summer', '2018');\n",
        "insert into teaches values ('83821', 'CS-190', '1', 'Spring', '2017');\n",
        "insert into teaches values ('83821', 'CS-190', '2', 'Spring', '2017');\n",
        "insert into teaches values ('83821', 'CS-319', '2', 'Spring', '2018');\n",
        "insert into teaches values ('98345', 'EE-181', '1', 'Spring', '2017');"
      ]
    },
    {
      "cell_type": "code",
      "execution_count": 20,
      "metadata": {
        "colab": {
          "base_uri": "https://localhost:8080/",
          "height": 389
        },
        "id": "JGLuABP-XobS",
        "outputId": "57179646-d2cb-45be-f9bb-49e424fc99a8"
      },
      "outputs": [
        {
          "output_type": "stream",
          "name": "stdout",
          "text": [
            " * sqlite:///university.db\n",
            "Done.\n"
          ]
        },
        {
          "output_type": "execute_result",
          "data": {
            "text/plain": [
              "[('10101', 'CS-101', '1', 'Fall', 2017),\n",
              " ('10101', 'CS-315', '1', 'Spring', 2018),\n",
              " ('10101', 'CS-347', '1', 'Fall', 2017),\n",
              " ('12121', 'FIN-201', '1', 'Spring', 2018),\n",
              " ('15151', 'MU-199', '1', 'Spring', 2018),\n",
              " ('22222', 'PHY-101', '1', 'Fall', 2017),\n",
              " ('32343', 'HIS-351', '1', 'Spring', 2018),\n",
              " ('45565', 'CS-101', '1', 'Spring', 2018),\n",
              " ('45565', 'CS-319', '1', 'Spring', 2018),\n",
              " ('76766', 'BIO-101', '1', 'Summer', 2017),\n",
              " ('76766', 'BIO-301', '1', 'Summer', 2018),\n",
              " ('83821', 'CS-190', '1', 'Spring', 2017),\n",
              " ('83821', 'CS-190', '2', 'Spring', 2017),\n",
              " ('83821', 'CS-319', '2', 'Spring', 2018),\n",
              " ('98345', 'EE-181', '1', 'Spring', 2017)]"
            ],
            "text/html": [
              "<table>\n",
              "    <thead>\n",
              "        <tr>\n",
              "            <th>ID</th>\n",
              "            <th>course_id</th>\n",
              "            <th>sec_id</th>\n",
              "            <th>semester</th>\n",
              "            <th>year</th>\n",
              "        </tr>\n",
              "    </thead>\n",
              "    <tbody>\n",
              "        <tr>\n",
              "            <td>10101</td>\n",
              "            <td>CS-101</td>\n",
              "            <td>1</td>\n",
              "            <td>Fall</td>\n",
              "            <td>2017</td>\n",
              "        </tr>\n",
              "        <tr>\n",
              "            <td>10101</td>\n",
              "            <td>CS-315</td>\n",
              "            <td>1</td>\n",
              "            <td>Spring</td>\n",
              "            <td>2018</td>\n",
              "        </tr>\n",
              "        <tr>\n",
              "            <td>10101</td>\n",
              "            <td>CS-347</td>\n",
              "            <td>1</td>\n",
              "            <td>Fall</td>\n",
              "            <td>2017</td>\n",
              "        </tr>\n",
              "        <tr>\n",
              "            <td>12121</td>\n",
              "            <td>FIN-201</td>\n",
              "            <td>1</td>\n",
              "            <td>Spring</td>\n",
              "            <td>2018</td>\n",
              "        </tr>\n",
              "        <tr>\n",
              "            <td>15151</td>\n",
              "            <td>MU-199</td>\n",
              "            <td>1</td>\n",
              "            <td>Spring</td>\n",
              "            <td>2018</td>\n",
              "        </tr>\n",
              "        <tr>\n",
              "            <td>22222</td>\n",
              "            <td>PHY-101</td>\n",
              "            <td>1</td>\n",
              "            <td>Fall</td>\n",
              "            <td>2017</td>\n",
              "        </tr>\n",
              "        <tr>\n",
              "            <td>32343</td>\n",
              "            <td>HIS-351</td>\n",
              "            <td>1</td>\n",
              "            <td>Spring</td>\n",
              "            <td>2018</td>\n",
              "        </tr>\n",
              "        <tr>\n",
              "            <td>45565</td>\n",
              "            <td>CS-101</td>\n",
              "            <td>1</td>\n",
              "            <td>Spring</td>\n",
              "            <td>2018</td>\n",
              "        </tr>\n",
              "        <tr>\n",
              "            <td>45565</td>\n",
              "            <td>CS-319</td>\n",
              "            <td>1</td>\n",
              "            <td>Spring</td>\n",
              "            <td>2018</td>\n",
              "        </tr>\n",
              "        <tr>\n",
              "            <td>76766</td>\n",
              "            <td>BIO-101</td>\n",
              "            <td>1</td>\n",
              "            <td>Summer</td>\n",
              "            <td>2017</td>\n",
              "        </tr>\n",
              "        <tr>\n",
              "            <td>76766</td>\n",
              "            <td>BIO-301</td>\n",
              "            <td>1</td>\n",
              "            <td>Summer</td>\n",
              "            <td>2018</td>\n",
              "        </tr>\n",
              "        <tr>\n",
              "            <td>83821</td>\n",
              "            <td>CS-190</td>\n",
              "            <td>1</td>\n",
              "            <td>Spring</td>\n",
              "            <td>2017</td>\n",
              "        </tr>\n",
              "        <tr>\n",
              "            <td>83821</td>\n",
              "            <td>CS-190</td>\n",
              "            <td>2</td>\n",
              "            <td>Spring</td>\n",
              "            <td>2017</td>\n",
              "        </tr>\n",
              "        <tr>\n",
              "            <td>83821</td>\n",
              "            <td>CS-319</td>\n",
              "            <td>2</td>\n",
              "            <td>Spring</td>\n",
              "            <td>2018</td>\n",
              "        </tr>\n",
              "        <tr>\n",
              "            <td>98345</td>\n",
              "            <td>EE-181</td>\n",
              "            <td>1</td>\n",
              "            <td>Spring</td>\n",
              "            <td>2017</td>\n",
              "        </tr>\n",
              "    </tbody>\n",
              "</table>"
            ]
          },
          "metadata": {},
          "execution_count": 20
        }
      ],
      "source": [
        "%%sql\n",
        "select * from teaches"
      ]
    },
    {
      "cell_type": "code",
      "execution_count": 21,
      "metadata": {
        "colab": {
          "base_uri": "https://localhost:8080/"
        },
        "id": "gTJcX0LXUxTR",
        "outputId": "de15eded-32c7-4ee5-f71d-1ab02fd1f158"
      },
      "outputs": [
        {
          "output_type": "stream",
          "name": "stdout",
          "text": [
            " * sqlite:///university.db\n",
            "Done.\n"
          ]
        },
        {
          "output_type": "execute_result",
          "data": {
            "text/plain": [
              "[]"
            ]
          },
          "metadata": {},
          "execution_count": 21
        }
      ],
      "source": [
        "%%sql\n",
        "create table student\n",
        "\t(ID\t\t\tvarchar(5), \n",
        "\t name\t\t\tvarchar(20) not null, \n",
        "\t dept_name\t\tvarchar(20), \n",
        "\t tot_cred\t\tnumeric(3,0) check (tot_cred >= 0),\n",
        "\t primary key (ID),\n",
        "\t foreign key (dept_name) references department (dept_name)\n",
        "\t\ton delete set null\n",
        "\t);\n",
        "\n"
      ]
    },
    {
      "cell_type": "code",
      "execution_count": 22,
      "metadata": {
        "colab": {
          "base_uri": "https://localhost:8080/"
        },
        "id": "CT8R69vHXvAu",
        "outputId": "dc364b47-6b4d-495f-9b62-d4c54e79748c"
      },
      "outputs": [
        {
          "output_type": "stream",
          "name": "stdout",
          "text": [
            " * sqlite:///university.db\n",
            "1 rows affected.\n",
            "1 rows affected.\n",
            "1 rows affected.\n",
            "1 rows affected.\n",
            "1 rows affected.\n",
            "1 rows affected.\n",
            "1 rows affected.\n",
            "1 rows affected.\n",
            "1 rows affected.\n",
            "1 rows affected.\n",
            "1 rows affected.\n",
            "1 rows affected.\n",
            "1 rows affected.\n"
          ]
        },
        {
          "output_type": "execute_result",
          "data": {
            "text/plain": [
              "[]"
            ]
          },
          "metadata": {},
          "execution_count": 22
        }
      ],
      "source": [
        "%%sql\n",
        "\n",
        "insert into student values ('00128', 'Zhang', 'Comp. Sci.', '102');\n",
        "insert into student values ('12345', 'Shankar', 'Comp. Sci.', '32');\n",
        "insert into student values ('19991', 'Brandt', 'History', '80');\n",
        "insert into student values ('23121', 'Chavez', 'Finance', '110');\n",
        "insert into student values ('44553', 'Peltier', 'Physics', '56');\n",
        "insert into student values ('45678', 'Levy', 'Physics', '46');\n",
        "insert into student values ('54321', 'Williams', 'Comp. Sci.', '54');\n",
        "insert into student values ('55739', 'Sanchez', 'Music', '38');\n",
        "insert into student values ('70557', 'Snow', 'Physics', '0');\n",
        "insert into student values ('76543', 'Brown', 'Comp. Sci.', '58');\n",
        "insert into student values ('76653', 'Aoi', 'Elec. Eng.', '60');\n",
        "insert into student values ('98765', 'Bourikas', 'Elec. Eng.', '98');\n",
        "insert into student values ('98988', 'Tanaka', 'Biology', '120');"
      ]
    },
    {
      "cell_type": "code",
      "execution_count": 23,
      "metadata": {
        "colab": {
          "base_uri": "https://localhost:8080/",
          "height": 347
        },
        "id": "Qf81BKWSXwpd",
        "outputId": "4b2cca92-6aec-4438-8fc9-d5eaabd95906"
      },
      "outputs": [
        {
          "output_type": "stream",
          "name": "stdout",
          "text": [
            " * sqlite:///university.db\n",
            "Done.\n"
          ]
        },
        {
          "output_type": "execute_result",
          "data": {
            "text/plain": [
              "[('00128', 'Zhang', 'Comp. Sci.', 102),\n",
              " ('12345', 'Shankar', 'Comp. Sci.', 32),\n",
              " ('19991', 'Brandt', 'History', 80),\n",
              " ('23121', 'Chavez', 'Finance', 110),\n",
              " ('44553', 'Peltier', 'Physics', 56),\n",
              " ('45678', 'Levy', 'Physics', 46),\n",
              " ('54321', 'Williams', 'Comp. Sci.', 54),\n",
              " ('55739', 'Sanchez', 'Music', 38),\n",
              " ('70557', 'Snow', 'Physics', 0),\n",
              " ('76543', 'Brown', 'Comp. Sci.', 58),\n",
              " ('76653', 'Aoi', 'Elec. Eng.', 60),\n",
              " ('98765', 'Bourikas', 'Elec. Eng.', 98),\n",
              " ('98988', 'Tanaka', 'Biology', 120)]"
            ],
            "text/html": [
              "<table>\n",
              "    <thead>\n",
              "        <tr>\n",
              "            <th>ID</th>\n",
              "            <th>name</th>\n",
              "            <th>dept_name</th>\n",
              "            <th>tot_cred</th>\n",
              "        </tr>\n",
              "    </thead>\n",
              "    <tbody>\n",
              "        <tr>\n",
              "            <td>00128</td>\n",
              "            <td>Zhang</td>\n",
              "            <td>Comp. Sci.</td>\n",
              "            <td>102</td>\n",
              "        </tr>\n",
              "        <tr>\n",
              "            <td>12345</td>\n",
              "            <td>Shankar</td>\n",
              "            <td>Comp. Sci.</td>\n",
              "            <td>32</td>\n",
              "        </tr>\n",
              "        <tr>\n",
              "            <td>19991</td>\n",
              "            <td>Brandt</td>\n",
              "            <td>History</td>\n",
              "            <td>80</td>\n",
              "        </tr>\n",
              "        <tr>\n",
              "            <td>23121</td>\n",
              "            <td>Chavez</td>\n",
              "            <td>Finance</td>\n",
              "            <td>110</td>\n",
              "        </tr>\n",
              "        <tr>\n",
              "            <td>44553</td>\n",
              "            <td>Peltier</td>\n",
              "            <td>Physics</td>\n",
              "            <td>56</td>\n",
              "        </tr>\n",
              "        <tr>\n",
              "            <td>45678</td>\n",
              "            <td>Levy</td>\n",
              "            <td>Physics</td>\n",
              "            <td>46</td>\n",
              "        </tr>\n",
              "        <tr>\n",
              "            <td>54321</td>\n",
              "            <td>Williams</td>\n",
              "            <td>Comp. Sci.</td>\n",
              "            <td>54</td>\n",
              "        </tr>\n",
              "        <tr>\n",
              "            <td>55739</td>\n",
              "            <td>Sanchez</td>\n",
              "            <td>Music</td>\n",
              "            <td>38</td>\n",
              "        </tr>\n",
              "        <tr>\n",
              "            <td>70557</td>\n",
              "            <td>Snow</td>\n",
              "            <td>Physics</td>\n",
              "            <td>0</td>\n",
              "        </tr>\n",
              "        <tr>\n",
              "            <td>76543</td>\n",
              "            <td>Brown</td>\n",
              "            <td>Comp. Sci.</td>\n",
              "            <td>58</td>\n",
              "        </tr>\n",
              "        <tr>\n",
              "            <td>76653</td>\n",
              "            <td>Aoi</td>\n",
              "            <td>Elec. Eng.</td>\n",
              "            <td>60</td>\n",
              "        </tr>\n",
              "        <tr>\n",
              "            <td>98765</td>\n",
              "            <td>Bourikas</td>\n",
              "            <td>Elec. Eng.</td>\n",
              "            <td>98</td>\n",
              "        </tr>\n",
              "        <tr>\n",
              "            <td>98988</td>\n",
              "            <td>Tanaka</td>\n",
              "            <td>Biology</td>\n",
              "            <td>120</td>\n",
              "        </tr>\n",
              "    </tbody>\n",
              "</table>"
            ]
          },
          "metadata": {},
          "execution_count": 23
        }
      ],
      "source": [
        "%%sql\n",
        "select * from student"
      ]
    },
    {
      "cell_type": "code",
      "execution_count": 24,
      "metadata": {
        "colab": {
          "base_uri": "https://localhost:8080/"
        },
        "id": "bXK9eg0BU0Q0",
        "outputId": "90e61f96-2ab4-4087-e094-24b08369b798"
      },
      "outputs": [
        {
          "output_type": "stream",
          "name": "stdout",
          "text": [
            " * sqlite:///university.db\n",
            "Done.\n"
          ]
        },
        {
          "output_type": "execute_result",
          "data": {
            "text/plain": [
              "[]"
            ]
          },
          "metadata": {},
          "execution_count": 24
        }
      ],
      "source": [
        "%%sql\n",
        "create table takes\n",
        "\t(ID\t\t\tvarchar(5), \n",
        "\t course_id\t\tvarchar(8),\n",
        "\t sec_id\t\t\tvarchar(8), \n",
        "\t semester\t\tvarchar(6),\n",
        "\t year\t\t\tnumeric(4,0),\n",
        "\t grade\t\t        varchar(2),\n",
        "\t primary key (ID, course_id, sec_id, semester, year),\n",
        "\t foreign key (course_id, sec_id, semester, year) references section (course_id, sec_id, semester, year)\n",
        "\t\ton delete cascade,\n",
        "\t foreign key (ID) references student (ID)\n",
        "\t\ton delete cascade\n",
        "\t);\n",
        "\n"
      ]
    },
    {
      "cell_type": "code",
      "execution_count": 25,
      "metadata": {
        "colab": {
          "base_uri": "https://localhost:8080/"
        },
        "id": "Oc7DfMI0X5db",
        "outputId": "9cfb3fd7-e8c2-4ed8-92d4-85c50e002b44"
      },
      "outputs": [
        {
          "output_type": "stream",
          "name": "stdout",
          "text": [
            " * sqlite:///university.db\n",
            "1 rows affected.\n",
            "1 rows affected.\n",
            "1 rows affected.\n",
            "1 rows affected.\n",
            "1 rows affected.\n",
            "1 rows affected.\n",
            "1 rows affected.\n",
            "1 rows affected.\n",
            "1 rows affected.\n",
            "1 rows affected.\n",
            "1 rows affected.\n",
            "1 rows affected.\n",
            "1 rows affected.\n",
            "1 rows affected.\n",
            "1 rows affected.\n",
            "1 rows affected.\n",
            "1 rows affected.\n",
            "1 rows affected.\n",
            "1 rows affected.\n",
            "1 rows affected.\n",
            "1 rows affected.\n",
            "1 rows affected.\n"
          ]
        },
        {
          "output_type": "execute_result",
          "data": {
            "text/plain": [
              "[]"
            ]
          },
          "metadata": {},
          "execution_count": 25
        }
      ],
      "source": [
        "%%sql\n",
        "insert into takes values ('00128', 'CS-101', '1', 'Fall', '2017', 'A');\n",
        "insert into takes values ('00128', 'CS-347', '1', 'Fall', '2017', 'A-');\n",
        "insert into takes values ('12345', 'CS-101', '1', 'Fall', '2017', 'C');\n",
        "insert into takes values ('12345', 'CS-190', '2', 'Spring', '2017', 'A');\n",
        "insert into takes values ('12345', 'CS-315', '1', 'Spring', '2018', 'A');\n",
        "insert into takes values ('12345', 'CS-347', '1', 'Fall', '2017', 'A');\n",
        "insert into takes values ('19991', 'HIS-351', '1', 'Spring', '2018', 'B');\n",
        "insert into takes values ('23121', 'FIN-201', '1', 'Spring', '2018', 'C+');\n",
        "insert into takes values ('44553', 'PHY-101', '1', 'Fall', '2017', 'B-');\n",
        "insert into takes values ('45678', 'CS-101', '1', 'Fall', '2017', 'F');\n",
        "insert into takes values ('45678', 'CS-101', '1', 'Spring', '2018', 'B+');\n",
        "insert into takes values ('45678', 'CS-319', '1', 'Spring', '2018', 'B');\n",
        "insert into takes values ('54321', 'CS-101', '1', 'Fall', '2017', 'A-');\n",
        "insert into takes values ('54321', 'CS-190', '2', 'Spring', '2017', 'B+');\n",
        "insert into takes values ('55739', 'MU-199', '1', 'Spring', '2018', 'A-');\n",
        "insert into takes values ('76543', 'CS-101', '1', 'Fall', '2017', 'A');\n",
        "insert into takes values ('76543', 'CS-319', '2', 'Spring', '2018', 'A');\n",
        "insert into takes values ('76653', 'EE-181', '1', 'Spring', '2017', 'C');\n",
        "insert into takes values ('98765', 'CS-101', '1', 'Fall', '2017', 'C-');\n",
        "insert into takes values ('98765', 'CS-315', '1', 'Spring', '2018', 'B');\n",
        "insert into takes values ('98988', 'BIO-101', '1', 'Summer', '2017', 'A');\n",
        "insert into takes values ('98988', 'BIO-301', '1', 'Summer', '2018', null);"
      ]
    },
    {
      "cell_type": "code",
      "execution_count": 26,
      "metadata": {
        "colab": {
          "base_uri": "https://localhost:8080/",
          "height": 535
        },
        "id": "N2JrisKBX8Qk",
        "outputId": "6fb469e4-93ed-4e2e-98d0-320ba46d5656"
      },
      "outputs": [
        {
          "output_type": "stream",
          "name": "stdout",
          "text": [
            " * sqlite:///university.db\n",
            "Done.\n"
          ]
        },
        {
          "output_type": "execute_result",
          "data": {
            "text/plain": [
              "[('00128', 'CS-101', '1', 'Fall', 2017, 'A'),\n",
              " ('00128', 'CS-347', '1', 'Fall', 2017, 'A-'),\n",
              " ('12345', 'CS-101', '1', 'Fall', 2017, 'C'),\n",
              " ('12345', 'CS-190', '2', 'Spring', 2017, 'A'),\n",
              " ('12345', 'CS-315', '1', 'Spring', 2018, 'A'),\n",
              " ('12345', 'CS-347', '1', 'Fall', 2017, 'A'),\n",
              " ('19991', 'HIS-351', '1', 'Spring', 2018, 'B'),\n",
              " ('23121', 'FIN-201', '1', 'Spring', 2018, 'C+'),\n",
              " ('44553', 'PHY-101', '1', 'Fall', 2017, 'B-'),\n",
              " ('45678', 'CS-101', '1', 'Fall', 2017, 'F'),\n",
              " ('45678', 'CS-101', '1', 'Spring', 2018, 'B+'),\n",
              " ('45678', 'CS-319', '1', 'Spring', 2018, 'B'),\n",
              " ('54321', 'CS-101', '1', 'Fall', 2017, 'A-'),\n",
              " ('54321', 'CS-190', '2', 'Spring', 2017, 'B+'),\n",
              " ('55739', 'MU-199', '1', 'Spring', 2018, 'A-'),\n",
              " ('76543', 'CS-101', '1', 'Fall', 2017, 'A'),\n",
              " ('76543', 'CS-319', '2', 'Spring', 2018, 'A'),\n",
              " ('76653', 'EE-181', '1', 'Spring', 2017, 'C'),\n",
              " ('98765', 'CS-101', '1', 'Fall', 2017, 'C-'),\n",
              " ('98765', 'CS-315', '1', 'Spring', 2018, 'B'),\n",
              " ('98988', 'BIO-101', '1', 'Summer', 2017, 'A'),\n",
              " ('98988', 'BIO-301', '1', 'Summer', 2018, None)]"
            ],
            "text/html": [
              "<table>\n",
              "    <thead>\n",
              "        <tr>\n",
              "            <th>ID</th>\n",
              "            <th>course_id</th>\n",
              "            <th>sec_id</th>\n",
              "            <th>semester</th>\n",
              "            <th>year</th>\n",
              "            <th>grade</th>\n",
              "        </tr>\n",
              "    </thead>\n",
              "    <tbody>\n",
              "        <tr>\n",
              "            <td>00128</td>\n",
              "            <td>CS-101</td>\n",
              "            <td>1</td>\n",
              "            <td>Fall</td>\n",
              "            <td>2017</td>\n",
              "            <td>A</td>\n",
              "        </tr>\n",
              "        <tr>\n",
              "            <td>00128</td>\n",
              "            <td>CS-347</td>\n",
              "            <td>1</td>\n",
              "            <td>Fall</td>\n",
              "            <td>2017</td>\n",
              "            <td>A-</td>\n",
              "        </tr>\n",
              "        <tr>\n",
              "            <td>12345</td>\n",
              "            <td>CS-101</td>\n",
              "            <td>1</td>\n",
              "            <td>Fall</td>\n",
              "            <td>2017</td>\n",
              "            <td>C</td>\n",
              "        </tr>\n",
              "        <tr>\n",
              "            <td>12345</td>\n",
              "            <td>CS-190</td>\n",
              "            <td>2</td>\n",
              "            <td>Spring</td>\n",
              "            <td>2017</td>\n",
              "            <td>A</td>\n",
              "        </tr>\n",
              "        <tr>\n",
              "            <td>12345</td>\n",
              "            <td>CS-315</td>\n",
              "            <td>1</td>\n",
              "            <td>Spring</td>\n",
              "            <td>2018</td>\n",
              "            <td>A</td>\n",
              "        </tr>\n",
              "        <tr>\n",
              "            <td>12345</td>\n",
              "            <td>CS-347</td>\n",
              "            <td>1</td>\n",
              "            <td>Fall</td>\n",
              "            <td>2017</td>\n",
              "            <td>A</td>\n",
              "        </tr>\n",
              "        <tr>\n",
              "            <td>19991</td>\n",
              "            <td>HIS-351</td>\n",
              "            <td>1</td>\n",
              "            <td>Spring</td>\n",
              "            <td>2018</td>\n",
              "            <td>B</td>\n",
              "        </tr>\n",
              "        <tr>\n",
              "            <td>23121</td>\n",
              "            <td>FIN-201</td>\n",
              "            <td>1</td>\n",
              "            <td>Spring</td>\n",
              "            <td>2018</td>\n",
              "            <td>C+</td>\n",
              "        </tr>\n",
              "        <tr>\n",
              "            <td>44553</td>\n",
              "            <td>PHY-101</td>\n",
              "            <td>1</td>\n",
              "            <td>Fall</td>\n",
              "            <td>2017</td>\n",
              "            <td>B-</td>\n",
              "        </tr>\n",
              "        <tr>\n",
              "            <td>45678</td>\n",
              "            <td>CS-101</td>\n",
              "            <td>1</td>\n",
              "            <td>Fall</td>\n",
              "            <td>2017</td>\n",
              "            <td>F</td>\n",
              "        </tr>\n",
              "        <tr>\n",
              "            <td>45678</td>\n",
              "            <td>CS-101</td>\n",
              "            <td>1</td>\n",
              "            <td>Spring</td>\n",
              "            <td>2018</td>\n",
              "            <td>B+</td>\n",
              "        </tr>\n",
              "        <tr>\n",
              "            <td>45678</td>\n",
              "            <td>CS-319</td>\n",
              "            <td>1</td>\n",
              "            <td>Spring</td>\n",
              "            <td>2018</td>\n",
              "            <td>B</td>\n",
              "        </tr>\n",
              "        <tr>\n",
              "            <td>54321</td>\n",
              "            <td>CS-101</td>\n",
              "            <td>1</td>\n",
              "            <td>Fall</td>\n",
              "            <td>2017</td>\n",
              "            <td>A-</td>\n",
              "        </tr>\n",
              "        <tr>\n",
              "            <td>54321</td>\n",
              "            <td>CS-190</td>\n",
              "            <td>2</td>\n",
              "            <td>Spring</td>\n",
              "            <td>2017</td>\n",
              "            <td>B+</td>\n",
              "        </tr>\n",
              "        <tr>\n",
              "            <td>55739</td>\n",
              "            <td>MU-199</td>\n",
              "            <td>1</td>\n",
              "            <td>Spring</td>\n",
              "            <td>2018</td>\n",
              "            <td>A-</td>\n",
              "        </tr>\n",
              "        <tr>\n",
              "            <td>76543</td>\n",
              "            <td>CS-101</td>\n",
              "            <td>1</td>\n",
              "            <td>Fall</td>\n",
              "            <td>2017</td>\n",
              "            <td>A</td>\n",
              "        </tr>\n",
              "        <tr>\n",
              "            <td>76543</td>\n",
              "            <td>CS-319</td>\n",
              "            <td>2</td>\n",
              "            <td>Spring</td>\n",
              "            <td>2018</td>\n",
              "            <td>A</td>\n",
              "        </tr>\n",
              "        <tr>\n",
              "            <td>76653</td>\n",
              "            <td>EE-181</td>\n",
              "            <td>1</td>\n",
              "            <td>Spring</td>\n",
              "            <td>2017</td>\n",
              "            <td>C</td>\n",
              "        </tr>\n",
              "        <tr>\n",
              "            <td>98765</td>\n",
              "            <td>CS-101</td>\n",
              "            <td>1</td>\n",
              "            <td>Fall</td>\n",
              "            <td>2017</td>\n",
              "            <td>C-</td>\n",
              "        </tr>\n",
              "        <tr>\n",
              "            <td>98765</td>\n",
              "            <td>CS-315</td>\n",
              "            <td>1</td>\n",
              "            <td>Spring</td>\n",
              "            <td>2018</td>\n",
              "            <td>B</td>\n",
              "        </tr>\n",
              "        <tr>\n",
              "            <td>98988</td>\n",
              "            <td>BIO-101</td>\n",
              "            <td>1</td>\n",
              "            <td>Summer</td>\n",
              "            <td>2017</td>\n",
              "            <td>A</td>\n",
              "        </tr>\n",
              "        <tr>\n",
              "            <td>98988</td>\n",
              "            <td>BIO-301</td>\n",
              "            <td>1</td>\n",
              "            <td>Summer</td>\n",
              "            <td>2018</td>\n",
              "            <td>None</td>\n",
              "        </tr>\n",
              "    </tbody>\n",
              "</table>"
            ]
          },
          "metadata": {},
          "execution_count": 26
        }
      ],
      "source": [
        "%%sql\n",
        "select * from takes\n"
      ]
    },
    {
      "cell_type": "code",
      "execution_count": 27,
      "metadata": {
        "colab": {
          "base_uri": "https://localhost:8080/"
        },
        "id": "1kiIVWk-VBwY",
        "outputId": "8515f4db-fc9d-486a-85cb-b9b03e1fa1ba"
      },
      "outputs": [
        {
          "output_type": "stream",
          "name": "stdout",
          "text": [
            " * sqlite:///university.db\n",
            "Done.\n"
          ]
        },
        {
          "output_type": "execute_result",
          "data": {
            "text/plain": [
              "[]"
            ]
          },
          "metadata": {},
          "execution_count": 27
        }
      ],
      "source": [
        "%%sql\n",
        "create table advisor\n",
        "\t(s_ID\t\t\tvarchar(5),\n",
        "\t i_ID\t\t\tvarchar(5),\n",
        "\t primary key (s_ID),\n",
        "\t foreign key (i_ID) references instructor (ID)\n",
        "\t\ton delete set null,\n",
        "\t foreign key (s_ID) references student (ID)\n",
        "\t\ton delete cascade\n",
        "\t);\n",
        "\n"
      ]
    },
    {
      "cell_type": "code",
      "execution_count": 28,
      "metadata": {
        "colab": {
          "base_uri": "https://localhost:8080/"
        },
        "id": "8tinJCDhYE-H",
        "outputId": "cc6f19d3-ffbd-4b7d-a181-a4ad76da347d"
      },
      "outputs": [
        {
          "output_type": "stream",
          "name": "stdout",
          "text": [
            " * sqlite:///university.db\n",
            "1 rows affected.\n",
            "1 rows affected.\n",
            "1 rows affected.\n",
            "1 rows affected.\n",
            "1 rows affected.\n",
            "1 rows affected.\n",
            "1 rows affected.\n",
            "1 rows affected.\n",
            "1 rows affected.\n"
          ]
        },
        {
          "output_type": "execute_result",
          "data": {
            "text/plain": [
              "[]"
            ]
          },
          "metadata": {},
          "execution_count": 28
        }
      ],
      "source": [
        "%%sql\n",
        "insert into advisor values ('00128', '45565');\n",
        "insert into advisor values ('12345', '10101');\n",
        "insert into advisor values ('23121', '76543');\n",
        "insert into advisor values ('44553', '22222');\n",
        "insert into advisor values ('45678', '22222');\n",
        "insert into advisor values ('76543', '45565');\n",
        "insert into advisor values ('76653', '98345');\n",
        "insert into advisor values ('98765', '98345');\n",
        "insert into advisor values ('98988', '76766');"
      ]
    },
    {
      "cell_type": "code",
      "execution_count": 29,
      "metadata": {
        "colab": {
          "base_uri": "https://localhost:8080/",
          "height": 263
        },
        "id": "SwOftf1BYIQn",
        "outputId": "7719f7f3-e9b0-46a8-c3d9-b75f686835a4"
      },
      "outputs": [
        {
          "output_type": "stream",
          "name": "stdout",
          "text": [
            " * sqlite:///university.db\n",
            "Done.\n"
          ]
        },
        {
          "output_type": "execute_result",
          "data": {
            "text/plain": [
              "[('00128', '45565'),\n",
              " ('12345', '10101'),\n",
              " ('23121', '76543'),\n",
              " ('44553', '22222'),\n",
              " ('45678', '22222'),\n",
              " ('76543', '45565'),\n",
              " ('76653', '98345'),\n",
              " ('98765', '98345'),\n",
              " ('98988', '76766')]"
            ],
            "text/html": [
              "<table>\n",
              "    <thead>\n",
              "        <tr>\n",
              "            <th>s_ID</th>\n",
              "            <th>i_ID</th>\n",
              "        </tr>\n",
              "    </thead>\n",
              "    <tbody>\n",
              "        <tr>\n",
              "            <td>00128</td>\n",
              "            <td>45565</td>\n",
              "        </tr>\n",
              "        <tr>\n",
              "            <td>12345</td>\n",
              "            <td>10101</td>\n",
              "        </tr>\n",
              "        <tr>\n",
              "            <td>23121</td>\n",
              "            <td>76543</td>\n",
              "        </tr>\n",
              "        <tr>\n",
              "            <td>44553</td>\n",
              "            <td>22222</td>\n",
              "        </tr>\n",
              "        <tr>\n",
              "            <td>45678</td>\n",
              "            <td>22222</td>\n",
              "        </tr>\n",
              "        <tr>\n",
              "            <td>76543</td>\n",
              "            <td>45565</td>\n",
              "        </tr>\n",
              "        <tr>\n",
              "            <td>76653</td>\n",
              "            <td>98345</td>\n",
              "        </tr>\n",
              "        <tr>\n",
              "            <td>98765</td>\n",
              "            <td>98345</td>\n",
              "        </tr>\n",
              "        <tr>\n",
              "            <td>98988</td>\n",
              "            <td>76766</td>\n",
              "        </tr>\n",
              "    </tbody>\n",
              "</table>"
            ]
          },
          "metadata": {},
          "execution_count": 29
        }
      ],
      "source": [
        "%%sql\n",
        "select * from advisor"
      ]
    },
    {
      "cell_type": "code",
      "execution_count": 30,
      "metadata": {
        "colab": {
          "base_uri": "https://localhost:8080/"
        },
        "id": "juKckJEYVGoO",
        "outputId": "47936592-0529-4af5-df7a-54730f62b1d2"
      },
      "outputs": [
        {
          "output_type": "stream",
          "name": "stdout",
          "text": [
            " * sqlite:///university.db\n",
            "Done.\n"
          ]
        },
        {
          "output_type": "execute_result",
          "data": {
            "text/plain": [
              "[]"
            ]
          },
          "metadata": {},
          "execution_count": 30
        }
      ],
      "source": [
        "%%sql\n",
        "create table time_slot\n",
        "\t(time_slot_id\t\tvarchar(4),\n",
        "\t day\t\t\tvarchar(1),\n",
        "\t start_hr\t\tnumeric(2) check (start_hr >= 0 and start_hr < 24),\n",
        "\t start_min\t\tnumeric(2) check (start_min >= 0 and start_min < 60),\n",
        "\t end_hr\t\t\tnumeric(2) check (end_hr >= 0 and end_hr < 24),\n",
        "\t end_min\t\tnumeric(2) check (end_min >= 0 and end_min < 60),\n",
        "\t primary key (time_slot_id, day, start_hr, start_min)\n",
        "\t);\n",
        "\n"
      ]
    },
    {
      "cell_type": "code",
      "execution_count": 31,
      "metadata": {
        "colab": {
          "base_uri": "https://localhost:8080/"
        },
        "id": "EvR9Q-roYQdw",
        "outputId": "b00a6503-25b3-4a94-f686-f7334bbd5bed"
      },
      "outputs": [
        {
          "output_type": "stream",
          "name": "stdout",
          "text": [
            " * sqlite:///university.db\n",
            "1 rows affected.\n",
            "1 rows affected.\n",
            "1 rows affected.\n",
            "1 rows affected.\n",
            "1 rows affected.\n",
            "1 rows affected.\n",
            "1 rows affected.\n",
            "1 rows affected.\n",
            "1 rows affected.\n",
            "1 rows affected.\n",
            "1 rows affected.\n",
            "1 rows affected.\n",
            "1 rows affected.\n",
            "1 rows affected.\n",
            "1 rows affected.\n",
            "1 rows affected.\n",
            "1 rows affected.\n",
            "1 rows affected.\n",
            "1 rows affected.\n",
            "1 rows affected.\n"
          ]
        },
        {
          "output_type": "execute_result",
          "data": {
            "text/plain": [
              "[]"
            ]
          },
          "metadata": {},
          "execution_count": 31
        }
      ],
      "source": [
        "%%sql\n",
        "insert into time_slot values ('A', 'M', '8', '0', '8', '50');\n",
        "insert into time_slot values ('A', 'W', '8', '0', '8', '50');\n",
        "insert into time_slot values ('A', 'F', '8', '0', '8', '50');\n",
        "insert into time_slot values ('B', 'M', '9', '0', '9', '50');\n",
        "insert into time_slot values ('B', 'W', '9', '0', '9', '50');\n",
        "insert into time_slot values ('B', 'F', '9', '0', '9', '50');\n",
        "insert into time_slot values ('C', 'M', '11', '0', '11', '50');\n",
        "insert into time_slot values ('C', 'W', '11', '0', '11', '50');\n",
        "insert into time_slot values ('C', 'F', '11', '0', '11', '50');\n",
        "insert into time_slot values ('D', 'M', '13', '0', '13', '50');\n",
        "insert into time_slot values ('D', 'W', '13', '0', '13', '50');\n",
        "insert into time_slot values ('D', 'F', '13', '0', '13', '50');\n",
        "insert into time_slot values ('E', 'T', '10', '30', '11', '45 ');\n",
        "insert into time_slot values ('E', 'R', '10', '30', '11', '45 ');\n",
        "insert into time_slot values ('F', 'T', '14', '30', '15', '45 ');\n",
        "insert into time_slot values ('F', 'R', '14', '30', '15', '45 ');\n",
        "insert into time_slot values ('G', 'M', '16', '0', '16', '50');\n",
        "insert into time_slot values ('G', 'W', '16', '0', '16', '50');\n",
        "insert into time_slot values ('G', 'F', '16', '0', '16', '50');\n",
        "insert into time_slot values ('H', 'W', '10', '0', '12', '30');"
      ]
    },
    {
      "cell_type": "code",
      "execution_count": 32,
      "metadata": {
        "colab": {
          "base_uri": "https://localhost:8080/",
          "height": 493
        },
        "id": "XtkVfS6EYS5m",
        "outputId": "572dca9c-6a42-4888-ba99-62c254fe4e2e"
      },
      "outputs": [
        {
          "output_type": "stream",
          "name": "stdout",
          "text": [
            " * sqlite:///university.db\n",
            "Done.\n"
          ]
        },
        {
          "output_type": "execute_result",
          "data": {
            "text/plain": [
              "[('A', 'M', 8, 0, 8, 50),\n",
              " ('A', 'W', 8, 0, 8, 50),\n",
              " ('A', 'F', 8, 0, 8, 50),\n",
              " ('B', 'M', 9, 0, 9, 50),\n",
              " ('B', 'W', 9, 0, 9, 50),\n",
              " ('B', 'F', 9, 0, 9, 50),\n",
              " ('C', 'M', 11, 0, 11, 50),\n",
              " ('C', 'W', 11, 0, 11, 50),\n",
              " ('C', 'F', 11, 0, 11, 50),\n",
              " ('D', 'M', 13, 0, 13, 50),\n",
              " ('D', 'W', 13, 0, 13, 50),\n",
              " ('D', 'F', 13, 0, 13, 50),\n",
              " ('E', 'T', 10, 30, 11, 45),\n",
              " ('E', 'R', 10, 30, 11, 45),\n",
              " ('F', 'T', 14, 30, 15, 45),\n",
              " ('F', 'R', 14, 30, 15, 45),\n",
              " ('G', 'M', 16, 0, 16, 50),\n",
              " ('G', 'W', 16, 0, 16, 50),\n",
              " ('G', 'F', 16, 0, 16, 50),\n",
              " ('H', 'W', 10, 0, 12, 30)]"
            ],
            "text/html": [
              "<table>\n",
              "    <thead>\n",
              "        <tr>\n",
              "            <th>time_slot_id</th>\n",
              "            <th>day</th>\n",
              "            <th>start_hr</th>\n",
              "            <th>start_min</th>\n",
              "            <th>end_hr</th>\n",
              "            <th>end_min</th>\n",
              "        </tr>\n",
              "    </thead>\n",
              "    <tbody>\n",
              "        <tr>\n",
              "            <td>A</td>\n",
              "            <td>M</td>\n",
              "            <td>8</td>\n",
              "            <td>0</td>\n",
              "            <td>8</td>\n",
              "            <td>50</td>\n",
              "        </tr>\n",
              "        <tr>\n",
              "            <td>A</td>\n",
              "            <td>W</td>\n",
              "            <td>8</td>\n",
              "            <td>0</td>\n",
              "            <td>8</td>\n",
              "            <td>50</td>\n",
              "        </tr>\n",
              "        <tr>\n",
              "            <td>A</td>\n",
              "            <td>F</td>\n",
              "            <td>8</td>\n",
              "            <td>0</td>\n",
              "            <td>8</td>\n",
              "            <td>50</td>\n",
              "        </tr>\n",
              "        <tr>\n",
              "            <td>B</td>\n",
              "            <td>M</td>\n",
              "            <td>9</td>\n",
              "            <td>0</td>\n",
              "            <td>9</td>\n",
              "            <td>50</td>\n",
              "        </tr>\n",
              "        <tr>\n",
              "            <td>B</td>\n",
              "            <td>W</td>\n",
              "            <td>9</td>\n",
              "            <td>0</td>\n",
              "            <td>9</td>\n",
              "            <td>50</td>\n",
              "        </tr>\n",
              "        <tr>\n",
              "            <td>B</td>\n",
              "            <td>F</td>\n",
              "            <td>9</td>\n",
              "            <td>0</td>\n",
              "            <td>9</td>\n",
              "            <td>50</td>\n",
              "        </tr>\n",
              "        <tr>\n",
              "            <td>C</td>\n",
              "            <td>M</td>\n",
              "            <td>11</td>\n",
              "            <td>0</td>\n",
              "            <td>11</td>\n",
              "            <td>50</td>\n",
              "        </tr>\n",
              "        <tr>\n",
              "            <td>C</td>\n",
              "            <td>W</td>\n",
              "            <td>11</td>\n",
              "            <td>0</td>\n",
              "            <td>11</td>\n",
              "            <td>50</td>\n",
              "        </tr>\n",
              "        <tr>\n",
              "            <td>C</td>\n",
              "            <td>F</td>\n",
              "            <td>11</td>\n",
              "            <td>0</td>\n",
              "            <td>11</td>\n",
              "            <td>50</td>\n",
              "        </tr>\n",
              "        <tr>\n",
              "            <td>D</td>\n",
              "            <td>M</td>\n",
              "            <td>13</td>\n",
              "            <td>0</td>\n",
              "            <td>13</td>\n",
              "            <td>50</td>\n",
              "        </tr>\n",
              "        <tr>\n",
              "            <td>D</td>\n",
              "            <td>W</td>\n",
              "            <td>13</td>\n",
              "            <td>0</td>\n",
              "            <td>13</td>\n",
              "            <td>50</td>\n",
              "        </tr>\n",
              "        <tr>\n",
              "            <td>D</td>\n",
              "            <td>F</td>\n",
              "            <td>13</td>\n",
              "            <td>0</td>\n",
              "            <td>13</td>\n",
              "            <td>50</td>\n",
              "        </tr>\n",
              "        <tr>\n",
              "            <td>E</td>\n",
              "            <td>T</td>\n",
              "            <td>10</td>\n",
              "            <td>30</td>\n",
              "            <td>11</td>\n",
              "            <td>45</td>\n",
              "        </tr>\n",
              "        <tr>\n",
              "            <td>E</td>\n",
              "            <td>R</td>\n",
              "            <td>10</td>\n",
              "            <td>30</td>\n",
              "            <td>11</td>\n",
              "            <td>45</td>\n",
              "        </tr>\n",
              "        <tr>\n",
              "            <td>F</td>\n",
              "            <td>T</td>\n",
              "            <td>14</td>\n",
              "            <td>30</td>\n",
              "            <td>15</td>\n",
              "            <td>45</td>\n",
              "        </tr>\n",
              "        <tr>\n",
              "            <td>F</td>\n",
              "            <td>R</td>\n",
              "            <td>14</td>\n",
              "            <td>30</td>\n",
              "            <td>15</td>\n",
              "            <td>45</td>\n",
              "        </tr>\n",
              "        <tr>\n",
              "            <td>G</td>\n",
              "            <td>M</td>\n",
              "            <td>16</td>\n",
              "            <td>0</td>\n",
              "            <td>16</td>\n",
              "            <td>50</td>\n",
              "        </tr>\n",
              "        <tr>\n",
              "            <td>G</td>\n",
              "            <td>W</td>\n",
              "            <td>16</td>\n",
              "            <td>0</td>\n",
              "            <td>16</td>\n",
              "            <td>50</td>\n",
              "        </tr>\n",
              "        <tr>\n",
              "            <td>G</td>\n",
              "            <td>F</td>\n",
              "            <td>16</td>\n",
              "            <td>0</td>\n",
              "            <td>16</td>\n",
              "            <td>50</td>\n",
              "        </tr>\n",
              "        <tr>\n",
              "            <td>H</td>\n",
              "            <td>W</td>\n",
              "            <td>10</td>\n",
              "            <td>0</td>\n",
              "            <td>12</td>\n",
              "            <td>30</td>\n",
              "        </tr>\n",
              "    </tbody>\n",
              "</table>"
            ]
          },
          "metadata": {},
          "execution_count": 32
        }
      ],
      "source": [
        "%%sql\n",
        "select * from time_slot"
      ]
    },
    {
      "cell_type": "code",
      "execution_count": 33,
      "metadata": {
        "colab": {
          "base_uri": "https://localhost:8080/"
        },
        "id": "-8PyhxWNVJWZ",
        "outputId": "fb332963-49d5-464c-f966-3e04b18dc508"
      },
      "outputs": [
        {
          "output_type": "stream",
          "name": "stdout",
          "text": [
            " * sqlite:///university.db\n",
            "Done.\n"
          ]
        },
        {
          "output_type": "execute_result",
          "data": {
            "text/plain": [
              "[]"
            ]
          },
          "metadata": {},
          "execution_count": 33
        }
      ],
      "source": [
        "%%sql\n",
        "create table prereq\n",
        "\t(course_id\t\tvarchar(8), \n",
        "\t prereq_id\t\tvarchar(8),\n",
        "\t primary key (course_id, prereq_id),\n",
        "\t foreign key (course_id) references course (course_id)\n",
        "\t\ton delete cascade,\n",
        "\t foreign key (prereq_id) references course (course_id)\n",
        "\t);"
      ]
    },
    {
      "cell_type": "code",
      "execution_count": 34,
      "metadata": {
        "colab": {
          "base_uri": "https://localhost:8080/"
        },
        "id": "K08mWdrzV8WF",
        "outputId": "da2c827e-9e7d-4850-a731-702670d72b7d"
      },
      "outputs": [
        {
          "output_type": "stream",
          "name": "stdout",
          "text": [
            " * sqlite:///university.db\n",
            "1 rows affected.\n",
            "1 rows affected.\n",
            "1 rows affected.\n",
            "1 rows affected.\n",
            "1 rows affected.\n",
            "1 rows affected.\n",
            "1 rows affected.\n"
          ]
        },
        {
          "output_type": "execute_result",
          "data": {
            "text/plain": [
              "[]"
            ]
          },
          "metadata": {},
          "execution_count": 34
        }
      ],
      "source": [
        "%%sql\n",
        "insert into prereq values ('BIO-301', 'BIO-101');\n",
        "insert into prereq values ('BIO-399', 'BIO-101');\n",
        "insert into prereq values ('CS-190', 'CS-101');\n",
        "insert into prereq values ('CS-315', 'CS-101');\n",
        "insert into prereq values ('CS-319', 'CS-101');\n",
        "insert into prereq values ('CS-347', 'CS-101');\n",
        "insert into prereq values ('EE-181', 'PHY-101');\n"
      ]
    },
    {
      "cell_type": "code",
      "execution_count": 35,
      "metadata": {
        "colab": {
          "base_uri": "https://localhost:8080/",
          "height": 221
        },
        "id": "NwStlHlOYaNb",
        "outputId": "6737cc93-2154-4b83-cf08-a8455f6416c4"
      },
      "outputs": [
        {
          "output_type": "stream",
          "name": "stdout",
          "text": [
            " * sqlite:///university.db\n",
            "Done.\n"
          ]
        },
        {
          "output_type": "execute_result",
          "data": {
            "text/plain": [
              "[('BIO-301', 'BIO-101'),\n",
              " ('BIO-399', 'BIO-101'),\n",
              " ('CS-190', 'CS-101'),\n",
              " ('CS-315', 'CS-101'),\n",
              " ('CS-319', 'CS-101'),\n",
              " ('CS-347', 'CS-101'),\n",
              " ('EE-181', 'PHY-101')]"
            ],
            "text/html": [
              "<table>\n",
              "    <thead>\n",
              "        <tr>\n",
              "            <th>course_id</th>\n",
              "            <th>prereq_id</th>\n",
              "        </tr>\n",
              "    </thead>\n",
              "    <tbody>\n",
              "        <tr>\n",
              "            <td>BIO-301</td>\n",
              "            <td>BIO-101</td>\n",
              "        </tr>\n",
              "        <tr>\n",
              "            <td>BIO-399</td>\n",
              "            <td>BIO-101</td>\n",
              "        </tr>\n",
              "        <tr>\n",
              "            <td>CS-190</td>\n",
              "            <td>CS-101</td>\n",
              "        </tr>\n",
              "        <tr>\n",
              "            <td>CS-315</td>\n",
              "            <td>CS-101</td>\n",
              "        </tr>\n",
              "        <tr>\n",
              "            <td>CS-319</td>\n",
              "            <td>CS-101</td>\n",
              "        </tr>\n",
              "        <tr>\n",
              "            <td>CS-347</td>\n",
              "            <td>CS-101</td>\n",
              "        </tr>\n",
              "        <tr>\n",
              "            <td>EE-181</td>\n",
              "            <td>PHY-101</td>\n",
              "        </tr>\n",
              "    </tbody>\n",
              "</table>"
            ]
          },
          "metadata": {},
          "execution_count": 35
        }
      ],
      "source": [
        "%%sql\n",
        "select * from prereq"
      ]
    },
    {
      "cell_type": "markdown",
      "metadata": {
        "id": "bC6_0XCFZPXc"
      },
      "source": [
        "## **NOW LETS BEGIN WITH THE QUERIES**"
      ]
    },
    {
      "cell_type": "markdown",
      "metadata": {
        "id": "f3OS_zs_CU2V"
      },
      "source": [
        "### 1. Display average salary given by each department."
      ]
    },
    {
      "cell_type": "code",
      "execution_count": 36,
      "metadata": {
        "colab": {
          "base_uri": "https://localhost:8080/",
          "height": 221
        },
        "id": "2TCW0VMiYe-J",
        "outputId": "66e063f5-c287-43a8-f57f-a40163072d22"
      },
      "outputs": [
        {
          "output_type": "stream",
          "name": "stdout",
          "text": [
            " * sqlite:///university.db\n",
            "Done.\n"
          ]
        },
        {
          "output_type": "execute_result",
          "data": {
            "text/plain": [
              "[('Biology', 72000.0),\n",
              " ('Comp. Sci.', 77333.33333333333),\n",
              " ('Elec. Eng.', 80000.0),\n",
              " ('Finance', 85000.0),\n",
              " ('History', 61000.0),\n",
              " ('Music', 40000.0),\n",
              " ('Physics', 91000.0)]"
            ],
            "text/html": [
              "<table>\n",
              "    <thead>\n",
              "        <tr>\n",
              "            <th>dept_name</th>\n",
              "            <th>AVG SALARY</th>\n",
              "        </tr>\n",
              "    </thead>\n",
              "    <tbody>\n",
              "        <tr>\n",
              "            <td>Biology</td>\n",
              "            <td>72000.0</td>\n",
              "        </tr>\n",
              "        <tr>\n",
              "            <td>Comp. Sci.</td>\n",
              "            <td>77333.33333333333</td>\n",
              "        </tr>\n",
              "        <tr>\n",
              "            <td>Elec. Eng.</td>\n",
              "            <td>80000.0</td>\n",
              "        </tr>\n",
              "        <tr>\n",
              "            <td>Finance</td>\n",
              "            <td>85000.0</td>\n",
              "        </tr>\n",
              "        <tr>\n",
              "            <td>History</td>\n",
              "            <td>61000.0</td>\n",
              "        </tr>\n",
              "        <tr>\n",
              "            <td>Music</td>\n",
              "            <td>40000.0</td>\n",
              "        </tr>\n",
              "        <tr>\n",
              "            <td>Physics</td>\n",
              "            <td>91000.0</td>\n",
              "        </tr>\n",
              "    </tbody>\n",
              "</table>"
            ]
          },
          "metadata": {},
          "execution_count": 36
        }
      ],
      "source": [
        "%%sql\n",
        "SELECT dept_name, avg(salary) AS 'AVG SALARY' from instructor\n",
        "group by dept_name"
      ]
    },
    {
      "cell_type": "markdown",
      "metadata": {
        "id": "1PIl5JNKHPMG"
      },
      "source": [
        "### 2. Display the name of students and their corresponding course IDs."
      ]
    },
    {
      "cell_type": "code",
      "execution_count": 37,
      "metadata": {
        "colab": {
          "base_uri": "https://localhost:8080/",
          "height": 535
        },
        "id": "IS7dFm4NFSE9",
        "outputId": "1396ed7d-6ff1-4f6c-d491-6415feb7503f"
      },
      "outputs": [
        {
          "output_type": "stream",
          "name": "stdout",
          "text": [
            " * sqlite:///university.db\n",
            "Done.\n"
          ]
        },
        {
          "output_type": "execute_result",
          "data": {
            "text/plain": [
              "[('Zhang', 'CS-101'),\n",
              " ('Zhang', 'CS-347'),\n",
              " ('Shankar', 'CS-101'),\n",
              " ('Shankar', 'CS-190'),\n",
              " ('Shankar', 'CS-315'),\n",
              " ('Shankar', 'CS-347'),\n",
              " ('Brandt', 'HIS-351'),\n",
              " ('Chavez', 'FIN-201'),\n",
              " ('Peltier', 'PHY-101'),\n",
              " ('Levy', 'CS-101'),\n",
              " ('Levy', 'CS-101'),\n",
              " ('Levy', 'CS-319'),\n",
              " ('Williams', 'CS-101'),\n",
              " ('Williams', 'CS-190'),\n",
              " ('Sanchez', 'MU-199'),\n",
              " ('Brown', 'CS-101'),\n",
              " ('Brown', 'CS-319'),\n",
              " ('Aoi', 'EE-181'),\n",
              " ('Bourikas', 'CS-101'),\n",
              " ('Bourikas', 'CS-315'),\n",
              " ('Tanaka', 'BIO-101'),\n",
              " ('Tanaka', 'BIO-301')]"
            ],
            "text/html": [
              "<table>\n",
              "    <thead>\n",
              "        <tr>\n",
              "            <th>name</th>\n",
              "            <th>course_id</th>\n",
              "        </tr>\n",
              "    </thead>\n",
              "    <tbody>\n",
              "        <tr>\n",
              "            <td>Zhang</td>\n",
              "            <td>CS-101</td>\n",
              "        </tr>\n",
              "        <tr>\n",
              "            <td>Zhang</td>\n",
              "            <td>CS-347</td>\n",
              "        </tr>\n",
              "        <tr>\n",
              "            <td>Shankar</td>\n",
              "            <td>CS-101</td>\n",
              "        </tr>\n",
              "        <tr>\n",
              "            <td>Shankar</td>\n",
              "            <td>CS-190</td>\n",
              "        </tr>\n",
              "        <tr>\n",
              "            <td>Shankar</td>\n",
              "            <td>CS-315</td>\n",
              "        </tr>\n",
              "        <tr>\n",
              "            <td>Shankar</td>\n",
              "            <td>CS-347</td>\n",
              "        </tr>\n",
              "        <tr>\n",
              "            <td>Brandt</td>\n",
              "            <td>HIS-351</td>\n",
              "        </tr>\n",
              "        <tr>\n",
              "            <td>Chavez</td>\n",
              "            <td>FIN-201</td>\n",
              "        </tr>\n",
              "        <tr>\n",
              "            <td>Peltier</td>\n",
              "            <td>PHY-101</td>\n",
              "        </tr>\n",
              "        <tr>\n",
              "            <td>Levy</td>\n",
              "            <td>CS-101</td>\n",
              "        </tr>\n",
              "        <tr>\n",
              "            <td>Levy</td>\n",
              "            <td>CS-101</td>\n",
              "        </tr>\n",
              "        <tr>\n",
              "            <td>Levy</td>\n",
              "            <td>CS-319</td>\n",
              "        </tr>\n",
              "        <tr>\n",
              "            <td>Williams</td>\n",
              "            <td>CS-101</td>\n",
              "        </tr>\n",
              "        <tr>\n",
              "            <td>Williams</td>\n",
              "            <td>CS-190</td>\n",
              "        </tr>\n",
              "        <tr>\n",
              "            <td>Sanchez</td>\n",
              "            <td>MU-199</td>\n",
              "        </tr>\n",
              "        <tr>\n",
              "            <td>Brown</td>\n",
              "            <td>CS-101</td>\n",
              "        </tr>\n",
              "        <tr>\n",
              "            <td>Brown</td>\n",
              "            <td>CS-319</td>\n",
              "        </tr>\n",
              "        <tr>\n",
              "            <td>Aoi</td>\n",
              "            <td>EE-181</td>\n",
              "        </tr>\n",
              "        <tr>\n",
              "            <td>Bourikas</td>\n",
              "            <td>CS-101</td>\n",
              "        </tr>\n",
              "        <tr>\n",
              "            <td>Bourikas</td>\n",
              "            <td>CS-315</td>\n",
              "        </tr>\n",
              "        <tr>\n",
              "            <td>Tanaka</td>\n",
              "            <td>BIO-101</td>\n",
              "        </tr>\n",
              "        <tr>\n",
              "            <td>Tanaka</td>\n",
              "            <td>BIO-301</td>\n",
              "        </tr>\n",
              "    </tbody>\n",
              "</table>"
            ]
          },
          "metadata": {},
          "execution_count": 37
        }
      ],
      "source": [
        "%%sql\n",
        "Select student.name,takes.course_id from student\n",
        "  inner join takes on takes.id=student.id;"
      ]
    },
    {
      "cell_type": "markdown",
      "metadata": {
        "id": "eqzSUR6pH37f"
      },
      "source": [
        "###3. Display number of courses taken by each student."
      ]
    },
    {
      "cell_type": "code",
      "execution_count": 38,
      "metadata": {
        "colab": {
          "base_uri": "https://localhost:8080/",
          "height": 326
        },
        "id": "udERojoIHvO4",
        "outputId": "9d22ea28-88df-4b4c-e27c-c5f9b62b1457"
      },
      "outputs": [
        {
          "output_type": "stream",
          "name": "stdout",
          "text": [
            " * sqlite:///university.db\n",
            "Done.\n"
          ]
        },
        {
          "output_type": "execute_result",
          "data": {
            "text/plain": [
              "[('Zhang', 2),\n",
              " ('Shankar', 4),\n",
              " ('Brandt', 1),\n",
              " ('Chavez', 1),\n",
              " ('Peltier', 1),\n",
              " ('Levy', 3),\n",
              " ('Williams', 2),\n",
              " ('Sanchez', 1),\n",
              " ('Brown', 2),\n",
              " ('Aoi', 1),\n",
              " ('Bourikas', 2),\n",
              " ('Tanaka', 2)]"
            ],
            "text/html": [
              "<table>\n",
              "    <thead>\n",
              "        <tr>\n",
              "            <th>name</th>\n",
              "            <th>number of courses</th>\n",
              "        </tr>\n",
              "    </thead>\n",
              "    <tbody>\n",
              "        <tr>\n",
              "            <td>Zhang</td>\n",
              "            <td>2</td>\n",
              "        </tr>\n",
              "        <tr>\n",
              "            <td>Shankar</td>\n",
              "            <td>4</td>\n",
              "        </tr>\n",
              "        <tr>\n",
              "            <td>Brandt</td>\n",
              "            <td>1</td>\n",
              "        </tr>\n",
              "        <tr>\n",
              "            <td>Chavez</td>\n",
              "            <td>1</td>\n",
              "        </tr>\n",
              "        <tr>\n",
              "            <td>Peltier</td>\n",
              "            <td>1</td>\n",
              "        </tr>\n",
              "        <tr>\n",
              "            <td>Levy</td>\n",
              "            <td>3</td>\n",
              "        </tr>\n",
              "        <tr>\n",
              "            <td>Williams</td>\n",
              "            <td>2</td>\n",
              "        </tr>\n",
              "        <tr>\n",
              "            <td>Sanchez</td>\n",
              "            <td>1</td>\n",
              "        </tr>\n",
              "        <tr>\n",
              "            <td>Brown</td>\n",
              "            <td>2</td>\n",
              "        </tr>\n",
              "        <tr>\n",
              "            <td>Aoi</td>\n",
              "            <td>1</td>\n",
              "        </tr>\n",
              "        <tr>\n",
              "            <td>Bourikas</td>\n",
              "            <td>2</td>\n",
              "        </tr>\n",
              "        <tr>\n",
              "            <td>Tanaka</td>\n",
              "            <td>2</td>\n",
              "        </tr>\n",
              "    </tbody>\n",
              "</table>"
            ]
          },
          "metadata": {},
          "execution_count": 38
        }
      ],
      "source": [
        "%%sql\n",
        "Select student.name,COUNT(takes.course_id) AS 'number of courses' from student\n",
        "  inner join takes on takes.id=student.id\n",
        "  GROUP BY TAKES.ID;"
      ]
    },
    {
      "cell_type": "markdown",
      "metadata": {
        "id": "RO7wZDziI4Us"
      },
      "source": [
        "### 4. Get the prerequisites courses for courses in the Spring semester."
      ]
    },
    {
      "cell_type": "code",
      "execution_count": 39,
      "metadata": {
        "colab": {
          "base_uri": "https://localhost:8080/",
          "height": 221
        },
        "id": "Fj5uewoUIhz2",
        "outputId": "d37e5559-ff1f-43bb-8eaa-1cedc23182f9"
      },
      "outputs": [
        {
          "output_type": "stream",
          "name": "stdout",
          "text": [
            " * sqlite:///university.db\n",
            "Done.\n"
          ]
        },
        {
          "output_type": "execute_result",
          "data": {
            "text/plain": [
              "[('Spring', 'CS-190', 'CS-101'),\n",
              " ('Spring', 'CS-315', 'CS-101'),\n",
              " ('Spring', 'CS-319', 'CS-101'),\n",
              " ('Spring', 'CS-190', 'CS-101'),\n",
              " ('Spring', 'CS-319', 'CS-101'),\n",
              " ('Spring', 'EE-181', 'PHY-101'),\n",
              " ('Spring', 'CS-315', 'CS-101')]"
            ],
            "text/html": [
              "<table>\n",
              "    <thead>\n",
              "        <tr>\n",
              "            <th>semester</th>\n",
              "            <th>course_id</th>\n",
              "            <th>prereq_id</th>\n",
              "        </tr>\n",
              "    </thead>\n",
              "    <tbody>\n",
              "        <tr>\n",
              "            <td>Spring</td>\n",
              "            <td>CS-190</td>\n",
              "            <td>CS-101</td>\n",
              "        </tr>\n",
              "        <tr>\n",
              "            <td>Spring</td>\n",
              "            <td>CS-315</td>\n",
              "            <td>CS-101</td>\n",
              "        </tr>\n",
              "        <tr>\n",
              "            <td>Spring</td>\n",
              "            <td>CS-319</td>\n",
              "            <td>CS-101</td>\n",
              "        </tr>\n",
              "        <tr>\n",
              "            <td>Spring</td>\n",
              "            <td>CS-190</td>\n",
              "            <td>CS-101</td>\n",
              "        </tr>\n",
              "        <tr>\n",
              "            <td>Spring</td>\n",
              "            <td>CS-319</td>\n",
              "            <td>CS-101</td>\n",
              "        </tr>\n",
              "        <tr>\n",
              "            <td>Spring</td>\n",
              "            <td>EE-181</td>\n",
              "            <td>PHY-101</td>\n",
              "        </tr>\n",
              "        <tr>\n",
              "            <td>Spring</td>\n",
              "            <td>CS-315</td>\n",
              "            <td>CS-101</td>\n",
              "        </tr>\n",
              "    </tbody>\n",
              "</table>"
            ]
          },
          "metadata": {},
          "execution_count": 39
        }
      ],
      "source": [
        "%%sql\n",
        "SELECT tk.semester,tk.course_id,prereq.prereq_id \n",
        "  from takes tk\n",
        "  inner join prereq on prereq.course_id=tk.course_id\n",
        "where tk.semester='Spring';"
      ]
    },
    {
      "cell_type": "markdown",
      "metadata": {
        "id": "FcQScjVhfP9x"
      },
      "source": [
        "### 5. Display the instructor name who teaches student with highest 5 credits."
      ]
    },
    {
      "cell_type": "code",
      "execution_count": 40,
      "metadata": {
        "colab": {
          "base_uri": "https://localhost:8080/",
          "height": 179
        },
        "id": "-qfo2x_qe1Uv",
        "outputId": "3679443f-9d29-451d-f522-5df0325e29e7"
      },
      "outputs": [
        {
          "output_type": "stream",
          "name": "stdout",
          "text": [
            " * sqlite:///university.db\n",
            "Done.\n"
          ]
        },
        {
          "output_type": "execute_result",
          "data": {
            "text/plain": [
              "[('Tanaka', 'Crick', 120),\n",
              " ('Chavez', 'Singh', 110),\n",
              " ('Chavez', 'Wu', 110),\n",
              " ('Zhang', 'Brandt', 102),\n",
              " ('Zhang', 'Katz', 102)]"
            ],
            "text/html": [
              "<table>\n",
              "    <thead>\n",
              "        <tr>\n",
              "            <th>student name</th>\n",
              "            <th>instructor name</th>\n",
              "            <th>tot_cred</th>\n",
              "        </tr>\n",
              "    </thead>\n",
              "    <tbody>\n",
              "        <tr>\n",
              "            <td>Tanaka</td>\n",
              "            <td>Crick</td>\n",
              "            <td>120</td>\n",
              "        </tr>\n",
              "        <tr>\n",
              "            <td>Chavez</td>\n",
              "            <td>Singh</td>\n",
              "            <td>110</td>\n",
              "        </tr>\n",
              "        <tr>\n",
              "            <td>Chavez</td>\n",
              "            <td>Wu</td>\n",
              "            <td>110</td>\n",
              "        </tr>\n",
              "        <tr>\n",
              "            <td>Zhang</td>\n",
              "            <td>Brandt</td>\n",
              "            <td>102</td>\n",
              "        </tr>\n",
              "        <tr>\n",
              "            <td>Zhang</td>\n",
              "            <td>Katz</td>\n",
              "            <td>102</td>\n",
              "        </tr>\n",
              "    </tbody>\n",
              "</table>"
            ]
          },
          "metadata": {},
          "execution_count": 40
        }
      ],
      "source": [
        "%%sql\n",
        "SELECT student.name as \"student name\",instructor.name as 'instructor name',student.tot_cred \n",
        "  from student \n",
        "  inner join instructor on instructor.dept_name=student.dept_name\n",
        "order by student.tot_cred DESC\n",
        "limit 5;"
      ]
    },
    {
      "cell_type": "markdown",
      "metadata": {
        "id": "eTJ5WfUFiWlG"
      },
      "source": [
        "### 6. Which semester and department offers maximum number of courses."
      ]
    },
    {
      "cell_type": "code",
      "execution_count": 41,
      "metadata": {
        "colab": {
          "base_uri": "https://localhost:8080/",
          "height": 95
        },
        "id": "BiiYEYvShtHE",
        "outputId": "36a3a387-9339-4874-d00a-f79bc54f9c2d"
      },
      "outputs": [
        {
          "output_type": "stream",
          "name": "stdout",
          "text": [
            " * sqlite:///university.db\n",
            "Done.\n"
          ]
        },
        {
          "output_type": "execute_result",
          "data": {
            "text/plain": [
              "[('Spring', 'Music', 17)]"
            ],
            "text/html": [
              "<table>\n",
              "    <thead>\n",
              "        <tr>\n",
              "            <th>semester</th>\n",
              "            <th>dept_name</th>\n",
              "            <th>number of courses</th>\n",
              "        </tr>\n",
              "    </thead>\n",
              "    <tbody>\n",
              "        <tr>\n",
              "            <td>Spring</td>\n",
              "            <td>Music</td>\n",
              "            <td>17</td>\n",
              "        </tr>\n",
              "    </tbody>\n",
              "</table>"
            ]
          },
          "metadata": {},
          "execution_count": 41
        }
      ],
      "source": [
        "%%sql\n",
        "SELECT semester,dept_name, count(section.course_id) as 'number of courses' \n",
        "from section,department\n",
        "where department.building=section.building\n",
        "\n",
        "group by semester\n",
        "order by count(course_id)DESC\n",
        "LIMIT 1;\n"
      ]
    },
    {
      "cell_type": "markdown",
      "metadata": {
        "id": "zPYWRLpcj6Yg"
      },
      "source": [
        "### 7. Display course and department whose time starts at 8."
      ]
    },
    {
      "cell_type": "code",
      "execution_count": 42,
      "metadata": {
        "colab": {
          "base_uri": "https://localhost:8080/",
          "height": 158
        },
        "id": "CDV1UCMojh-6",
        "outputId": "e5849954-aa24-4f3d-8622-5c2d1fd120da"
      },
      "outputs": [
        {
          "output_type": "stream",
          "name": "stdout",
          "text": [
            " * sqlite:///university.db\n",
            "Done.\n"
          ]
        },
        {
          "output_type": "execute_result",
          "data": {
            "text/plain": [
              "[('BIO-301', 8), ('CS-190', 8), ('CS-347', 8), ('PHY-101', 8)]"
            ],
            "text/html": [
              "<table>\n",
              "    <thead>\n",
              "        <tr>\n",
              "            <th>course_id</th>\n",
              "            <th>start_hr</th>\n",
              "        </tr>\n",
              "    </thead>\n",
              "    <tbody>\n",
              "        <tr>\n",
              "            <td>BIO-301</td>\n",
              "            <td>8</td>\n",
              "        </tr>\n",
              "        <tr>\n",
              "            <td>CS-190</td>\n",
              "            <td>8</td>\n",
              "        </tr>\n",
              "        <tr>\n",
              "            <td>CS-347</td>\n",
              "            <td>8</td>\n",
              "        </tr>\n",
              "        <tr>\n",
              "            <td>PHY-101</td>\n",
              "            <td>8</td>\n",
              "        </tr>\n",
              "    </tbody>\n",
              "</table>"
            ]
          },
          "metadata": {},
          "execution_count": 42
        }
      ],
      "source": [
        "%%sql\n",
        "SELECT section.course_id, time_slot.start_hr from section\n",
        "  inner join time_slot on time_slot.time_slot_id=section.time_slot_id\n",
        "where start_hr = 8\n",
        "group by section.course_id;"
      ]
    },
    {
      "cell_type": "markdown",
      "metadata": {
        "id": "nP9Z0ckKnqro"
      },
      "source": [
        "### 8. Display the salary of instructors from Watson building."
      ]
    },
    {
      "cell_type": "code",
      "execution_count": 43,
      "metadata": {
        "colab": {
          "base_uri": "https://localhost:8080/",
          "height": 137
        },
        "id": "Fe3vEBg9ltwD",
        "outputId": "6ab25ed2-e568-4f7e-e69a-3eadea41c8ad"
      },
      "outputs": [
        {
          "output_type": "stream",
          "name": "stdout",
          "text": [
            " * sqlite:///university.db\n",
            "Done.\n"
          ]
        },
        {
          "output_type": "execute_result",
          "data": {
            "text/plain": [
              "[('Einstein', 95000, 'Physics'),\n",
              " ('Gold', 87000, 'Physics'),\n",
              " ('Crick', 72000, 'Biology')]"
            ],
            "text/html": [
              "<table>\n",
              "    <thead>\n",
              "        <tr>\n",
              "            <th>name</th>\n",
              "            <th>salary</th>\n",
              "            <th>dept_name</th>\n",
              "        </tr>\n",
              "    </thead>\n",
              "    <tbody>\n",
              "        <tr>\n",
              "            <td>Einstein</td>\n",
              "            <td>95000</td>\n",
              "            <td>Physics</td>\n",
              "        </tr>\n",
              "        <tr>\n",
              "            <td>Gold</td>\n",
              "            <td>87000</td>\n",
              "            <td>Physics</td>\n",
              "        </tr>\n",
              "        <tr>\n",
              "            <td>Crick</td>\n",
              "            <td>72000</td>\n",
              "            <td>Biology</td>\n",
              "        </tr>\n",
              "    </tbody>\n",
              "</table>"
            ]
          },
          "metadata": {},
          "execution_count": 43
        }
      ],
      "source": [
        "%%sql\n",
        "SELECT name,salary,instructor.dept_name from instructor\n",
        "  inner join department on department.dept_name=instructor.dept_name\n",
        "where department.building='Watson';"
      ]
    },
    {
      "cell_type": "markdown",
      "metadata": {
        "id": "Uxyjuaapoi_R"
      },
      "source": [
        "### 9. Show the title of courses available on Monday."
      ]
    },
    {
      "cell_type": "code",
      "execution_count": 44,
      "metadata": {
        "colab": {
          "base_uri": "https://localhost:8080/",
          "height": 326
        },
        "id": "r_67ifhSoKBW",
        "outputId": "9cdc05c4-b0d9-45b5-f7de-1ed2aa84f840"
      },
      "outputs": [
        {
          "output_type": "stream",
          "name": "stdout",
          "text": [
            " * sqlite:///university.db\n",
            "Done.\n"
          ]
        },
        {
          "output_type": "execute_result",
          "data": {
            "text/plain": [
              "[('Intro. to Biology', 'M'),\n",
              " ('Genetics', 'M'),\n",
              " ('Game Design', 'M'),\n",
              " ('Robotics', 'M'),\n",
              " ('Image Processing', 'M'),\n",
              " ('Image Processing', 'M'),\n",
              " ('Database System Concepts', 'M'),\n",
              " ('Intro. to Digital Systems', 'M'),\n",
              " ('Investment Banking', 'M'),\n",
              " ('World History', 'M'),\n",
              " ('Music Video Production', 'M'),\n",
              " ('Physical Principles', 'M')]"
            ],
            "text/html": [
              "<table>\n",
              "    <thead>\n",
              "        <tr>\n",
              "            <th>title</th>\n",
              "            <th>day</th>\n",
              "        </tr>\n",
              "    </thead>\n",
              "    <tbody>\n",
              "        <tr>\n",
              "            <td>Intro. to Biology</td>\n",
              "            <td>M</td>\n",
              "        </tr>\n",
              "        <tr>\n",
              "            <td>Genetics</td>\n",
              "            <td>M</td>\n",
              "        </tr>\n",
              "        <tr>\n",
              "            <td>Game Design</td>\n",
              "            <td>M</td>\n",
              "        </tr>\n",
              "        <tr>\n",
              "            <td>Robotics</td>\n",
              "            <td>M</td>\n",
              "        </tr>\n",
              "        <tr>\n",
              "            <td>Image Processing</td>\n",
              "            <td>M</td>\n",
              "        </tr>\n",
              "        <tr>\n",
              "            <td>Image Processing</td>\n",
              "            <td>M</td>\n",
              "        </tr>\n",
              "        <tr>\n",
              "            <td>Database System Concepts</td>\n",
              "            <td>M</td>\n",
              "        </tr>\n",
              "        <tr>\n",
              "            <td>Intro. to Digital Systems</td>\n",
              "            <td>M</td>\n",
              "        </tr>\n",
              "        <tr>\n",
              "            <td>Investment Banking</td>\n",
              "            <td>M</td>\n",
              "        </tr>\n",
              "        <tr>\n",
              "            <td>World History</td>\n",
              "            <td>M</td>\n",
              "        </tr>\n",
              "        <tr>\n",
              "            <td>Music Video Production</td>\n",
              "            <td>M</td>\n",
              "        </tr>\n",
              "        <tr>\n",
              "            <td>Physical Principles</td>\n",
              "            <td>M</td>\n",
              "        </tr>\n",
              "    </tbody>\n",
              "</table>"
            ]
          },
          "metadata": {},
          "execution_count": 44
        }
      ],
      "source": [
        "%%sql\n",
        "select course.title,time_slot.day from course\n",
        "  inner join section on course.course_id=section.course_id\n",
        "  inner join time_slot on time_slot.time_slot_id=section.time_slot_id\n",
        "where time_slot.day='M';"
      ]
    },
    {
      "cell_type": "markdown",
      "metadata": {
        "id": "UVFsDk6QsA2n"
      },
      "source": [
        "### 10. Find the number of courses that start at 8 and end at 8."
      ]
    },
    {
      "cell_type": "code",
      "execution_count": 45,
      "metadata": {
        "colab": {
          "base_uri": "https://localhost:8080/",
          "height": 95
        },
        "id": "1mLCcmIfsgfq",
        "outputId": "7375b2ff-f0d0-45a9-e4c8-34ee0da289f7"
      },
      "outputs": [
        {
          "output_type": "stream",
          "name": "stdout",
          "text": [
            " * sqlite:///university.db\n",
            "Done.\n"
          ]
        },
        {
          "output_type": "execute_result",
          "data": {
            "text/plain": [
              "[(8, 8, 12)]"
            ],
            "text/html": [
              "<table>\n",
              "    <thead>\n",
              "        <tr>\n",
              "            <th>start_hr</th>\n",
              "            <th>end_hr</th>\n",
              "            <th>number of courses</th>\n",
              "        </tr>\n",
              "    </thead>\n",
              "    <tbody>\n",
              "        <tr>\n",
              "            <td>8</td>\n",
              "            <td>8</td>\n",
              "            <td>12</td>\n",
              "        </tr>\n",
              "    </tbody>\n",
              "</table>"
            ]
          },
          "metadata": {},
          "execution_count": 45
        }
      ],
      "source": [
        "%%sql\n",
        "select start_hr,end_hr, count(section.course_id) as 'number of courses' from time_slot\n",
        "  inner join section on time_slot.time_slot_id=section.time_slot_id\n",
        "where start_hr=8 and end_hr=8;"
      ]
    },
    {
      "cell_type": "markdown",
      "metadata": {
        "id": "hEAfLbzDD00S"
      },
      "source": [
        "### 11. Find instructors having salary more than 90000."
      ]
    },
    {
      "cell_type": "code",
      "execution_count": 46,
      "metadata": {
        "colab": {
          "base_uri": "https://localhost:8080/",
          "height": 116
        },
        "id": "RQqGlHZ1YwfI",
        "outputId": "02bb2479-6d33-4a20-dcdd-d574f35636b8"
      },
      "outputs": [
        {
          "output_type": "stream",
          "name": "stdout",
          "text": [
            " * sqlite:///university.db\n",
            "Done.\n"
          ]
        },
        {
          "output_type": "execute_result",
          "data": {
            "text/plain": [
              "[('Einstein',), ('Brandt',)]"
            ],
            "text/html": [
              "<table>\n",
              "    <thead>\n",
              "        <tr>\n",
              "            <th>name</th>\n",
              "        </tr>\n",
              "    </thead>\n",
              "    <tbody>\n",
              "        <tr>\n",
              "            <td>Einstein</td>\n",
              "        </tr>\n",
              "        <tr>\n",
              "            <td>Brandt</td>\n",
              "        </tr>\n",
              "    </tbody>\n",
              "</table>"
            ]
          },
          "metadata": {},
          "execution_count": 46
        }
      ],
      "source": [
        "%%sql\n",
        "select name from instructor\n",
        "where salary>90000;"
      ]
    },
    {
      "cell_type": "markdown",
      "metadata": {
        "id": "hLoYBTpxECPB"
      },
      "source": [
        "### 12. Find student records taking courses before 2018."
      ]
    },
    {
      "cell_type": "code",
      "execution_count": 47,
      "metadata": {
        "colab": {
          "base_uri": "https://localhost:8080/",
          "height": 347
        },
        "id": "XVU1IjAGZdFo",
        "outputId": "ec5f85f7-ab2a-4232-8b19-b1493f50f0a3"
      },
      "outputs": [
        {
          "output_type": "stream",
          "name": "stdout",
          "text": [
            " * sqlite:///university.db\n",
            "Done.\n"
          ]
        },
        {
          "output_type": "execute_result",
          "data": {
            "text/plain": [
              "[('00128', 'CS-101', '1', 'Fall', 2017, 'A'),\n",
              " ('00128', 'CS-347', '1', 'Fall', 2017, 'A-'),\n",
              " ('12345', 'CS-101', '1', 'Fall', 2017, 'C'),\n",
              " ('12345', 'CS-190', '2', 'Spring', 2017, 'A'),\n",
              " ('12345', 'CS-347', '1', 'Fall', 2017, 'A'),\n",
              " ('44553', 'PHY-101', '1', 'Fall', 2017, 'B-'),\n",
              " ('45678', 'CS-101', '1', 'Fall', 2017, 'F'),\n",
              " ('54321', 'CS-101', '1', 'Fall', 2017, 'A-'),\n",
              " ('54321', 'CS-190', '2', 'Spring', 2017, 'B+'),\n",
              " ('76543', 'CS-101', '1', 'Fall', 2017, 'A'),\n",
              " ('76653', 'EE-181', '1', 'Spring', 2017, 'C'),\n",
              " ('98765', 'CS-101', '1', 'Fall', 2017, 'C-'),\n",
              " ('98988', 'BIO-101', '1', 'Summer', 2017, 'A')]"
            ],
            "text/html": [
              "<table>\n",
              "    <thead>\n",
              "        <tr>\n",
              "            <th>ID</th>\n",
              "            <th>course_id</th>\n",
              "            <th>sec_id</th>\n",
              "            <th>semester</th>\n",
              "            <th>year</th>\n",
              "            <th>grade</th>\n",
              "        </tr>\n",
              "    </thead>\n",
              "    <tbody>\n",
              "        <tr>\n",
              "            <td>00128</td>\n",
              "            <td>CS-101</td>\n",
              "            <td>1</td>\n",
              "            <td>Fall</td>\n",
              "            <td>2017</td>\n",
              "            <td>A</td>\n",
              "        </tr>\n",
              "        <tr>\n",
              "            <td>00128</td>\n",
              "            <td>CS-347</td>\n",
              "            <td>1</td>\n",
              "            <td>Fall</td>\n",
              "            <td>2017</td>\n",
              "            <td>A-</td>\n",
              "        </tr>\n",
              "        <tr>\n",
              "            <td>12345</td>\n",
              "            <td>CS-101</td>\n",
              "            <td>1</td>\n",
              "            <td>Fall</td>\n",
              "            <td>2017</td>\n",
              "            <td>C</td>\n",
              "        </tr>\n",
              "        <tr>\n",
              "            <td>12345</td>\n",
              "            <td>CS-190</td>\n",
              "            <td>2</td>\n",
              "            <td>Spring</td>\n",
              "            <td>2017</td>\n",
              "            <td>A</td>\n",
              "        </tr>\n",
              "        <tr>\n",
              "            <td>12345</td>\n",
              "            <td>CS-347</td>\n",
              "            <td>1</td>\n",
              "            <td>Fall</td>\n",
              "            <td>2017</td>\n",
              "            <td>A</td>\n",
              "        </tr>\n",
              "        <tr>\n",
              "            <td>44553</td>\n",
              "            <td>PHY-101</td>\n",
              "            <td>1</td>\n",
              "            <td>Fall</td>\n",
              "            <td>2017</td>\n",
              "            <td>B-</td>\n",
              "        </tr>\n",
              "        <tr>\n",
              "            <td>45678</td>\n",
              "            <td>CS-101</td>\n",
              "            <td>1</td>\n",
              "            <td>Fall</td>\n",
              "            <td>2017</td>\n",
              "            <td>F</td>\n",
              "        </tr>\n",
              "        <tr>\n",
              "            <td>54321</td>\n",
              "            <td>CS-101</td>\n",
              "            <td>1</td>\n",
              "            <td>Fall</td>\n",
              "            <td>2017</td>\n",
              "            <td>A-</td>\n",
              "        </tr>\n",
              "        <tr>\n",
              "            <td>54321</td>\n",
              "            <td>CS-190</td>\n",
              "            <td>2</td>\n",
              "            <td>Spring</td>\n",
              "            <td>2017</td>\n",
              "            <td>B+</td>\n",
              "        </tr>\n",
              "        <tr>\n",
              "            <td>76543</td>\n",
              "            <td>CS-101</td>\n",
              "            <td>1</td>\n",
              "            <td>Fall</td>\n",
              "            <td>2017</td>\n",
              "            <td>A</td>\n",
              "        </tr>\n",
              "        <tr>\n",
              "            <td>76653</td>\n",
              "            <td>EE-181</td>\n",
              "            <td>1</td>\n",
              "            <td>Spring</td>\n",
              "            <td>2017</td>\n",
              "            <td>C</td>\n",
              "        </tr>\n",
              "        <tr>\n",
              "            <td>98765</td>\n",
              "            <td>CS-101</td>\n",
              "            <td>1</td>\n",
              "            <td>Fall</td>\n",
              "            <td>2017</td>\n",
              "            <td>C-</td>\n",
              "        </tr>\n",
              "        <tr>\n",
              "            <td>98988</td>\n",
              "            <td>BIO-101</td>\n",
              "            <td>1</td>\n",
              "            <td>Summer</td>\n",
              "            <td>2017</td>\n",
              "            <td>A</td>\n",
              "        </tr>\n",
              "    </tbody>\n",
              "</table>"
            ]
          },
          "metadata": {},
          "execution_count": 47
        }
      ],
      "source": [
        "%%sql\n",
        "select * from takes\n",
        "where year<2018;"
      ]
    },
    {
      "cell_type": "markdown",
      "metadata": {
        "id": "mU3-aziEEOG4"
      },
      "source": [
        "### 13. Find student records taking courses in the fall semester and coming under first section."
      ]
    },
    {
      "cell_type": "code",
      "execution_count": 48,
      "metadata": {
        "colab": {
          "base_uri": "https://localhost:8080/",
          "height": 263
        },
        "id": "JjpEiKRFad_v",
        "outputId": "6a00f3fc-eb90-4590-ac84-f3ebb3ce9df9"
      },
      "outputs": [
        {
          "output_type": "stream",
          "name": "stdout",
          "text": [
            " * sqlite:///university.db\n",
            "Done.\n"
          ]
        },
        {
          "output_type": "execute_result",
          "data": {
            "text/plain": [
              "[('00128', 'CS-101', '1', 'Fall', 2017, 'A'),\n",
              " ('00128', 'CS-347', '1', 'Fall', 2017, 'A-'),\n",
              " ('12345', 'CS-101', '1', 'Fall', 2017, 'C'),\n",
              " ('12345', 'CS-347', '1', 'Fall', 2017, 'A'),\n",
              " ('44553', 'PHY-101', '1', 'Fall', 2017, 'B-'),\n",
              " ('45678', 'CS-101', '1', 'Fall', 2017, 'F'),\n",
              " ('54321', 'CS-101', '1', 'Fall', 2017, 'A-'),\n",
              " ('76543', 'CS-101', '1', 'Fall', 2017, 'A'),\n",
              " ('98765', 'CS-101', '1', 'Fall', 2017, 'C-')]"
            ],
            "text/html": [
              "<table>\n",
              "    <thead>\n",
              "        <tr>\n",
              "            <th>ID</th>\n",
              "            <th>course_id</th>\n",
              "            <th>sec_id</th>\n",
              "            <th>semester</th>\n",
              "            <th>year</th>\n",
              "            <th>grade</th>\n",
              "        </tr>\n",
              "    </thead>\n",
              "    <tbody>\n",
              "        <tr>\n",
              "            <td>00128</td>\n",
              "            <td>CS-101</td>\n",
              "            <td>1</td>\n",
              "            <td>Fall</td>\n",
              "            <td>2017</td>\n",
              "            <td>A</td>\n",
              "        </tr>\n",
              "        <tr>\n",
              "            <td>00128</td>\n",
              "            <td>CS-347</td>\n",
              "            <td>1</td>\n",
              "            <td>Fall</td>\n",
              "            <td>2017</td>\n",
              "            <td>A-</td>\n",
              "        </tr>\n",
              "        <tr>\n",
              "            <td>12345</td>\n",
              "            <td>CS-101</td>\n",
              "            <td>1</td>\n",
              "            <td>Fall</td>\n",
              "            <td>2017</td>\n",
              "            <td>C</td>\n",
              "        </tr>\n",
              "        <tr>\n",
              "            <td>12345</td>\n",
              "            <td>CS-347</td>\n",
              "            <td>1</td>\n",
              "            <td>Fall</td>\n",
              "            <td>2017</td>\n",
              "            <td>A</td>\n",
              "        </tr>\n",
              "        <tr>\n",
              "            <td>44553</td>\n",
              "            <td>PHY-101</td>\n",
              "            <td>1</td>\n",
              "            <td>Fall</td>\n",
              "            <td>2017</td>\n",
              "            <td>B-</td>\n",
              "        </tr>\n",
              "        <tr>\n",
              "            <td>45678</td>\n",
              "            <td>CS-101</td>\n",
              "            <td>1</td>\n",
              "            <td>Fall</td>\n",
              "            <td>2017</td>\n",
              "            <td>F</td>\n",
              "        </tr>\n",
              "        <tr>\n",
              "            <td>54321</td>\n",
              "            <td>CS-101</td>\n",
              "            <td>1</td>\n",
              "            <td>Fall</td>\n",
              "            <td>2017</td>\n",
              "            <td>A-</td>\n",
              "        </tr>\n",
              "        <tr>\n",
              "            <td>76543</td>\n",
              "            <td>CS-101</td>\n",
              "            <td>1</td>\n",
              "            <td>Fall</td>\n",
              "            <td>2017</td>\n",
              "            <td>A</td>\n",
              "        </tr>\n",
              "        <tr>\n",
              "            <td>98765</td>\n",
              "            <td>CS-101</td>\n",
              "            <td>1</td>\n",
              "            <td>Fall</td>\n",
              "            <td>2017</td>\n",
              "            <td>C-</td>\n",
              "        </tr>\n",
              "    </tbody>\n",
              "</table>"
            ]
          },
          "metadata": {},
          "execution_count": 48
        }
      ],
      "source": [
        "%%sql\n",
        "select * from takes\n",
        "where semester='Fall' and sec_id=1;"
      ]
    },
    {
      "cell_type": "markdown",
      "metadata": {
        "id": "3UyQgmTxEhGp"
      },
      "source": [
        "### 14. Find student records taking courses in the fall semester and coming under second section."
      ]
    },
    {
      "cell_type": "code",
      "execution_count": 49,
      "metadata": {
        "colab": {
          "base_uri": "https://localhost:8080/",
          "height": 74
        },
        "id": "gol-ERM7b-nC",
        "outputId": "842b951d-ccab-4237-c616-8336267d4b48"
      },
      "outputs": [
        {
          "output_type": "stream",
          "name": "stdout",
          "text": [
            " * sqlite:///university.db\n",
            "Done.\n"
          ]
        },
        {
          "output_type": "execute_result",
          "data": {
            "text/plain": [
              "[]"
            ],
            "text/html": [
              "<table>\n",
              "    <thead>\n",
              "        <tr>\n",
              "            <th>ID</th>\n",
              "            <th>course_id</th>\n",
              "            <th>sec_id</th>\n",
              "            <th>semester</th>\n",
              "            <th>year</th>\n",
              "            <th>grade</th>\n",
              "        </tr>\n",
              "    </thead>\n",
              "    <tbody>\n",
              "    </tbody>\n",
              "</table>"
            ]
          },
          "metadata": {},
          "execution_count": 49
        }
      ],
      "source": [
        "%%sql\n",
        "select * from takes\n",
        "where semester='Fall' and sec_id=2;"
      ]
    },
    {
      "cell_type": "markdown",
      "metadata": {
        "id": "v0Cd9bCTEl_U"
      },
      "source": [
        ""
      ]
    },
    {
      "cell_type": "code",
      "execution_count": 50,
      "metadata": {
        "colab": {
          "base_uri": "https://localhost:8080/",
          "height": 95
        },
        "id": "DH_gtJDfcBfb",
        "outputId": "569b13db-7df0-4c3f-e4b0-98a7b6af541c"
      },
      "outputs": [
        {
          "output_type": "stream",
          "name": "stdout",
          "text": [
            " * sqlite:///university.db\n",
            "Done.\n"
          ]
        },
        {
          "output_type": "execute_result",
          "data": {
            "text/plain": [
              "[('98988', 'BIO-101', '1', 'Summer', 2017, 'A')]"
            ],
            "text/html": [
              "<table>\n",
              "    <thead>\n",
              "        <tr>\n",
              "            <th>ID</th>\n",
              "            <th>course_id</th>\n",
              "            <th>sec_id</th>\n",
              "            <th>semester</th>\n",
              "            <th>year</th>\n",
              "            <th>grade</th>\n",
              "        </tr>\n",
              "    </thead>\n",
              "    <tbody>\n",
              "        <tr>\n",
              "            <td>98988</td>\n",
              "            <td>BIO-101</td>\n",
              "            <td>1</td>\n",
              "            <td>Summer</td>\n",
              "            <td>2017</td>\n",
              "            <td>A</td>\n",
              "        </tr>\n",
              "    </tbody>\n",
              "</table>"
            ]
          },
          "metadata": {},
          "execution_count": 50
        }
      ],
      "source": [
        "%%sql\n",
        "select * from takes \n",
        "where semester='Summer' and sec_id=1 and year=2017;"
      ]
    },
    {
      "cell_type": "markdown",
      "metadata": {
        "id": "-F5bRcRZEu1Y"
      },
      "source": [
        "### 16. Find student records taking courses in the fall semester and having A grade."
      ]
    },
    {
      "cell_type": "code",
      "execution_count": 51,
      "metadata": {
        "colab": {
          "base_uri": "https://localhost:8080/",
          "height": 137
        },
        "id": "wuqGLX0fcFAd",
        "outputId": "312d81fe-08fc-4fb3-9f7e-32b45bc7f336"
      },
      "outputs": [
        {
          "output_type": "stream",
          "name": "stdout",
          "text": [
            " * sqlite:///university.db\n",
            "Done.\n"
          ]
        },
        {
          "output_type": "execute_result",
          "data": {
            "text/plain": [
              "[('00128', 'CS-101', '1', 'Fall', 2017, 'A'),\n",
              " ('12345', 'CS-347', '1', 'Fall', 2017, 'A'),\n",
              " ('76543', 'CS-101', '1', 'Fall', 2017, 'A')]"
            ],
            "text/html": [
              "<table>\n",
              "    <thead>\n",
              "        <tr>\n",
              "            <th>ID</th>\n",
              "            <th>course_id</th>\n",
              "            <th>sec_id</th>\n",
              "            <th>semester</th>\n",
              "            <th>year</th>\n",
              "            <th>grade</th>\n",
              "        </tr>\n",
              "    </thead>\n",
              "    <tbody>\n",
              "        <tr>\n",
              "            <td>00128</td>\n",
              "            <td>CS-101</td>\n",
              "            <td>1</td>\n",
              "            <td>Fall</td>\n",
              "            <td>2017</td>\n",
              "            <td>A</td>\n",
              "        </tr>\n",
              "        <tr>\n",
              "            <td>12345</td>\n",
              "            <td>CS-347</td>\n",
              "            <td>1</td>\n",
              "            <td>Fall</td>\n",
              "            <td>2017</td>\n",
              "            <td>A</td>\n",
              "        </tr>\n",
              "        <tr>\n",
              "            <td>76543</td>\n",
              "            <td>CS-101</td>\n",
              "            <td>1</td>\n",
              "            <td>Fall</td>\n",
              "            <td>2017</td>\n",
              "            <td>A</td>\n",
              "        </tr>\n",
              "    </tbody>\n",
              "</table>"
            ]
          },
          "metadata": {},
          "execution_count": 51
        }
      ],
      "source": [
        "%%sql\n",
        "select * from takes \n",
        "where semester='Fall' and grade='A';"
      ]
    },
    {
      "cell_type": "markdown",
      "metadata": {
        "id": "hK5B_kW_E32Z"
      },
      "source": [
        "### 17. Find student records taking courses in the summer semester and having A grade."
      ]
    },
    {
      "cell_type": "code",
      "execution_count": 52,
      "metadata": {
        "colab": {
          "base_uri": "https://localhost:8080/",
          "height": 95
        },
        "id": "pG_occyncRul",
        "outputId": "d51ba4a7-4eec-45ed-c7b9-4fa908e89bb1"
      },
      "outputs": [
        {
          "output_type": "stream",
          "name": "stdout",
          "text": [
            " * sqlite:///university.db\n",
            "Done.\n"
          ]
        },
        {
          "output_type": "execute_result",
          "data": {
            "text/plain": [
              "[('98988', 'BIO-101', '1', 'Summer', 2017, 'A')]"
            ],
            "text/html": [
              "<table>\n",
              "    <thead>\n",
              "        <tr>\n",
              "            <th>ID</th>\n",
              "            <th>course_id</th>\n",
              "            <th>sec_id</th>\n",
              "            <th>semester</th>\n",
              "            <th>year</th>\n",
              "            <th>grade</th>\n",
              "        </tr>\n",
              "    </thead>\n",
              "    <tbody>\n",
              "        <tr>\n",
              "            <td>98988</td>\n",
              "            <td>BIO-101</td>\n",
              "            <td>1</td>\n",
              "            <td>Summer</td>\n",
              "            <td>2017</td>\n",
              "            <td>A</td>\n",
              "        </tr>\n",
              "    </tbody>\n",
              "</table>"
            ]
          },
          "metadata": {},
          "execution_count": 52
        }
      ],
      "source": [
        "%%sql\n",
        "select * from takes \n",
        "where semester='Summer' and grade='A';"
      ]
    },
    {
      "cell_type": "markdown",
      "metadata": {
        "id": "VesPAlUWFESq"
      },
      "source": [
        "### 18. Display section details with B time slot, room number 514 and in the Painter building."
      ]
    },
    {
      "cell_type": "code",
      "execution_count": 53,
      "metadata": {
        "colab": {
          "base_uri": "https://localhost:8080/",
          "height": 95
        },
        "id": "4iyPijh1cUxv",
        "outputId": "283070d2-e019-4de3-90d5-547d896aaf28"
      },
      "outputs": [
        {
          "output_type": "stream",
          "name": "stdout",
          "text": [
            " * sqlite:///university.db\n",
            "Done.\n"
          ]
        },
        {
          "output_type": "execute_result",
          "data": {
            "text/plain": [
              "[('BIO-101', '1', 'Summer', 2017, 'Painter', '514', 'B')]"
            ],
            "text/html": [
              "<table>\n",
              "    <thead>\n",
              "        <tr>\n",
              "            <th>course_id</th>\n",
              "            <th>sec_id</th>\n",
              "            <th>semester</th>\n",
              "            <th>year</th>\n",
              "            <th>building</th>\n",
              "            <th>room_number</th>\n",
              "            <th>time_slot_id</th>\n",
              "        </tr>\n",
              "    </thead>\n",
              "    <tbody>\n",
              "        <tr>\n",
              "            <td>BIO-101</td>\n",
              "            <td>1</td>\n",
              "            <td>Summer</td>\n",
              "            <td>2017</td>\n",
              "            <td>Painter</td>\n",
              "            <td>514</td>\n",
              "            <td>B</td>\n",
              "        </tr>\n",
              "    </tbody>\n",
              "</table>"
            ]
          },
          "metadata": {},
          "execution_count": 53
        }
      ],
      "source": [
        "%%sql\n",
        "select * from section \n",
        "where time_slot_id='B' and room_number=514 and building='Painter';"
      ]
    },
    {
      "cell_type": "markdown",
      "metadata": {
        "id": "Mo7ONfvx7t_v"
      },
      "source": [
        "### 19. Find all course titles which have a string \"Intro.\"."
      ]
    },
    {
      "cell_type": "code",
      "execution_count": 54,
      "metadata": {
        "colab": {
          "base_uri": "https://localhost:8080/",
          "height": 137
        },
        "id": "ZBmGgQiO8DZt",
        "outputId": "b6d5fa23-64a8-4558-f93e-65e08639cb27"
      },
      "outputs": [
        {
          "output_type": "stream",
          "name": "stdout",
          "text": [
            " * sqlite:///university.db\n",
            "Done.\n"
          ]
        },
        {
          "output_type": "execute_result",
          "data": {
            "text/plain": [
              "[('Intro. to Biology',),\n",
              " ('Intro. to Computer Science',),\n",
              " ('Intro. to Digital Systems',)]"
            ],
            "text/html": [
              "<table>\n",
              "    <thead>\n",
              "        <tr>\n",
              "            <th>title</th>\n",
              "        </tr>\n",
              "    </thead>\n",
              "    <tbody>\n",
              "        <tr>\n",
              "            <td>Intro. to Biology</td>\n",
              "        </tr>\n",
              "        <tr>\n",
              "            <td>Intro. to Computer Science</td>\n",
              "        </tr>\n",
              "        <tr>\n",
              "            <td>Intro. to Digital Systems</td>\n",
              "        </tr>\n",
              "    </tbody>\n",
              "</table>"
            ]
          },
          "metadata": {},
          "execution_count": 54
        }
      ],
      "source": [
        "%%sql\n",
        "select title from course\n",
        "where title like 'Intro%';"
      ]
    },
    {
      "cell_type": "markdown",
      "metadata": {
        "id": "mCyqNxky9DhE"
      },
      "source": [
        "### 20. Find the titles of courses in the Computer Science department that have 3 credits."
      ]
    },
    {
      "cell_type": "code",
      "execution_count": 55,
      "metadata": {
        "colab": {
          "base_uri": "https://localhost:8080/",
          "height": 137
        },
        "id": "5J8Yu0wO87_H",
        "outputId": "32504d34-cbc7-48aa-9c0d-b5a72e52bbf8"
      },
      "outputs": [
        {
          "output_type": "stream",
          "name": "stdout",
          "text": [
            " * sqlite:///university.db\n",
            "Done.\n"
          ]
        },
        {
          "output_type": "execute_result",
          "data": {
            "text/plain": [
              "[('Robotics',), ('Image Processing',), ('Database System Concepts',)]"
            ],
            "text/html": [
              "<table>\n",
              "    <thead>\n",
              "        <tr>\n",
              "            <th>title</th>\n",
              "        </tr>\n",
              "    </thead>\n",
              "    <tbody>\n",
              "        <tr>\n",
              "            <td>Robotics</td>\n",
              "        </tr>\n",
              "        <tr>\n",
              "            <td>Image Processing</td>\n",
              "        </tr>\n",
              "        <tr>\n",
              "            <td>Database System Concepts</td>\n",
              "        </tr>\n",
              "    </tbody>\n",
              "</table>"
            ]
          },
          "metadata": {},
          "execution_count": 55
        }
      ],
      "source": [
        "%%sql\n",
        "select title from course\n",
        "where dept_name like 'comp%' and credits=3;"
      ]
    },
    {
      "cell_type": "markdown",
      "metadata": {
        "id": "lAVCV57I9i6M"
      },
      "source": [
        "### 21. Find IDs and titles of all the courses which were taught by an instructor named Einstein. Make sure there are no duplicates in the result.\n",
        "\n"
      ]
    },
    {
      "cell_type": "code",
      "execution_count": 56,
      "metadata": {
        "colab": {
          "base_uri": "https://localhost:8080/",
          "height": 95
        },
        "id": "4J0bQ_W29hLm",
        "outputId": "ecba0492-d364-4dc2-b6f6-3608ee0256aa"
      },
      "outputs": [
        {
          "output_type": "stream",
          "name": "stdout",
          "text": [
            " * sqlite:///university.db\n",
            "Done.\n"
          ]
        },
        {
          "output_type": "execute_result",
          "data": {
            "text/plain": [
              "[('PHY-101', 'Physical Principles')]"
            ],
            "text/html": [
              "<table>\n",
              "    <thead>\n",
              "        <tr>\n",
              "            <th>course_id</th>\n",
              "            <th>title</th>\n",
              "        </tr>\n",
              "    </thead>\n",
              "    <tbody>\n",
              "        <tr>\n",
              "            <td>PHY-101</td>\n",
              "            <td>Physical Principles</td>\n",
              "        </tr>\n",
              "    </tbody>\n",
              "</table>"
            ]
          },
          "metadata": {},
          "execution_count": 56
        }
      ],
      "source": [
        "%%sql\n",
        "select course_id,title from course\n",
        "  inner join instructor on instructor.dept_name=course.dept_name\n",
        "where instructor.name like 'Ein%'"
      ]
    },
    {
      "cell_type": "markdown",
      "metadata": {
        "id": "VJC-TaAiIKeo"
      },
      "source": [
        "### 22. Find all course IDs which start with CS"
      ]
    },
    {
      "cell_type": "code",
      "execution_count": 57,
      "metadata": {
        "colab": {
          "base_uri": "https://localhost:8080/",
          "height": 179
        },
        "id": "Rf-w9oqH-giN",
        "outputId": "3974b95f-3686-46d3-8beb-1876a80e67b9"
      },
      "outputs": [
        {
          "output_type": "stream",
          "name": "stdout",
          "text": [
            " * sqlite:///university.db\n",
            "Done.\n"
          ]
        },
        {
          "output_type": "execute_result",
          "data": {
            "text/plain": [
              "[('CS-101',), ('CS-190',), ('CS-315',), ('CS-319',), ('CS-347',)]"
            ],
            "text/html": [
              "<table>\n",
              "    <thead>\n",
              "        <tr>\n",
              "            <th>course_id</th>\n",
              "        </tr>\n",
              "    </thead>\n",
              "    <tbody>\n",
              "        <tr>\n",
              "            <td>CS-101</td>\n",
              "        </tr>\n",
              "        <tr>\n",
              "            <td>CS-190</td>\n",
              "        </tr>\n",
              "        <tr>\n",
              "            <td>CS-315</td>\n",
              "        </tr>\n",
              "        <tr>\n",
              "            <td>CS-319</td>\n",
              "        </tr>\n",
              "        <tr>\n",
              "            <td>CS-347</td>\n",
              "        </tr>\n",
              "    </tbody>\n",
              "</table>"
            ]
          },
          "metadata": {},
          "execution_count": 57
        }
      ],
      "source": [
        "%%sql\n",
        "select course_id from course\n",
        "where course_id like 'CS%';"
      ]
    },
    {
      "cell_type": "markdown",
      "metadata": {
        "id": "z5QSpA_MLbKz"
      },
      "source": [
        "### 23. For each department, find the maximum salary of instructors in that department."
      ]
    },
    {
      "cell_type": "code",
      "execution_count": 58,
      "metadata": {
        "colab": {
          "base_uri": "https://localhost:8080/",
          "height": 221
        },
        "id": "tQ37D2mPJbRx",
        "outputId": "7f51bc45-e72a-4a5d-95a8-e5279a25fc5c"
      },
      "outputs": [
        {
          "output_type": "stream",
          "name": "stdout",
          "text": [
            " * sqlite:///university.db\n",
            "Done.\n"
          ]
        },
        {
          "output_type": "execute_result",
          "data": {
            "text/plain": [
              "[('Biology', 72000),\n",
              " ('Comp. Sci.', 92000),\n",
              " ('Elec. Eng.', 80000),\n",
              " ('Finance', 90000),\n",
              " ('History', 62000),\n",
              " ('Music', 40000),\n",
              " ('Physics', 95000)]"
            ],
            "text/html": [
              "<table>\n",
              "    <thead>\n",
              "        <tr>\n",
              "            <th>dept_name</th>\n",
              "            <th>Maximum Salary</th>\n",
              "        </tr>\n",
              "    </thead>\n",
              "    <tbody>\n",
              "        <tr>\n",
              "            <td>Biology</td>\n",
              "            <td>72000</td>\n",
              "        </tr>\n",
              "        <tr>\n",
              "            <td>Comp. Sci.</td>\n",
              "            <td>92000</td>\n",
              "        </tr>\n",
              "        <tr>\n",
              "            <td>Elec. Eng.</td>\n",
              "            <td>80000</td>\n",
              "        </tr>\n",
              "        <tr>\n",
              "            <td>Finance</td>\n",
              "            <td>90000</td>\n",
              "        </tr>\n",
              "        <tr>\n",
              "            <td>History</td>\n",
              "            <td>62000</td>\n",
              "        </tr>\n",
              "        <tr>\n",
              "            <td>Music</td>\n",
              "            <td>40000</td>\n",
              "        </tr>\n",
              "        <tr>\n",
              "            <td>Physics</td>\n",
              "            <td>95000</td>\n",
              "        </tr>\n",
              "    </tbody>\n",
              "</table>"
            ]
          },
          "metadata": {},
          "execution_count": 58
        }
      ],
      "source": [
        "%%sql\n",
        "select dept_name,max(salary) as 'Maximum Salary' from instructor\n",
        "group by dept_name;"
      ]
    },
    {
      "cell_type": "markdown",
      "metadata": {
        "id": "M2ycswNeL3nb"
      },
      "source": [
        "### 24. Find the enrollment (number of students) of each section that was offered in Fall 2017."
      ]
    },
    {
      "cell_type": "code",
      "execution_count": 59,
      "metadata": {
        "colab": {
          "base_uri": "https://localhost:8080/",
          "height": 95
        },
        "id": "i_3pKQD9Lyc8",
        "outputId": "c0ec543c-9400-4975-d622-b2da0af5c47f"
      },
      "outputs": [
        {
          "output_type": "stream",
          "name": "stdout",
          "text": [
            " * sqlite:///university.db\n",
            "Done.\n"
          ]
        },
        {
          "output_type": "execute_result",
          "data": {
            "text/plain": [
              "[('1', 9, 'Fall', 2017)]"
            ],
            "text/html": [
              "<table>\n",
              "    <thead>\n",
              "        <tr>\n",
              "            <th>sec_id</th>\n",
              "            <th>number of students</th>\n",
              "            <th>semester</th>\n",
              "            <th>year</th>\n",
              "        </tr>\n",
              "    </thead>\n",
              "    <tbody>\n",
              "        <tr>\n",
              "            <td>1</td>\n",
              "            <td>9</td>\n",
              "            <td>Fall</td>\n",
              "            <td>2017</td>\n",
              "        </tr>\n",
              "    </tbody>\n",
              "</table>"
            ]
          },
          "metadata": {},
          "execution_count": 59
        }
      ],
      "source": [
        "%%sql\n",
        "select sec_id,count(id) as 'number of students', semester, year \n",
        "from takes\n",
        "where year=2017 and semester='Fall';"
      ]
    },
    {
      "cell_type": "markdown",
      "metadata": {
        "id": "EHmDAxSRNhoF"
      },
      "source": [
        "### 25. Increase(update) the salary of each instructor by 10% if their current salary is between 0 and 90000."
      ]
    },
    {
      "cell_type": "code",
      "execution_count": 60,
      "metadata": {
        "colab": {
          "base_uri": "https://localhost:8080/"
        },
        "id": "dqHhLJ-dMeox",
        "outputId": "3a856677-77a5-447d-bb0e-bd7d35b68df7"
      },
      "outputs": [
        {
          "output_type": "stream",
          "name": "stdout",
          "text": [
            " * sqlite:///university.db\n",
            "9 rows affected.\n"
          ]
        },
        {
          "output_type": "execute_result",
          "data": {
            "text/plain": [
              "[]"
            ]
          },
          "metadata": {},
          "execution_count": 60
        }
      ],
      "source": [
        "%%sql\n",
        "update instructor \n",
        "  set salary = salary+(0.1*salary) \n",
        "    where salary<90000;"
      ]
    },
    {
      "cell_type": "markdown",
      "source": [
        "by mistake i did'nt put '=' with operation, thus 1 row was not affected, thus added another update command with it."
      ],
      "metadata": {
        "id": "CudeuBxcsz3u"
      }
    },
    {
      "cell_type": "code",
      "source": [
        "%%sql\n",
        "update instructor \n",
        "  set salary = salary+(0.1*salary) \n",
        "    where salary=90000;"
      ],
      "metadata": {
        "colab": {
          "base_uri": "https://localhost:8080/"
        },
        "id": "__xsV-sCso3X",
        "outputId": "fbd862f4-64ad-490a-fb8c-f2d398f0db20"
      },
      "execution_count": 61,
      "outputs": [
        {
          "output_type": "stream",
          "name": "stdout",
          "text": [
            " * sqlite:///university.db\n",
            "1 rows affected.\n"
          ]
        },
        {
          "output_type": "execute_result",
          "data": {
            "text/plain": [
              "[]"
            ]
          },
          "metadata": {},
          "execution_count": 61
        }
      ]
    },
    {
      "cell_type": "code",
      "execution_count": 62,
      "metadata": {
        "colab": {
          "base_uri": "https://localhost:8080/",
          "height": 326
        },
        "id": "dyjS5WbuAsyo",
        "outputId": "20baf496-92fa-46af-d045-1cfcd365efa5"
      },
      "outputs": [
        {
          "output_type": "stream",
          "name": "stdout",
          "text": [
            " * sqlite:///university.db\n",
            "Done.\n"
          ]
        },
        {
          "output_type": "execute_result",
          "data": {
            "text/plain": [
              "[('Srinivasan', 71500),\n",
              " ('Wu', 99000),\n",
              " ('Mozart', 44000),\n",
              " ('Einstein', 95000),\n",
              " ('El Said', 66000),\n",
              " ('Gold', 95700),\n",
              " ('Katz', 82500),\n",
              " ('Califieri', 68200),\n",
              " ('Singh', 88000),\n",
              " ('Crick', 79200),\n",
              " ('Brandt', 92000),\n",
              " ('Kim', 88000)]"
            ],
            "text/html": [
              "<table>\n",
              "    <thead>\n",
              "        <tr>\n",
              "            <th>name</th>\n",
              "            <th>salary</th>\n",
              "        </tr>\n",
              "    </thead>\n",
              "    <tbody>\n",
              "        <tr>\n",
              "            <td>Srinivasan</td>\n",
              "            <td>71500</td>\n",
              "        </tr>\n",
              "        <tr>\n",
              "            <td>Wu</td>\n",
              "            <td>99000</td>\n",
              "        </tr>\n",
              "        <tr>\n",
              "            <td>Mozart</td>\n",
              "            <td>44000</td>\n",
              "        </tr>\n",
              "        <tr>\n",
              "            <td>Einstein</td>\n",
              "            <td>95000</td>\n",
              "        </tr>\n",
              "        <tr>\n",
              "            <td>El Said</td>\n",
              "            <td>66000</td>\n",
              "        </tr>\n",
              "        <tr>\n",
              "            <td>Gold</td>\n",
              "            <td>95700</td>\n",
              "        </tr>\n",
              "        <tr>\n",
              "            <td>Katz</td>\n",
              "            <td>82500</td>\n",
              "        </tr>\n",
              "        <tr>\n",
              "            <td>Califieri</td>\n",
              "            <td>68200</td>\n",
              "        </tr>\n",
              "        <tr>\n",
              "            <td>Singh</td>\n",
              "            <td>88000</td>\n",
              "        </tr>\n",
              "        <tr>\n",
              "            <td>Crick</td>\n",
              "            <td>79200</td>\n",
              "        </tr>\n",
              "        <tr>\n",
              "            <td>Brandt</td>\n",
              "            <td>92000</td>\n",
              "        </tr>\n",
              "        <tr>\n",
              "            <td>Kim</td>\n",
              "            <td>88000</td>\n",
              "        </tr>\n",
              "    </tbody>\n",
              "</table>"
            ]
          },
          "metadata": {},
          "execution_count": 62
        }
      ],
      "source": [
        "%%sql\n",
        "select name, salary from instructor"
      ]
    },
    {
      "cell_type": "markdown",
      "metadata": {
        "id": "hEuwCu_zGxqG"
      },
      "source": [
        "### 26. Find the names of instructors from Biology department having salary more than 50000."
      ]
    },
    {
      "cell_type": "code",
      "execution_count": 63,
      "metadata": {
        "colab": {
          "base_uri": "https://localhost:8080/",
          "height": 95
        },
        "id": "8jAB9DY9BRlN",
        "outputId": "53f2cdd8-7255-4892-b3dd-2a2412202d7a"
      },
      "outputs": [
        {
          "output_type": "stream",
          "name": "stdout",
          "text": [
            " * sqlite:///university.db\n",
            "Done.\n"
          ]
        },
        {
          "output_type": "execute_result",
          "data": {
            "text/plain": [
              "[('Crick', 79200)]"
            ],
            "text/html": [
              "<table>\n",
              "    <thead>\n",
              "        <tr>\n",
              "            <th>name</th>\n",
              "            <th>salary</th>\n",
              "        </tr>\n",
              "    </thead>\n",
              "    <tbody>\n",
              "        <tr>\n",
              "            <td>Crick</td>\n",
              "            <td>79200</td>\n",
              "        </tr>\n",
              "    </tbody>\n",
              "</table>"
            ]
          },
          "metadata": {},
          "execution_count": 63
        }
      ],
      "source": [
        "%%sql\n",
        "select name, salary from instructor\n",
        "where dept_name='Biology' and salary>50000;"
      ]
    },
    {
      "cell_type": "markdown",
      "metadata": {
        "id": "L04lAbm7HHjc"
      },
      "source": [
        "### 27. Find the IDs and titles of all courses taken by a student named Shankar."
      ]
    },
    {
      "cell_type": "code",
      "execution_count": 64,
      "metadata": {
        "colab": {
          "base_uri": "https://localhost:8080/",
          "height": 158
        },
        "id": "xSZsLmfnHFU9",
        "outputId": "8d40bd28-ac19-46f8-8d08-edc3a564cc33"
      },
      "outputs": [
        {
          "output_type": "stream",
          "name": "stdout",
          "text": [
            " * sqlite:///university.db\n",
            "Done.\n"
          ]
        },
        {
          "output_type": "execute_result",
          "data": {
            "text/plain": [
              "[('Shankar', 'CS-101', 'Intro. to Computer Science'),\n",
              " ('Shankar', 'CS-190', 'Game Design'),\n",
              " ('Shankar', 'CS-315', 'Robotics'),\n",
              " ('Shankar', 'CS-347', 'Database System Concepts')]"
            ],
            "text/html": [
              "<table>\n",
              "    <thead>\n",
              "        <tr>\n",
              "            <th>name</th>\n",
              "            <th>course_id</th>\n",
              "            <th>title</th>\n",
              "        </tr>\n",
              "    </thead>\n",
              "    <tbody>\n",
              "        <tr>\n",
              "            <td>Shankar</td>\n",
              "            <td>CS-101</td>\n",
              "            <td>Intro. to Computer Science</td>\n",
              "        </tr>\n",
              "        <tr>\n",
              "            <td>Shankar</td>\n",
              "            <td>CS-190</td>\n",
              "            <td>Game Design</td>\n",
              "        </tr>\n",
              "        <tr>\n",
              "            <td>Shankar</td>\n",
              "            <td>CS-315</td>\n",
              "            <td>Robotics</td>\n",
              "        </tr>\n",
              "        <tr>\n",
              "            <td>Shankar</td>\n",
              "            <td>CS-347</td>\n",
              "            <td>Database System Concepts</td>\n",
              "        </tr>\n",
              "    </tbody>\n",
              "</table>"
            ]
          },
          "metadata": {},
          "execution_count": 64
        }
      ],
      "source": [
        "%%sql\n",
        "select stu.name, tak.course_id,co.title from student stu\n",
        "  inner join takes tak on stu.id=tak.id\n",
        "  inner join course co on tak.course_id=co.course_id\n",
        "where stu.name='Shankar';"
      ]
    },
    {
      "cell_type": "markdown",
      "metadata": {
        "id": "OS86n2gQJLA5"
      },
      "source": [
        "### 28. For each department, find the total credit hours of courses in that department.\n",
        "\n",
        "\n",
        "\n"
      ]
    },
    {
      "cell_type": "code",
      "execution_count": 65,
      "metadata": {
        "colab": {
          "base_uri": "https://localhost:8080/",
          "height": 221
        },
        "id": "lLHcS_RyI5CO",
        "outputId": "315ae36e-f551-48e9-8eb2-ff006db7aedc"
      },
      "outputs": [
        {
          "output_type": "stream",
          "name": "stdout",
          "text": [
            " * sqlite:///university.db\n",
            "Done.\n"
          ]
        },
        {
          "output_type": "execute_result",
          "data": {
            "text/plain": [
              "[('BIO-399', 'Biology', 11),\n",
              " ('CS-347', 'Comp. Sci.', 17),\n",
              " ('EE-181', 'Elec. Eng.', 3),\n",
              " ('FIN-201', 'Finance', 3),\n",
              " ('HIS-351', 'History', 3),\n",
              " ('MU-199', 'Music', 3),\n",
              " ('PHY-101', 'Physics', 4)]"
            ],
            "text/html": [
              "<table>\n",
              "    <thead>\n",
              "        <tr>\n",
              "            <th>course_id</th>\n",
              "            <th>dept_name</th>\n",
              "            <th>total credits</th>\n",
              "        </tr>\n",
              "    </thead>\n",
              "    <tbody>\n",
              "        <tr>\n",
              "            <td>BIO-399</td>\n",
              "            <td>Biology</td>\n",
              "            <td>11</td>\n",
              "        </tr>\n",
              "        <tr>\n",
              "            <td>CS-347</td>\n",
              "            <td>Comp. Sci.</td>\n",
              "            <td>17</td>\n",
              "        </tr>\n",
              "        <tr>\n",
              "            <td>EE-181</td>\n",
              "            <td>Elec. Eng.</td>\n",
              "            <td>3</td>\n",
              "        </tr>\n",
              "        <tr>\n",
              "            <td>FIN-201</td>\n",
              "            <td>Finance</td>\n",
              "            <td>3</td>\n",
              "        </tr>\n",
              "        <tr>\n",
              "            <td>HIS-351</td>\n",
              "            <td>History</td>\n",
              "            <td>3</td>\n",
              "        </tr>\n",
              "        <tr>\n",
              "            <td>MU-199</td>\n",
              "            <td>Music</td>\n",
              "            <td>3</td>\n",
              "        </tr>\n",
              "        <tr>\n",
              "            <td>PHY-101</td>\n",
              "            <td>Physics</td>\n",
              "            <td>4</td>\n",
              "        </tr>\n",
              "    </tbody>\n",
              "</table>"
            ]
          },
          "metadata": {},
          "execution_count": 65
        }
      ],
      "source": [
        "%%sql\n",
        "select course_id,dept_name,sum(credits) as 'total credits' from course\n",
        "group by dept_name;"
      ]
    },
    {
      "cell_type": "markdown",
      "metadata": {
        "id": "7vtWKtTmNG7N"
      },
      "source": [
        "### 29. Find the number of courses having A grade in each building."
      ]
    },
    {
      "cell_type": "code",
      "execution_count": 66,
      "metadata": {
        "colab": {
          "base_uri": "https://localhost:8080/",
          "height": 158
        },
        "id": "y5RpM4YtKXOZ",
        "outputId": "3c673c5e-34e7-4ef8-ecc9-11e2e6ca2fee"
      },
      "outputs": [
        {
          "output_type": "stream",
          "name": "stdout",
          "text": [
            " * sqlite:///university.db\n",
            "Done.\n"
          ]
        },
        {
          "output_type": "execute_result",
          "data": {
            "text/plain": [
              "[('Packard', 4, 'A'),\n",
              " ('Painter', 1, 'A'),\n",
              " ('Taylor', 4, 'A'),\n",
              " ('Watson', 2, 'A')]"
            ],
            "text/html": [
              "<table>\n",
              "    <thead>\n",
              "        <tr>\n",
              "            <th>building</th>\n",
              "            <th>number of courses</th>\n",
              "            <th>grade</th>\n",
              "        </tr>\n",
              "    </thead>\n",
              "    <tbody>\n",
              "        <tr>\n",
              "            <td>Packard</td>\n",
              "            <td>4</td>\n",
              "            <td>A</td>\n",
              "        </tr>\n",
              "        <tr>\n",
              "            <td>Painter</td>\n",
              "            <td>1</td>\n",
              "            <td>A</td>\n",
              "        </tr>\n",
              "        <tr>\n",
              "            <td>Taylor</td>\n",
              "            <td>4</td>\n",
              "            <td>A</td>\n",
              "        </tr>\n",
              "        <tr>\n",
              "            <td>Watson</td>\n",
              "            <td>2</td>\n",
              "            <td>A</td>\n",
              "        </tr>\n",
              "    </tbody>\n",
              "</table>"
            ]
          },
          "metadata": {},
          "execution_count": 66
        }
      ],
      "source": [
        "%%sql\n",
        "select sec.building, count(tak.course_id) as 'number of courses', tak.grade from takes tak\n",
        "  inner join section sec on tak.course_id=sec.course_id\n",
        "where tak.grade='A'\n",
        "group by sec.building;\n"
      ]
    },
    {
      "cell_type": "markdown",
      "metadata": {
        "id": "nNHjrbhbavoJ"
      },
      "source": [
        "### 30. Display number of students in each department having total credits divisible by course credits."
      ]
    },
    {
      "cell_type": "code",
      "execution_count": 67,
      "metadata": {
        "colab": {
          "base_uri": "https://localhost:8080/",
          "height": 158
        },
        "id": "hgKHaNDGac8M",
        "outputId": "b78f3364-7717-4069-9614-ff992d99125f"
      },
      "outputs": [
        {
          "output_type": "stream",
          "name": "stdout",
          "text": [
            " * sqlite:///university.db\n",
            "Done.\n"
          ]
        },
        {
          "output_type": "execute_result",
          "data": {
            "text/plain": [
              "[('Biology', 3), ('Comp. Sci.', 8), ('Elec. Eng.', 1), ('Physics', 2)]"
            ],
            "text/html": [
              "<table>\n",
              "    <thead>\n",
              "        <tr>\n",
              "            <th>dept_name</th>\n",
              "            <th>number of students</th>\n",
              "        </tr>\n",
              "    </thead>\n",
              "    <tbody>\n",
              "        <tr>\n",
              "            <td>Biology</td>\n",
              "            <td>3</td>\n",
              "        </tr>\n",
              "        <tr>\n",
              "            <td>Comp. Sci.</td>\n",
              "            <td>8</td>\n",
              "        </tr>\n",
              "        <tr>\n",
              "            <td>Elec. Eng.</td>\n",
              "            <td>1</td>\n",
              "        </tr>\n",
              "        <tr>\n",
              "            <td>Physics</td>\n",
              "            <td>2</td>\n",
              "        </tr>\n",
              "    </tbody>\n",
              "</table>"
            ]
          },
          "metadata": {},
          "execution_count": 67
        }
      ],
      "source": [
        "%%sql\n",
        "select student.dept_name, count(student.name) as 'number of students' from student\n",
        "  inner join course on student.dept_name=course.dept_name\n",
        "where (student.tot_cred%course.credits)=0\n",
        "group by student.dept_name;\n"
      ]
    },
    {
      "cell_type": "markdown",
      "metadata": {
        "id": "ed4USuZ-gkwo"
      },
      "source": [
        "### 31. Display number of courses available in each building."
      ]
    },
    {
      "cell_type": "code",
      "execution_count": 68,
      "metadata": {
        "colab": {
          "base_uri": "https://localhost:8080/",
          "height": 158
        },
        "id": "FsgFVH6ubnQ-",
        "outputId": "32d5e432-0a9a-4dff-ce70-698e55d43145"
      },
      "outputs": [
        {
          "output_type": "stream",
          "name": "stdout",
          "text": [
            " * sqlite:///university.db\n",
            "Done.\n"
          ]
        },
        {
          "output_type": "execute_result",
          "data": {
            "text/plain": [
              "[('Packard', 1), ('Painter', 2), ('Taylor', 6), ('Watson', 4)]"
            ],
            "text/html": [
              "<table>\n",
              "    <thead>\n",
              "        <tr>\n",
              "            <th>building</th>\n",
              "            <th>number of courses</th>\n",
              "        </tr>\n",
              "    </thead>\n",
              "    <tbody>\n",
              "        <tr>\n",
              "            <td>Packard</td>\n",
              "            <td>1</td>\n",
              "        </tr>\n",
              "        <tr>\n",
              "            <td>Painter</td>\n",
              "            <td>2</td>\n",
              "        </tr>\n",
              "        <tr>\n",
              "            <td>Taylor</td>\n",
              "            <td>6</td>\n",
              "        </tr>\n",
              "        <tr>\n",
              "            <td>Watson</td>\n",
              "            <td>4</td>\n",
              "        </tr>\n",
              "    </tbody>\n",
              "</table>"
            ]
          },
          "metadata": {},
          "execution_count": 68
        }
      ],
      "source": [
        "%%sql\n",
        "SELECT building,count(course_id) as 'number of courses' \n",
        "from course,department where department.dept_name=course.dept_name\n",
        "group by building;\n"
      ]
    },
    {
      "cell_type": "markdown",
      "metadata": {
        "id": "cJxJQUo5iTP-"
      },
      "source": [
        "### 32. Find number of instructors in each department having 'a' and 'e' in their name."
      ]
    },
    {
      "cell_type": "code",
      "execution_count": 69,
      "metadata": {
        "colab": {
          "base_uri": "https://localhost:8080/",
          "height": 95
        },
        "id": "QQ1vfig4iQoQ",
        "outputId": "8ef866cb-cc1b-4f30-c466-eb9ed5b7319f"
      },
      "outputs": [
        {
          "output_type": "stream",
          "name": "stdout",
          "text": [
            " * sqlite:///university.db\n",
            "Done.\n"
          ]
        },
        {
          "output_type": "execute_result",
          "data": {
            "text/plain": [
              "[('History', 1)]"
            ],
            "text/html": [
              "<table>\n",
              "    <thead>\n",
              "        <tr>\n",
              "            <th>dept_name</th>\n",
              "            <th>number of instructors</th>\n",
              "        </tr>\n",
              "    </thead>\n",
              "    <tbody>\n",
              "        <tr>\n",
              "            <td>History</td>\n",
              "            <td>1</td>\n",
              "        </tr>\n",
              "    </tbody>\n",
              "</table>"
            ]
          },
          "metadata": {},
          "execution_count": 69
        }
      ],
      "source": [
        "%%sql\n",
        "select dept_name,count(id) as 'number of instructors'  from instructor\n",
        "where name like '%e%a%'\n",
        "group by dept_name;"
      ]
    },
    {
      "cell_type": "markdown",
      "metadata": {
        "id": "ATiQ9nK9jP2f"
      },
      "source": [
        "### 33. Display number of courses being taught in classroom having capacity more than 20."
      ]
    },
    {
      "cell_type": "code",
      "execution_count": 70,
      "metadata": {
        "colab": {
          "base_uri": "https://localhost:8080/",
          "height": 158
        },
        "id": "Cm9xSELgjLUp",
        "outputId": "5e480586-f9b6-4b6e-a716-2b59ba490fb9"
      },
      "outputs": [
        {
          "output_type": "stream",
          "name": "stdout",
          "text": [
            " * sqlite:///university.db\n",
            "Done.\n"
          ]
        },
        {
          "output_type": "execute_result",
          "data": {
            "text/plain": [
              "[('100', 30, 2), ('101', 500, 4), ('120', 50, 1), ('3128', 70, 5)]"
            ],
            "text/html": [
              "<table>\n",
              "    <thead>\n",
              "        <tr>\n",
              "            <th>room_number</th>\n",
              "            <th>capacity</th>\n",
              "            <th>number of courses</th>\n",
              "        </tr>\n",
              "    </thead>\n",
              "    <tbody>\n",
              "        <tr>\n",
              "            <td>100</td>\n",
              "            <td>30</td>\n",
              "            <td>2</td>\n",
              "        </tr>\n",
              "        <tr>\n",
              "            <td>101</td>\n",
              "            <td>500</td>\n",
              "            <td>4</td>\n",
              "        </tr>\n",
              "        <tr>\n",
              "            <td>120</td>\n",
              "            <td>50</td>\n",
              "            <td>1</td>\n",
              "        </tr>\n",
              "        <tr>\n",
              "            <td>3128</td>\n",
              "            <td>70</td>\n",
              "            <td>5</td>\n",
              "        </tr>\n",
              "    </tbody>\n",
              "</table>"
            ]
          },
          "metadata": {},
          "execution_count": 70
        }
      ],
      "source": [
        "%%sql\n",
        "select sec.room_number,clas.capacity,count(sec.course_id) as 'number of courses'\n",
        "from section sec\n",
        "  inner join classroom clas on sec.room_number=clas.room_number\n",
        "where clas.capacity>20\n",
        "group by sec.room_number;"
      ]
    },
    {
      "cell_type": "markdown",
      "metadata": {
        "id": "nd2NXnPQlO23"
      },
      "source": [
        "### 34. Update the budget of each department by Rs. 1000"
      ]
    },
    {
      "cell_type": "code",
      "execution_count": 71,
      "metadata": {
        "colab": {
          "base_uri": "https://localhost:8080/"
        },
        "id": "oc1NHzvDkVgY",
        "outputId": "62632905-66d5-47a9-ecd7-4cfb2b351f8c"
      },
      "outputs": [
        {
          "output_type": "stream",
          "name": "stdout",
          "text": [
            " * sqlite:///university.db\n",
            "7 rows affected.\n"
          ]
        },
        {
          "output_type": "execute_result",
          "data": {
            "text/plain": [
              "[]"
            ]
          },
          "metadata": {},
          "execution_count": 71
        }
      ],
      "source": [
        "%%sql\n",
        "update department\n",
        "  set budget=budget+1000;"
      ]
    },
    {
      "cell_type": "code",
      "execution_count": 72,
      "metadata": {
        "colab": {
          "base_uri": "https://localhost:8080/",
          "height": 221
        },
        "id": "lc253iZKl7AA",
        "outputId": "cb29c0c2-d403-4eed-e965-bb75f6dc6efe"
      },
      "outputs": [
        {
          "output_type": "stream",
          "name": "stdout",
          "text": [
            " * sqlite:///university.db\n",
            "Done.\n"
          ]
        },
        {
          "output_type": "execute_result",
          "data": {
            "text/plain": [
              "[('Biology', 'Watson', 91000),\n",
              " ('Comp. Sci.', 'Taylor', 101000),\n",
              " ('Elec. Eng.', 'Taylor', 86000),\n",
              " ('Finance', 'Painter', 121000),\n",
              " ('History', 'Painter', 51000),\n",
              " ('Music', 'Packard', 81000),\n",
              " ('Physics', 'Watson', 71000)]"
            ],
            "text/html": [
              "<table>\n",
              "    <thead>\n",
              "        <tr>\n",
              "            <th>dept_name</th>\n",
              "            <th>building</th>\n",
              "            <th>budget</th>\n",
              "        </tr>\n",
              "    </thead>\n",
              "    <tbody>\n",
              "        <tr>\n",
              "            <td>Biology</td>\n",
              "            <td>Watson</td>\n",
              "            <td>91000</td>\n",
              "        </tr>\n",
              "        <tr>\n",
              "            <td>Comp. Sci.</td>\n",
              "            <td>Taylor</td>\n",
              "            <td>101000</td>\n",
              "        </tr>\n",
              "        <tr>\n",
              "            <td>Elec. Eng.</td>\n",
              "            <td>Taylor</td>\n",
              "            <td>86000</td>\n",
              "        </tr>\n",
              "        <tr>\n",
              "            <td>Finance</td>\n",
              "            <td>Painter</td>\n",
              "            <td>121000</td>\n",
              "        </tr>\n",
              "        <tr>\n",
              "            <td>History</td>\n",
              "            <td>Painter</td>\n",
              "            <td>51000</td>\n",
              "        </tr>\n",
              "        <tr>\n",
              "            <td>Music</td>\n",
              "            <td>Packard</td>\n",
              "            <td>81000</td>\n",
              "        </tr>\n",
              "        <tr>\n",
              "            <td>Physics</td>\n",
              "            <td>Watson</td>\n",
              "            <td>71000</td>\n",
              "        </tr>\n",
              "    </tbody>\n",
              "</table>"
            ]
          },
          "metadata": {},
          "execution_count": 72
        }
      ],
      "source": [
        "%%sql\n",
        "select * from department;"
      ]
    },
    {
      "cell_type": "markdown",
      "metadata": {
        "id": "9QBiN27UmGrF"
      },
      "source": [
        "### 35. Find number of students in each room."
      ]
    },
    {
      "cell_type": "code",
      "execution_count": 73,
      "metadata": {
        "colab": {
          "base_uri": "https://localhost:8080/",
          "height": 179
        },
        "id": "glZnz_okmAPg",
        "outputId": "d26a0ebb-2138-430e-8534-c49190d056fb"
      },
      "outputs": [
        {
          "output_type": "stream",
          "name": "stdout",
          "text": [
            " * sqlite:///university.db\n",
            "Done.\n"
          ]
        },
        {
          "output_type": "execute_result",
          "data": {
            "text/plain": [
              "[('100', 3), ('101', 16), ('120', 2), ('3128', 9), ('514', 3)]"
            ],
            "text/html": [
              "<table>\n",
              "    <thead>\n",
              "        <tr>\n",
              "            <th>room_number</th>\n",
              "            <th>number of students</th>\n",
              "        </tr>\n",
              "    </thead>\n",
              "    <tbody>\n",
              "        <tr>\n",
              "            <td>100</td>\n",
              "            <td>3</td>\n",
              "        </tr>\n",
              "        <tr>\n",
              "            <td>101</td>\n",
              "            <td>16</td>\n",
              "        </tr>\n",
              "        <tr>\n",
              "            <td>120</td>\n",
              "            <td>2</td>\n",
              "        </tr>\n",
              "        <tr>\n",
              "            <td>3128</td>\n",
              "            <td>9</td>\n",
              "        </tr>\n",
              "        <tr>\n",
              "            <td>514</td>\n",
              "            <td>3</td>\n",
              "        </tr>\n",
              "    </tbody>\n",
              "</table>"
            ]
          },
          "metadata": {},
          "execution_count": 73
        }
      ],
      "source": [
        "%%sql\n",
        "select sec.room_number,count(tak.id) as 'number of students'\n",
        "from section sec\n",
        "  inner join takes tak on tak.course_id=sec.course_id\n",
        "group by sec.room_number;"
      ]
    },
    {
      "cell_type": "markdown",
      "metadata": {
        "id": "pM9otSMXnwoU"
      },
      "source": [
        "### 36. Give the prerequisite course for each student."
      ]
    },
    {
      "cell_type": "code",
      "execution_count": 74,
      "metadata": {
        "colab": {
          "base_uri": "https://localhost:8080/",
          "height": 242
        },
        "id": "Otj17VhFnlay",
        "outputId": "664bec33-8534-47ec-913e-541513b0417b"
      },
      "outputs": [
        {
          "output_type": "stream",
          "name": "stdout",
          "text": [
            " * sqlite:///university.db\n",
            "Done.\n"
          ]
        },
        {
          "output_type": "execute_result",
          "data": {
            "text/plain": [
              "[('Aoi', 'PHY-101'),\n",
              " ('Bourikas', 'CS-101'),\n",
              " ('Brown', 'CS-101'),\n",
              " ('Levy', 'CS-101'),\n",
              " ('Shankar', 'CS-101'),\n",
              " ('Tanaka', 'BIO-101'),\n",
              " ('Williams', 'CS-101'),\n",
              " ('Zhang', 'CS-101')]"
            ],
            "text/html": [
              "<table>\n",
              "    <thead>\n",
              "        <tr>\n",
              "            <th>name</th>\n",
              "            <th>prereq_id</th>\n",
              "        </tr>\n",
              "    </thead>\n",
              "    <tbody>\n",
              "        <tr>\n",
              "            <td>Aoi</td>\n",
              "            <td>PHY-101</td>\n",
              "        </tr>\n",
              "        <tr>\n",
              "            <td>Bourikas</td>\n",
              "            <td>CS-101</td>\n",
              "        </tr>\n",
              "        <tr>\n",
              "            <td>Brown</td>\n",
              "            <td>CS-101</td>\n",
              "        </tr>\n",
              "        <tr>\n",
              "            <td>Levy</td>\n",
              "            <td>CS-101</td>\n",
              "        </tr>\n",
              "        <tr>\n",
              "            <td>Shankar</td>\n",
              "            <td>CS-101</td>\n",
              "        </tr>\n",
              "        <tr>\n",
              "            <td>Tanaka</td>\n",
              "            <td>BIO-101</td>\n",
              "        </tr>\n",
              "        <tr>\n",
              "            <td>Williams</td>\n",
              "            <td>CS-101</td>\n",
              "        </tr>\n",
              "        <tr>\n",
              "            <td>Zhang</td>\n",
              "            <td>CS-101</td>\n",
              "        </tr>\n",
              "    </tbody>\n",
              "</table>"
            ]
          },
          "metadata": {},
          "execution_count": 74
        }
      ],
      "source": [
        "%%sql\n",
        "select stu.name, pre.prereq_id from student stu\n",
        "  left join takes tak on stu.id=tak.id\n",
        "  inner join prereq pre on tak.course_id=pre.course_id\n",
        "group by stu.name;"
      ]
    },
    {
      "cell_type": "markdown",
      "metadata": {
        "id": "Jq6rQ15huB-e"
      },
      "source": [
        "### 37. Display number of students attending classes on Wednesday."
      ]
    },
    {
      "cell_type": "code",
      "execution_count": 75,
      "metadata": {
        "colab": {
          "base_uri": "https://localhost:8080/",
          "height": 95
        },
        "id": "hgkRhMQ-t6XU",
        "outputId": "5f44f246-5ef3-4b3f-c3db-4b4f228c77f7"
      },
      "outputs": [
        {
          "output_type": "stream",
          "name": "stdout",
          "text": [
            " * sqlite:///university.db\n",
            "Done.\n"
          ]
        },
        {
          "output_type": "execute_result",
          "data": {
            "text/plain": [
              "[('W', 24)]"
            ],
            "text/html": [
              "<table>\n",
              "    <thead>\n",
              "        <tr>\n",
              "            <th>day</th>\n",
              "            <th>number of students</th>\n",
              "        </tr>\n",
              "    </thead>\n",
              "    <tbody>\n",
              "        <tr>\n",
              "            <td>W</td>\n",
              "            <td>24</td>\n",
              "        </tr>\n",
              "    </tbody>\n",
              "</table>"
            ]
          },
          "metadata": {},
          "execution_count": 75
        }
      ],
      "source": [
        "%%sql\n",
        "select ts.day,count(tak.id) as 'number of students'from time_slot ts\n",
        "  left join section sec on ts.time_slot_id=sec.time_slot_id\n",
        "  inner join takes tak on tak.course_id=sec.course_id\n",
        "where ts.day='W'\n",
        "group by ts.day"
      ]
    },
    {
      "cell_type": "markdown",
      "metadata": {
        "id": "VkDoxiPOvb9j"
      },
      "source": [
        "### 38. Display number of students and instructors in each department"
      ]
    },
    {
      "cell_type": "code",
      "execution_count": 76,
      "metadata": {
        "colab": {
          "base_uri": "https://localhost:8080/",
          "height": 221
        },
        "id": "BJI-pphUvWYH",
        "outputId": "0512871c-6a01-4b1c-ea48-25ac76661ad9"
      },
      "outputs": [
        {
          "output_type": "stream",
          "name": "stdout",
          "text": [
            " * sqlite:///university.db\n",
            "Done.\n"
          ]
        },
        {
          "output_type": "execute_result",
          "data": {
            "text/plain": [
              "[('Biology', 1, 1),\n",
              " ('Comp. Sci.', 4, 3),\n",
              " ('Elec. Eng.', 2, 1),\n",
              " ('Finance', 1, 2),\n",
              " ('History', 1, 2),\n",
              " ('Music', 1, 1),\n",
              " ('Physics', 3, 2)]"
            ],
            "text/html": [
              "<table>\n",
              "    <thead>\n",
              "        <tr>\n",
              "            <th>dept_name</th>\n",
              "            <th>number of students</th>\n",
              "            <th>number of instructors</th>\n",
              "        </tr>\n",
              "    </thead>\n",
              "    <tbody>\n",
              "        <tr>\n",
              "            <td>Biology</td>\n",
              "            <td>1</td>\n",
              "            <td>1</td>\n",
              "        </tr>\n",
              "        <tr>\n",
              "            <td>Comp. Sci.</td>\n",
              "            <td>4</td>\n",
              "            <td>3</td>\n",
              "        </tr>\n",
              "        <tr>\n",
              "            <td>Elec. Eng.</td>\n",
              "            <td>2</td>\n",
              "            <td>1</td>\n",
              "        </tr>\n",
              "        <tr>\n",
              "            <td>Finance</td>\n",
              "            <td>1</td>\n",
              "            <td>2</td>\n",
              "        </tr>\n",
              "        <tr>\n",
              "            <td>History</td>\n",
              "            <td>1</td>\n",
              "            <td>2</td>\n",
              "        </tr>\n",
              "        <tr>\n",
              "            <td>Music</td>\n",
              "            <td>1</td>\n",
              "            <td>1</td>\n",
              "        </tr>\n",
              "        <tr>\n",
              "            <td>Physics</td>\n",
              "            <td>3</td>\n",
              "            <td>2</td>\n",
              "        </tr>\n",
              "    </tbody>\n",
              "</table>"
            ]
          },
          "metadata": {},
          "execution_count": 76
        }
      ],
      "source": [
        "%%sql\n",
        "select stu.dept_name, count(distinct stu.id) as 'number of students',count(distinct ins.id) as 'number of instructors'\n",
        "from student stu \n",
        "  inner join instructor ins on ins.dept_name=stu.dept_name \n",
        "group by stu.dept_name;"
      ]
    },
    {
      "cell_type": "markdown",
      "metadata": {
        "id": "CMODbAgJ0GtK"
      },
      "source": [
        "### 39. Display number of students in each semester and their sum of credits."
      ]
    },
    {
      "cell_type": "code",
      "execution_count": 77,
      "metadata": {
        "colab": {
          "base_uri": "https://localhost:8080/",
          "height": 137
        },
        "id": "x8uaCmguwUIY",
        "outputId": "b4d8f729-6f2f-4c53-8f8c-404a451e044e"
      },
      "outputs": [
        {
          "output_type": "stream",
          "name": "stdout",
          "text": [
            " * sqlite:///university.db\n",
            "Done.\n"
          ]
        },
        {
          "output_type": "execute_result",
          "data": {
            "text/plain": [
              "[('Fall', 9, 580), ('Spring', 11, 654), ('Summer', 2, 240)]"
            ],
            "text/html": [
              "<table>\n",
              "    <thead>\n",
              "        <tr>\n",
              "            <th>semester</th>\n",
              "            <th>number of students</th>\n",
              "            <th>sum of credits</th>\n",
              "        </tr>\n",
              "    </thead>\n",
              "    <tbody>\n",
              "        <tr>\n",
              "            <td>Fall</td>\n",
              "            <td>9</td>\n",
              "            <td>580</td>\n",
              "        </tr>\n",
              "        <tr>\n",
              "            <td>Spring</td>\n",
              "            <td>11</td>\n",
              "            <td>654</td>\n",
              "        </tr>\n",
              "        <tr>\n",
              "            <td>Summer</td>\n",
              "            <td>2</td>\n",
              "            <td>240</td>\n",
              "        </tr>\n",
              "    </tbody>\n",
              "</table>"
            ]
          },
          "metadata": {},
          "execution_count": 77
        }
      ],
      "source": [
        "%%sql\n",
        "select tak.semester, count( tak.id) as 'number of students',sum(stu.tot_cred) as 'sum of credits'\n",
        "from takes tak\n",
        "  inner join student stu on stu.id=tak.id\n",
        "group by tak.semester;\n"
      ]
    },
    {
      "cell_type": "markdown",
      "metadata": {
        "id": "fyVrUxXB0tKp"
      },
      "source": [
        "### 40. Give number of instructors in each building."
      ]
    },
    {
      "cell_type": "code",
      "execution_count": 78,
      "metadata": {
        "colab": {
          "base_uri": "https://localhost:8080/",
          "height": 158
        },
        "id": "UHF3aPaM0noX",
        "outputId": "f9bd9d7c-837d-4604-83a7-edec71f77439"
      },
      "outputs": [
        {
          "output_type": "stream",
          "name": "stdout",
          "text": [
            " * sqlite:///university.db\n",
            "Done.\n"
          ]
        },
        {
          "output_type": "execute_result",
          "data": {
            "text/plain": [
              "[('Packard', 6), ('Painter', 3), ('Taylor', 8), ('Watson', 4)]"
            ],
            "text/html": [
              "<table>\n",
              "    <thead>\n",
              "        <tr>\n",
              "            <th>building</th>\n",
              "            <th>number of instructors</th>\n",
              "        </tr>\n",
              "    </thead>\n",
              "    <tbody>\n",
              "        <tr>\n",
              "            <td>Packard</td>\n",
              "            <td>6</td>\n",
              "        </tr>\n",
              "        <tr>\n",
              "            <td>Painter</td>\n",
              "            <td>3</td>\n",
              "        </tr>\n",
              "        <tr>\n",
              "            <td>Taylor</td>\n",
              "            <td>8</td>\n",
              "        </tr>\n",
              "        <tr>\n",
              "            <td>Watson</td>\n",
              "            <td>4</td>\n",
              "        </tr>\n",
              "    </tbody>\n",
              "</table>"
            ]
          },
          "metadata": {},
          "execution_count": 78
        }
      ],
      "source": [
        "%%sql\n",
        "select sec.building, count(tea.id) as 'number of instructors' from section sec\n",
        "  inner join teaches tea on sec.course_id=tea.course_id\n",
        "group by sec.building;"
      ]
    },
    {
      "cell_type": "markdown",
      "metadata": {
        "id": "tf1AMWw48KSg"
      },
      "source": [
        "### 41. Display advisor IDs for instructors in Painter building."
      ]
    },
    {
      "cell_type": "code",
      "execution_count": 79,
      "metadata": {
        "colab": {
          "base_uri": "https://localhost:8080/",
          "height": 95
        },
        "id": "Au6sHrzs8P77",
        "outputId": "78004459-e211-47b4-8a19-f6cdc41cc724"
      },
      "outputs": [
        {
          "output_type": "stream",
          "name": "stdout",
          "text": [
            " * sqlite:///university.db\n",
            "Done.\n"
          ]
        },
        {
          "output_type": "execute_result",
          "data": {
            "text/plain": [
              "[('76766', 'Crick', 'Painter')]"
            ],
            "text/html": [
              "<table>\n",
              "    <thead>\n",
              "        <tr>\n",
              "            <th>i_ID</th>\n",
              "            <th>name</th>\n",
              "            <th>building</th>\n",
              "        </tr>\n",
              "    </thead>\n",
              "    <tbody>\n",
              "        <tr>\n",
              "            <td>76766</td>\n",
              "            <td>Crick</td>\n",
              "            <td>Painter</td>\n",
              "        </tr>\n",
              "    </tbody>\n",
              "</table>"
            ]
          },
          "metadata": {},
          "execution_count": 79
        }
      ],
      "source": [
        "%%sql\n",
        "select adv.i_ID, ins.name,sec.building from section sec\n",
        "  inner join teaches tea on sec.course_id=tea.course_id\n",
        "  inner join instructor ins on ins.id=tea.id\n",
        "  inner join advisor adv on adv.i_ID=tea.id\n",
        "where sec.building='Painter'\n",
        "group by sec.building;"
      ]
    },
    {
      "cell_type": "markdown",
      "metadata": {
        "id": "1HNmSXTZ9bTZ"
      },
      "source": [
        "### 42. Find total credits earned by students coming at 9am."
      ]
    },
    {
      "cell_type": "code",
      "execution_count": 80,
      "metadata": {
        "colab": {
          "base_uri": "https://localhost:8080/",
          "height": 158
        },
        "id": "Ns43cEBa9qCK",
        "outputId": "bc59d5f9-107a-4a80-fd02-23957b064d43"
      },
      "outputs": [
        {
          "output_type": "stream",
          "name": "stdout",
          "text": [
            " * sqlite:///university.db\n",
            "Done.\n"
          ]
        },
        {
          "output_type": "execute_result",
          "data": {
            "text/plain": [
              "[('Brown', 9, 58), ('Chavez', 9, 110), ('Levy', 9, 46), ('Tanaka', 9, 120)]"
            ],
            "text/html": [
              "<table>\n",
              "    <thead>\n",
              "        <tr>\n",
              "            <th>name</th>\n",
              "            <th>start_hr</th>\n",
              "            <th>tot_cred</th>\n",
              "        </tr>\n",
              "    </thead>\n",
              "    <tbody>\n",
              "        <tr>\n",
              "            <td>Brown</td>\n",
              "            <td>9</td>\n",
              "            <td>58</td>\n",
              "        </tr>\n",
              "        <tr>\n",
              "            <td>Chavez</td>\n",
              "            <td>9</td>\n",
              "            <td>110</td>\n",
              "        </tr>\n",
              "        <tr>\n",
              "            <td>Levy</td>\n",
              "            <td>9</td>\n",
              "            <td>46</td>\n",
              "        </tr>\n",
              "        <tr>\n",
              "            <td>Tanaka</td>\n",
              "            <td>9</td>\n",
              "            <td>120</td>\n",
              "        </tr>\n",
              "    </tbody>\n",
              "</table>"
            ]
          },
          "metadata": {},
          "execution_count": 80
        }
      ],
      "source": [
        "%%sql\n",
        "select stu.name, ts.start_hr,stu.tot_cred from student stu\n",
        "  inner join takes tak on tak.id=stu.id\n",
        "  inner join section sec on sec.course_id=tak.course_id\n",
        "  inner join time_slot ts on ts.time_slot_id=sec.time_slot_id\n",
        "where ts.start_hr=9\n",
        "group by stu.name;\n"
      ]
    },
    {
      "cell_type": "markdown",
      "metadata": {
        "id": "6z1rp-xM-GgN"
      },
      "source": [
        "### 43. Display student names ordered by room number."
      ]
    },
    {
      "cell_type": "code",
      "execution_count": 81,
      "metadata": {
        "colab": {
          "base_uri": "https://localhost:8080/",
          "height": 766
        },
        "id": "IjRIWrlH-UrZ",
        "outputId": "7ac18e60-060b-4693-e362-85d4a24a6ac4"
      },
      "outputs": [
        {
          "output_type": "stream",
          "name": "stdout",
          "text": [
            " * sqlite:///university.db\n",
            "Done.\n"
          ]
        },
        {
          "output_type": "execute_result",
          "data": {
            "text/plain": [
              "[('Peltier', '100'),\n",
              " ('Levy', '100'),\n",
              " ('Brown', '100'),\n",
              " ('Zhang', '101'),\n",
              " ('Zhang', '101'),\n",
              " ('Shankar', '101'),\n",
              " ('Shankar', '101'),\n",
              " ('Chavez', '101'),\n",
              " ('Levy', '101'),\n",
              " ('Levy', '101'),\n",
              " ('Levy', '101'),\n",
              " ('Levy', '101'),\n",
              " ('Williams', '101'),\n",
              " ('Williams', '101'),\n",
              " ('Sanchez', '101'),\n",
              " ('Brown', '101'),\n",
              " ('Brown', '101'),\n",
              " ('Bourikas', '101'),\n",
              " ('Bourikas', '101'),\n",
              " ('Shankar', '120'),\n",
              " ('Bourikas', '120'),\n",
              " ('Zhang', '3128'),\n",
              " ('Shankar', '3128'),\n",
              " ('Shankar', '3128'),\n",
              " ('Shankar', '3128'),\n",
              " ('Levy', '3128'),\n",
              " ('Williams', '3128'),\n",
              " ('Williams', '3128'),\n",
              " ('Brown', '3128'),\n",
              " ('Aoi', '3128'),\n",
              " ('Brandt', '514'),\n",
              " ('Tanaka', '514'),\n",
              " ('Tanaka', '514')]"
            ],
            "text/html": [
              "<table>\n",
              "    <thead>\n",
              "        <tr>\n",
              "            <th>name</th>\n",
              "            <th>room_number</th>\n",
              "        </tr>\n",
              "    </thead>\n",
              "    <tbody>\n",
              "        <tr>\n",
              "            <td>Peltier</td>\n",
              "            <td>100</td>\n",
              "        </tr>\n",
              "        <tr>\n",
              "            <td>Levy</td>\n",
              "            <td>100</td>\n",
              "        </tr>\n",
              "        <tr>\n",
              "            <td>Brown</td>\n",
              "            <td>100</td>\n",
              "        </tr>\n",
              "        <tr>\n",
              "            <td>Zhang</td>\n",
              "            <td>101</td>\n",
              "        </tr>\n",
              "        <tr>\n",
              "            <td>Zhang</td>\n",
              "            <td>101</td>\n",
              "        </tr>\n",
              "        <tr>\n",
              "            <td>Shankar</td>\n",
              "            <td>101</td>\n",
              "        </tr>\n",
              "        <tr>\n",
              "            <td>Shankar</td>\n",
              "            <td>101</td>\n",
              "        </tr>\n",
              "        <tr>\n",
              "            <td>Chavez</td>\n",
              "            <td>101</td>\n",
              "        </tr>\n",
              "        <tr>\n",
              "            <td>Levy</td>\n",
              "            <td>101</td>\n",
              "        </tr>\n",
              "        <tr>\n",
              "            <td>Levy</td>\n",
              "            <td>101</td>\n",
              "        </tr>\n",
              "        <tr>\n",
              "            <td>Levy</td>\n",
              "            <td>101</td>\n",
              "        </tr>\n",
              "        <tr>\n",
              "            <td>Levy</td>\n",
              "            <td>101</td>\n",
              "        </tr>\n",
              "        <tr>\n",
              "            <td>Williams</td>\n",
              "            <td>101</td>\n",
              "        </tr>\n",
              "        <tr>\n",
              "            <td>Williams</td>\n",
              "            <td>101</td>\n",
              "        </tr>\n",
              "        <tr>\n",
              "            <td>Sanchez</td>\n",
              "            <td>101</td>\n",
              "        </tr>\n",
              "        <tr>\n",
              "            <td>Brown</td>\n",
              "            <td>101</td>\n",
              "        </tr>\n",
              "        <tr>\n",
              "            <td>Brown</td>\n",
              "            <td>101</td>\n",
              "        </tr>\n",
              "        <tr>\n",
              "            <td>Bourikas</td>\n",
              "            <td>101</td>\n",
              "        </tr>\n",
              "        <tr>\n",
              "            <td>Bourikas</td>\n",
              "            <td>101</td>\n",
              "        </tr>\n",
              "        <tr>\n",
              "            <td>Shankar</td>\n",
              "            <td>120</td>\n",
              "        </tr>\n",
              "        <tr>\n",
              "            <td>Bourikas</td>\n",
              "            <td>120</td>\n",
              "        </tr>\n",
              "        <tr>\n",
              "            <td>Zhang</td>\n",
              "            <td>3128</td>\n",
              "        </tr>\n",
              "        <tr>\n",
              "            <td>Shankar</td>\n",
              "            <td>3128</td>\n",
              "        </tr>\n",
              "        <tr>\n",
              "            <td>Shankar</td>\n",
              "            <td>3128</td>\n",
              "        </tr>\n",
              "        <tr>\n",
              "            <td>Shankar</td>\n",
              "            <td>3128</td>\n",
              "        </tr>\n",
              "        <tr>\n",
              "            <td>Levy</td>\n",
              "            <td>3128</td>\n",
              "        </tr>\n",
              "        <tr>\n",
              "            <td>Williams</td>\n",
              "            <td>3128</td>\n",
              "        </tr>\n",
              "        <tr>\n",
              "            <td>Williams</td>\n",
              "            <td>3128</td>\n",
              "        </tr>\n",
              "        <tr>\n",
              "            <td>Brown</td>\n",
              "            <td>3128</td>\n",
              "        </tr>\n",
              "        <tr>\n",
              "            <td>Aoi</td>\n",
              "            <td>3128</td>\n",
              "        </tr>\n",
              "        <tr>\n",
              "            <td>Brandt</td>\n",
              "            <td>514</td>\n",
              "        </tr>\n",
              "        <tr>\n",
              "            <td>Tanaka</td>\n",
              "            <td>514</td>\n",
              "        </tr>\n",
              "        <tr>\n",
              "            <td>Tanaka</td>\n",
              "            <td>514</td>\n",
              "        </tr>\n",
              "    </tbody>\n",
              "</table>"
            ]
          },
          "metadata": {},
          "execution_count": 81
        }
      ],
      "source": [
        "%%sql\n",
        "select stu.name, sec.room_number from student stu\n",
        "  inner join takes tak on tak.id=stu.id\n",
        "  inner join section sec on sec.course_id=tak.course_id\n",
        "order by sec.room_number"
      ]
    },
    {
      "cell_type": "markdown",
      "metadata": {
        "id": "Df_cpB0wpZ3Q"
      },
      "source": [
        "### 44. Find the number of capacity left after occupying all the students."
      ]
    },
    {
      "cell_type": "code",
      "execution_count": 82,
      "metadata": {
        "colab": {
          "base_uri": "https://localhost:8080/",
          "height": 179
        },
        "id": "M1SEFh40prCs",
        "outputId": "f4252ae7-3ee1-4b5b-f30f-497639a481a2"
      },
      "outputs": [
        {
          "output_type": "stream",
          "name": "stdout",
          "text": [
            " * sqlite:///university.db\n",
            "Done.\n"
          ]
        },
        {
          "output_type": "execute_result",
          "data": {
            "text/plain": [
              "[('100', 27), ('101', 484), ('120', 48), ('3128', 61), ('514', 7)]"
            ],
            "text/html": [
              "<table>\n",
              "    <thead>\n",
              "        <tr>\n",
              "            <th>room_number</th>\n",
              "            <th>capacity left</th>\n",
              "        </tr>\n",
              "    </thead>\n",
              "    <tbody>\n",
              "        <tr>\n",
              "            <td>100</td>\n",
              "            <td>27</td>\n",
              "        </tr>\n",
              "        <tr>\n",
              "            <td>101</td>\n",
              "            <td>484</td>\n",
              "        </tr>\n",
              "        <tr>\n",
              "            <td>120</td>\n",
              "            <td>48</td>\n",
              "        </tr>\n",
              "        <tr>\n",
              "            <td>3128</td>\n",
              "            <td>61</td>\n",
              "        </tr>\n",
              "        <tr>\n",
              "            <td>514</td>\n",
              "            <td>7</td>\n",
              "        </tr>\n",
              "    </tbody>\n",
              "</table>"
            ]
          },
          "metadata": {},
          "execution_count": 82
        }
      ],
      "source": [
        "%%sql\n",
        "select class.room_number,(class.capacity-count(tak.id)) as 'capacity left'\n",
        "from classroom class\n",
        "  inner join section sec on sec.room_number=class.room_number\n",
        "  inner join takes tak on sec.course_id=tak.course_id\n",
        "group by sec.room_number;"
      ]
    },
    {
      "cell_type": "markdown",
      "metadata": {
        "id": "yr9CvEUKrxAf"
      },
      "source": [
        "### 45. Find the duration for which each student has to attend each lecture."
      ]
    },
    {
      "cell_type": "code",
      "execution_count": 83,
      "metadata": {
        "colab": {
          "base_uri": "https://localhost:8080/",
          "height": 514
        },
        "id": "8XKl7BMMsf31",
        "outputId": "ae452e8c-c3af-410b-ef52-bd9cdb98bec4"
      },
      "outputs": [
        {
          "output_type": "stream",
          "name": "stdout",
          "text": [
            " * sqlite:///university.db\n",
            "Done.\n"
          ]
        },
        {
          "output_type": "execute_result",
          "data": {
            "text/plain": [
              "[('Aoi', 'EE-181', 0, 50),\n",
              " ('Bourikas', 'CS-101', 1, 15),\n",
              " ('Bourikas', 'CS-315', 0, 50),\n",
              " ('Brandt', 'HIS-351', 0, 50),\n",
              " ('Brown', 'CS-101', 1, 15),\n",
              " ('Brown', 'CS-319', 0, 50),\n",
              " ('Chavez', 'FIN-201', 0, 50),\n",
              " ('Levy', 'CS-101', 1, 15),\n",
              " ('Levy', 'CS-319', 0, 50),\n",
              " ('Peltier', 'PHY-101', 0, 50),\n",
              " ('Sanchez', 'MU-199', 0, 50),\n",
              " ('Shankar', 'CS-101', 1, 15),\n",
              " ('Shankar', 'CS-190', 0, 50),\n",
              " ('Shankar', 'CS-315', 0, 50),\n",
              " ('Shankar', 'CS-347', 0, 50),\n",
              " ('Tanaka', 'BIO-101', 0, 50),\n",
              " ('Tanaka', 'BIO-301', 0, 50),\n",
              " ('Williams', 'CS-101', 1, 15),\n",
              " ('Williams', 'CS-190', 0, 50),\n",
              " ('Zhang', 'CS-101', 1, 15),\n",
              " ('Zhang', 'CS-347', 0, 50)]"
            ],
            "text/html": [
              "<table>\n",
              "    <thead>\n",
              "        <tr>\n",
              "            <th>name</th>\n",
              "            <th>course_id</th>\n",
              "            <th>duration in hours</th>\n",
              "            <th>duration in minutes</th>\n",
              "        </tr>\n",
              "    </thead>\n",
              "    <tbody>\n",
              "        <tr>\n",
              "            <td>Aoi</td>\n",
              "            <td>EE-181</td>\n",
              "            <td>0</td>\n",
              "            <td>50</td>\n",
              "        </tr>\n",
              "        <tr>\n",
              "            <td>Bourikas</td>\n",
              "            <td>CS-101</td>\n",
              "            <td>1</td>\n",
              "            <td>15</td>\n",
              "        </tr>\n",
              "        <tr>\n",
              "            <td>Bourikas</td>\n",
              "            <td>CS-315</td>\n",
              "            <td>0</td>\n",
              "            <td>50</td>\n",
              "        </tr>\n",
              "        <tr>\n",
              "            <td>Brandt</td>\n",
              "            <td>HIS-351</td>\n",
              "            <td>0</td>\n",
              "            <td>50</td>\n",
              "        </tr>\n",
              "        <tr>\n",
              "            <td>Brown</td>\n",
              "            <td>CS-101</td>\n",
              "            <td>1</td>\n",
              "            <td>15</td>\n",
              "        </tr>\n",
              "        <tr>\n",
              "            <td>Brown</td>\n",
              "            <td>CS-319</td>\n",
              "            <td>0</td>\n",
              "            <td>50</td>\n",
              "        </tr>\n",
              "        <tr>\n",
              "            <td>Chavez</td>\n",
              "            <td>FIN-201</td>\n",
              "            <td>0</td>\n",
              "            <td>50</td>\n",
              "        </tr>\n",
              "        <tr>\n",
              "            <td>Levy</td>\n",
              "            <td>CS-101</td>\n",
              "            <td>1</td>\n",
              "            <td>15</td>\n",
              "        </tr>\n",
              "        <tr>\n",
              "            <td>Levy</td>\n",
              "            <td>CS-319</td>\n",
              "            <td>0</td>\n",
              "            <td>50</td>\n",
              "        </tr>\n",
              "        <tr>\n",
              "            <td>Peltier</td>\n",
              "            <td>PHY-101</td>\n",
              "            <td>0</td>\n",
              "            <td>50</td>\n",
              "        </tr>\n",
              "        <tr>\n",
              "            <td>Sanchez</td>\n",
              "            <td>MU-199</td>\n",
              "            <td>0</td>\n",
              "            <td>50</td>\n",
              "        </tr>\n",
              "        <tr>\n",
              "            <td>Shankar</td>\n",
              "            <td>CS-101</td>\n",
              "            <td>1</td>\n",
              "            <td>15</td>\n",
              "        </tr>\n",
              "        <tr>\n",
              "            <td>Shankar</td>\n",
              "            <td>CS-190</td>\n",
              "            <td>0</td>\n",
              "            <td>50</td>\n",
              "        </tr>\n",
              "        <tr>\n",
              "            <td>Shankar</td>\n",
              "            <td>CS-315</td>\n",
              "            <td>0</td>\n",
              "            <td>50</td>\n",
              "        </tr>\n",
              "        <tr>\n",
              "            <td>Shankar</td>\n",
              "            <td>CS-347</td>\n",
              "            <td>0</td>\n",
              "            <td>50</td>\n",
              "        </tr>\n",
              "        <tr>\n",
              "            <td>Tanaka</td>\n",
              "            <td>BIO-101</td>\n",
              "            <td>0</td>\n",
              "            <td>50</td>\n",
              "        </tr>\n",
              "        <tr>\n",
              "            <td>Tanaka</td>\n",
              "            <td>BIO-301</td>\n",
              "            <td>0</td>\n",
              "            <td>50</td>\n",
              "        </tr>\n",
              "        <tr>\n",
              "            <td>Williams</td>\n",
              "            <td>CS-101</td>\n",
              "            <td>1</td>\n",
              "            <td>15</td>\n",
              "        </tr>\n",
              "        <tr>\n",
              "            <td>Williams</td>\n",
              "            <td>CS-190</td>\n",
              "            <td>0</td>\n",
              "            <td>50</td>\n",
              "        </tr>\n",
              "        <tr>\n",
              "            <td>Zhang</td>\n",
              "            <td>CS-101</td>\n",
              "            <td>1</td>\n",
              "            <td>15</td>\n",
              "        </tr>\n",
              "        <tr>\n",
              "            <td>Zhang</td>\n",
              "            <td>CS-347</td>\n",
              "            <td>0</td>\n",
              "            <td>50</td>\n",
              "        </tr>\n",
              "    </tbody>\n",
              "</table>"
            ]
          },
          "metadata": {},
          "execution_count": 83
        }
      ],
      "source": [
        "%%sql\n",
        "select student.name,takes.course_id, end_hr-start_hr as 'duration in hours',end_min-start_min as 'duration in minutes'\n",
        "from student,takes,section,time_slot\n",
        "where takes.id=student.id and section.course_id=takes.course_id and time_slot.time_slot_id=section.time_slot_id\n",
        "group by student.name,takes.course_id;\n"
      ]
    },
    {
      "cell_type": "markdown",
      "metadata": {
        "id": "h797-BMRvRNx"
      },
      "source": [
        "### 46. Create a timetable for the university."
      ]
    },
    {
      "cell_type": "code",
      "execution_count": 168,
      "metadata": {
        "id": "w6qya0ASvWvM",
        "colab": {
          "base_uri": "https://localhost:8080/",
          "height": 472
        },
        "outputId": "7a42f147-dcc2-4d9f-80d8-2a61e10de04a"
      },
      "outputs": [
        {
          "output_type": "stream",
          "name": "stdout",
          "text": [
            " * sqlite:///university.db\n",
            "Done.\n"
          ]
        },
        {
          "output_type": "execute_result",
          "data": {
            "text/plain": [
              "[('F', 'Watson', '100', 'PHY-101'),\n",
              " ('F', 'Packard', '101', 'MU-199'),\n",
              " ('F', 'Watson', '120', 'CS-315'),\n",
              " ('F', 'Taylor', '3128', 'EE-181'),\n",
              " ('F', 'Painter', '514', 'HIS-351'),\n",
              " ('M', 'Watson', '100', 'PHY-101'),\n",
              " ('M', 'Packard', '101', 'MU-199'),\n",
              " ('M', 'Watson', '120', 'CS-315'),\n",
              " ('M', 'Taylor', '3128', 'EE-181'),\n",
              " ('M', 'Painter', '514', 'HIS-351'),\n",
              " ('R', 'Packard', '101', 'CS-101'),\n",
              " ('R', 'Taylor', '3128', 'CS-190'),\n",
              " ('T', 'Packard', '101', 'CS-101'),\n",
              " ('T', 'Taylor', '3128', 'CS-190'),\n",
              " ('W', 'Watson', '100', 'PHY-101'),\n",
              " ('W', 'Packard', '101', 'MU-199'),\n",
              " ('W', 'Watson', '120', 'CS-315'),\n",
              " ('W', 'Taylor', '3128', 'EE-181'),\n",
              " ('W', 'Painter', '514', 'HIS-351')]"
            ],
            "text/html": [
              "<table>\n",
              "    <thead>\n",
              "        <tr>\n",
              "            <th>day</th>\n",
              "            <th>building</th>\n",
              "            <th>room_number</th>\n",
              "            <th>course_id</th>\n",
              "        </tr>\n",
              "    </thead>\n",
              "    <tbody>\n",
              "        <tr>\n",
              "            <td>F</td>\n",
              "            <td>Watson</td>\n",
              "            <td>100</td>\n",
              "            <td>PHY-101</td>\n",
              "        </tr>\n",
              "        <tr>\n",
              "            <td>F</td>\n",
              "            <td>Packard</td>\n",
              "            <td>101</td>\n",
              "            <td>MU-199</td>\n",
              "        </tr>\n",
              "        <tr>\n",
              "            <td>F</td>\n",
              "            <td>Watson</td>\n",
              "            <td>120</td>\n",
              "            <td>CS-315</td>\n",
              "        </tr>\n",
              "        <tr>\n",
              "            <td>F</td>\n",
              "            <td>Taylor</td>\n",
              "            <td>3128</td>\n",
              "            <td>EE-181</td>\n",
              "        </tr>\n",
              "        <tr>\n",
              "            <td>F</td>\n",
              "            <td>Painter</td>\n",
              "            <td>514</td>\n",
              "            <td>HIS-351</td>\n",
              "        </tr>\n",
              "        <tr>\n",
              "            <td>M</td>\n",
              "            <td>Watson</td>\n",
              "            <td>100</td>\n",
              "            <td>PHY-101</td>\n",
              "        </tr>\n",
              "        <tr>\n",
              "            <td>M</td>\n",
              "            <td>Packard</td>\n",
              "            <td>101</td>\n",
              "            <td>MU-199</td>\n",
              "        </tr>\n",
              "        <tr>\n",
              "            <td>M</td>\n",
              "            <td>Watson</td>\n",
              "            <td>120</td>\n",
              "            <td>CS-315</td>\n",
              "        </tr>\n",
              "        <tr>\n",
              "            <td>M</td>\n",
              "            <td>Taylor</td>\n",
              "            <td>3128</td>\n",
              "            <td>EE-181</td>\n",
              "        </tr>\n",
              "        <tr>\n",
              "            <td>M</td>\n",
              "            <td>Painter</td>\n",
              "            <td>514</td>\n",
              "            <td>HIS-351</td>\n",
              "        </tr>\n",
              "        <tr>\n",
              "            <td>R</td>\n",
              "            <td>Packard</td>\n",
              "            <td>101</td>\n",
              "            <td>CS-101</td>\n",
              "        </tr>\n",
              "        <tr>\n",
              "            <td>R</td>\n",
              "            <td>Taylor</td>\n",
              "            <td>3128</td>\n",
              "            <td>CS-190</td>\n",
              "        </tr>\n",
              "        <tr>\n",
              "            <td>T</td>\n",
              "            <td>Packard</td>\n",
              "            <td>101</td>\n",
              "            <td>CS-101</td>\n",
              "        </tr>\n",
              "        <tr>\n",
              "            <td>T</td>\n",
              "            <td>Taylor</td>\n",
              "            <td>3128</td>\n",
              "            <td>CS-190</td>\n",
              "        </tr>\n",
              "        <tr>\n",
              "            <td>W</td>\n",
              "            <td>Watson</td>\n",
              "            <td>100</td>\n",
              "            <td>PHY-101</td>\n",
              "        </tr>\n",
              "        <tr>\n",
              "            <td>W</td>\n",
              "            <td>Packard</td>\n",
              "            <td>101</td>\n",
              "            <td>MU-199</td>\n",
              "        </tr>\n",
              "        <tr>\n",
              "            <td>W</td>\n",
              "            <td>Watson</td>\n",
              "            <td>120</td>\n",
              "            <td>CS-315</td>\n",
              "        </tr>\n",
              "        <tr>\n",
              "            <td>W</td>\n",
              "            <td>Taylor</td>\n",
              "            <td>3128</td>\n",
              "            <td>EE-181</td>\n",
              "        </tr>\n",
              "        <tr>\n",
              "            <td>W</td>\n",
              "            <td>Painter</td>\n",
              "            <td>514</td>\n",
              "            <td>HIS-351</td>\n",
              "        </tr>\n",
              "    </tbody>\n",
              "</table>"
            ]
          },
          "metadata": {},
          "execution_count": 168
        }
      ],
      "source": [
        "%%sql\n",
        "SELECT ts.day,sec.building,sec.room_number,sec.course_id \n",
        "from section sec,time_slot ts\n",
        "where ts.time_slot_id=sec.time_slot_id\n",
        "group by day,room_number;\n"
      ]
    },
    {
      "cell_type": "markdown",
      "metadata": {
        "id": "mDHjCMT_xg8G"
      },
      "source": [
        "### 47. Calculate the budget given to each course."
      ]
    },
    {
      "cell_type": "code",
      "execution_count": 159,
      "metadata": {
        "id": "rqdPM8Owxl-X",
        "colab": {
          "base_uri": "https://localhost:8080/",
          "height": 221
        },
        "outputId": "d378459d-9c56-4cb7-8f0d-7aad523e436a"
      },
      "outputs": [
        {
          "output_type": "stream",
          "name": "stdout",
          "text": [
            " * sqlite:///university.db\n",
            "Done.\n"
          ]
        },
        {
          "output_type": "execute_result",
          "data": {
            "text/plain": [
              "[('Biology', 'BIO-399', 30333),\n",
              " ('Comp. Sci.', 'CS-347', 20200),\n",
              " ('Elec. Eng.', 'EE-181', 86000),\n",
              " ('Finance', 'FIN-201', 121000),\n",
              " ('History', 'HIS-351', 51000),\n",
              " ('Music', 'MU-199', 81000),\n",
              " ('Physics', 'PHY-101', 71000)]"
            ],
            "text/html": [
              "<table>\n",
              "    <thead>\n",
              "        <tr>\n",
              "            <th>dept_name</th>\n",
              "            <th>course_id</th>\n",
              "            <th>budget</th>\n",
              "        </tr>\n",
              "    </thead>\n",
              "    <tbody>\n",
              "        <tr>\n",
              "            <td>Biology</td>\n",
              "            <td>BIO-399</td>\n",
              "            <td>30333</td>\n",
              "        </tr>\n",
              "        <tr>\n",
              "            <td>Comp. Sci.</td>\n",
              "            <td>CS-347</td>\n",
              "            <td>20200</td>\n",
              "        </tr>\n",
              "        <tr>\n",
              "            <td>Elec. Eng.</td>\n",
              "            <td>EE-181</td>\n",
              "            <td>86000</td>\n",
              "        </tr>\n",
              "        <tr>\n",
              "            <td>Finance</td>\n",
              "            <td>FIN-201</td>\n",
              "            <td>121000</td>\n",
              "        </tr>\n",
              "        <tr>\n",
              "            <td>History</td>\n",
              "            <td>HIS-351</td>\n",
              "            <td>51000</td>\n",
              "        </tr>\n",
              "        <tr>\n",
              "            <td>Music</td>\n",
              "            <td>MU-199</td>\n",
              "            <td>81000</td>\n",
              "        </tr>\n",
              "        <tr>\n",
              "            <td>Physics</td>\n",
              "            <td>PHY-101</td>\n",
              "            <td>71000</td>\n",
              "        </tr>\n",
              "    </tbody>\n",
              "</table>"
            ]
          },
          "metadata": {},
          "execution_count": 159
        }
      ],
      "source": [
        "%%sql\n",
        "select dept.dept_name, co.course_id, (dept.budget/count(co.course_id) ) as 'budget'\n",
        "from department as dept,course as co\n",
        "where dept.dept_name=co.dept_name\n",
        "group by dept.dept_name"
      ]
    },
    {
      "cell_type": "markdown",
      "metadata": {
        "id": "qDicXUvBd7pg"
      },
      "source": [
        "### 48. Find the average salary that's distributed to teachers for each course and sort them in descending order"
      ]
    },
    {
      "cell_type": "code",
      "source": [
        "%%sql\n",
        "with ins_course as (\n",
        "  select * from course \n",
        "  join teaches on teaches.course_id=course.course_id\n",
        "  join instructor on instructor.id=teaches.id\n",
        "  )\n",
        "select title, avg(salary) from ins_course\n",
        "group by course_id\n",
        "order by avg(salary) desc;"
      ],
      "metadata": {
        "colab": {
          "base_uri": "https://localhost:8080/",
          "height": 326
        },
        "id": "puqHyc8ymw9t",
        "outputId": "ee87f433-c9aa-478e-f0ec-528beaab5070"
      },
      "execution_count": 167,
      "outputs": [
        {
          "output_type": "stream",
          "name": "stdout",
          "text": [
            " * sqlite:///university.db\n",
            "Done.\n"
          ]
        },
        {
          "output_type": "execute_result",
          "data": {
            "text/plain": [
              "[('Investment Banking', 99000.0),\n",
              " ('Physical Principles', 95000.0),\n",
              " ('Game Design', 92000.0),\n",
              " ('Intro. to Digital Systems', 88000.0),\n",
              " ('Image Processing', 87250.0),\n",
              " ('Intro. to Biology', 79200.0),\n",
              " ('Genetics', 79200.0),\n",
              " ('Intro. to Computer Science', 77000.0),\n",
              " ('Robotics', 71500.0),\n",
              " ('Database System Concepts', 71500.0),\n",
              " ('World History', 66000.0),\n",
              " ('Music Video Production', 44000.0)]"
            ],
            "text/html": [
              "<table>\n",
              "    <thead>\n",
              "        <tr>\n",
              "            <th>title</th>\n",
              "            <th>avg(salary)</th>\n",
              "        </tr>\n",
              "    </thead>\n",
              "    <tbody>\n",
              "        <tr>\n",
              "            <td>Investment Banking</td>\n",
              "            <td>99000.0</td>\n",
              "        </tr>\n",
              "        <tr>\n",
              "            <td>Physical Principles</td>\n",
              "            <td>95000.0</td>\n",
              "        </tr>\n",
              "        <tr>\n",
              "            <td>Game Design</td>\n",
              "            <td>92000.0</td>\n",
              "        </tr>\n",
              "        <tr>\n",
              "            <td>Intro. to Digital Systems</td>\n",
              "            <td>88000.0</td>\n",
              "        </tr>\n",
              "        <tr>\n",
              "            <td>Image Processing</td>\n",
              "            <td>87250.0</td>\n",
              "        </tr>\n",
              "        <tr>\n",
              "            <td>Intro. to Biology</td>\n",
              "            <td>79200.0</td>\n",
              "        </tr>\n",
              "        <tr>\n",
              "            <td>Genetics</td>\n",
              "            <td>79200.0</td>\n",
              "        </tr>\n",
              "        <tr>\n",
              "            <td>Intro. to Computer Science</td>\n",
              "            <td>77000.0</td>\n",
              "        </tr>\n",
              "        <tr>\n",
              "            <td>Robotics</td>\n",
              "            <td>71500.0</td>\n",
              "        </tr>\n",
              "        <tr>\n",
              "            <td>Database System Concepts</td>\n",
              "            <td>71500.0</td>\n",
              "        </tr>\n",
              "        <tr>\n",
              "            <td>World History</td>\n",
              "            <td>66000.0</td>\n",
              "        </tr>\n",
              "        <tr>\n",
              "            <td>Music Video Production</td>\n",
              "            <td>44000.0</td>\n",
              "        </tr>\n",
              "    </tbody>\n",
              "</table>"
            ]
          },
          "metadata": {},
          "execution_count": 167
        }
      ]
    },
    {
      "cell_type": "markdown",
      "metadata": {
        "id": "QZcLNv0VwARr"
      },
      "source": [
        "### 49. Find the average duration of classes for each course id"
      ]
    },
    {
      "cell_type": "code",
      "execution_count": 103,
      "metadata": {
        "id": "CrQvDYoMcx5A",
        "colab": {
          "base_uri": "https://localhost:8080/",
          "height": 326
        },
        "outputId": "2bae699a-45fa-458b-c829-0c278bda649f"
      },
      "outputs": [
        {
          "output_type": "stream",
          "name": "stdout",
          "text": [
            " * sqlite:///university.db\n",
            "Done.\n"
          ]
        },
        {
          "output_type": "execute_result",
          "data": {
            "text/plain": [
              "[('BIO-101', 50.0),\n",
              " ('BIO-301', 50.0),\n",
              " ('CS-101', 20.0),\n",
              " ('CS-190', 36.0),\n",
              " ('CS-315', 50.0),\n",
              " ('CS-319', 50.0),\n",
              " ('CS-347', 50.0),\n",
              " ('EE-181', 50.0),\n",
              " ('FIN-201', 50.0),\n",
              " ('HIS-351', 50.0),\n",
              " ('MU-199', 50.0),\n",
              " ('PHY-101', 50.0)]"
            ],
            "text/html": [
              "<table>\n",
              "    <thead>\n",
              "        <tr>\n",
              "            <th>course_id</th>\n",
              "            <th>avg(duration)</th>\n",
              "        </tr>\n",
              "    </thead>\n",
              "    <tbody>\n",
              "        <tr>\n",
              "            <td>BIO-101</td>\n",
              "            <td>50.0</td>\n",
              "        </tr>\n",
              "        <tr>\n",
              "            <td>BIO-301</td>\n",
              "            <td>50.0</td>\n",
              "        </tr>\n",
              "        <tr>\n",
              "            <td>CS-101</td>\n",
              "            <td>20.0</td>\n",
              "        </tr>\n",
              "        <tr>\n",
              "            <td>CS-190</td>\n",
              "            <td>36.0</td>\n",
              "        </tr>\n",
              "        <tr>\n",
              "            <td>CS-315</td>\n",
              "            <td>50.0</td>\n",
              "        </tr>\n",
              "        <tr>\n",
              "            <td>CS-319</td>\n",
              "            <td>50.0</td>\n",
              "        </tr>\n",
              "        <tr>\n",
              "            <td>CS-347</td>\n",
              "            <td>50.0</td>\n",
              "        </tr>\n",
              "        <tr>\n",
              "            <td>EE-181</td>\n",
              "            <td>50.0</td>\n",
              "        </tr>\n",
              "        <tr>\n",
              "            <td>FIN-201</td>\n",
              "            <td>50.0</td>\n",
              "        </tr>\n",
              "        <tr>\n",
              "            <td>HIS-351</td>\n",
              "            <td>50.0</td>\n",
              "        </tr>\n",
              "        <tr>\n",
              "            <td>MU-199</td>\n",
              "            <td>50.0</td>\n",
              "        </tr>\n",
              "        <tr>\n",
              "            <td>PHY-101</td>\n",
              "            <td>50.0</td>\n",
              "        </tr>\n",
              "    </tbody>\n",
              "</table>"
            ]
          },
          "metadata": {},
          "execution_count": 103
        }
      ],
      "source": [
        "%%sql\n",
        "with time_slot_duration as (\n",
        "  select time_slot_id, end_min-start_min as 'duration' \n",
        "  from time_slot)\n",
        "\n",
        "select course_id,avg(duration) \n",
        "from section s join time_slot_duration as tsd\n",
        "  on tsd.time_slot_id=s.time_slot_id\n",
        "group by course_id"
      ]
    },
    {
      "cell_type": "markdown",
      "metadata": {
        "id": "sohEhLu8eprY"
      },
      "source": [
        "### 50. Get the name of the instructor with highest salary from each department."
      ]
    },
    {
      "cell_type": "code",
      "execution_count": 88,
      "metadata": {
        "id": "5Zq4ZPLqcx8G",
        "colab": {
          "base_uri": "https://localhost:8080/",
          "height": 221
        },
        "outputId": "c1ba7584-bec6-4a6d-997c-bd01f7762068"
      },
      "outputs": [
        {
          "output_type": "stream",
          "name": "stdout",
          "text": [
            " * sqlite:///university.db\n",
            "Done.\n"
          ]
        },
        {
          "output_type": "execute_result",
          "data": {
            "text/plain": [
              "[('Crick', 'Biology', 79200),\n",
              " ('Brandt', 'Comp. Sci.', 92000),\n",
              " ('Kim', 'Elec. Eng.', 88000),\n",
              " ('Wu', 'Finance', 99000),\n",
              " ('Califieri', 'History', 68200),\n",
              " ('Mozart', 'Music', 44000),\n",
              " ('Gold', 'Physics', 95700)]"
            ],
            "text/html": [
              "<table>\n",
              "    <thead>\n",
              "        <tr>\n",
              "            <th>name</th>\n",
              "            <th>dept_name</th>\n",
              "            <th>highest salary</th>\n",
              "        </tr>\n",
              "    </thead>\n",
              "    <tbody>\n",
              "        <tr>\n",
              "            <td>Crick</td>\n",
              "            <td>Biology</td>\n",
              "            <td>79200</td>\n",
              "        </tr>\n",
              "        <tr>\n",
              "            <td>Brandt</td>\n",
              "            <td>Comp. Sci.</td>\n",
              "            <td>92000</td>\n",
              "        </tr>\n",
              "        <tr>\n",
              "            <td>Kim</td>\n",
              "            <td>Elec. Eng.</td>\n",
              "            <td>88000</td>\n",
              "        </tr>\n",
              "        <tr>\n",
              "            <td>Wu</td>\n",
              "            <td>Finance</td>\n",
              "            <td>99000</td>\n",
              "        </tr>\n",
              "        <tr>\n",
              "            <td>Califieri</td>\n",
              "            <td>History</td>\n",
              "            <td>68200</td>\n",
              "        </tr>\n",
              "        <tr>\n",
              "            <td>Mozart</td>\n",
              "            <td>Music</td>\n",
              "            <td>44000</td>\n",
              "        </tr>\n",
              "        <tr>\n",
              "            <td>Gold</td>\n",
              "            <td>Physics</td>\n",
              "            <td>95700</td>\n",
              "        </tr>\n",
              "    </tbody>\n",
              "</table>"
            ]
          },
          "metadata": {},
          "execution_count": 88
        }
      ],
      "source": [
        "%%sql\n",
        "select name, dept_name,max(salary) as 'highest salary' from instructor \n",
        "group by dept_name\n"
      ]
    },
    {
      "cell_type": "markdown",
      "metadata": {
        "id": "Bqxo50zyOJIi"
      },
      "source": [
        "### 51. Find out the amount that can be equally distributed to each course in the department from department budget"
      ]
    },
    {
      "cell_type": "code",
      "source": [
        "%%sql\n",
        "with course_department_data as (\n",
        "  select * from course join department on course.dept_name=department.dept_name\n",
        ")\n",
        "select title,budget/course_count as 'distributed_budget' \n",
        "  from course_department_data cdd \n",
        "  join ( select dept_name, count(course_id) as course_count from \n",
        "    course_department_data \n",
        "    group by dept_name) as ddc on cdd.dept_name=ddc.dept_name"
      ],
      "metadata": {
        "colab": {
          "base_uri": "https://localhost:8080/",
          "height": 347
        },
        "id": "wW_mgZ4xA_Om",
        "outputId": "fe72c50b-103c-41ef-d90d-49c4a0bfadb2"
      },
      "execution_count": 112,
      "outputs": [
        {
          "output_type": "stream",
          "name": "stdout",
          "text": [
            " * sqlite:///university.db\n",
            "Done.\n"
          ]
        },
        {
          "output_type": "execute_result",
          "data": {
            "text/plain": [
              "[('Intro. to Biology', 30333),\n",
              " ('Genetics', 30333),\n",
              " ('Computational Biology', 30333),\n",
              " ('Intro. to Computer Science', 20200),\n",
              " ('Game Design', 20200),\n",
              " ('Robotics', 20200),\n",
              " ('Image Processing', 20200),\n",
              " ('Database System Concepts', 20200),\n",
              " ('Intro. to Digital Systems', 86000),\n",
              " ('Investment Banking', 121000),\n",
              " ('World History', 51000),\n",
              " ('Music Video Production', 81000),\n",
              " ('Physical Principles', 71000)]"
            ],
            "text/html": [
              "<table>\n",
              "    <thead>\n",
              "        <tr>\n",
              "            <th>title</th>\n",
              "            <th>distributed_budget</th>\n",
              "        </tr>\n",
              "    </thead>\n",
              "    <tbody>\n",
              "        <tr>\n",
              "            <td>Intro. to Biology</td>\n",
              "            <td>30333</td>\n",
              "        </tr>\n",
              "        <tr>\n",
              "            <td>Genetics</td>\n",
              "            <td>30333</td>\n",
              "        </tr>\n",
              "        <tr>\n",
              "            <td>Computational Biology</td>\n",
              "            <td>30333</td>\n",
              "        </tr>\n",
              "        <tr>\n",
              "            <td>Intro. to Computer Science</td>\n",
              "            <td>20200</td>\n",
              "        </tr>\n",
              "        <tr>\n",
              "            <td>Game Design</td>\n",
              "            <td>20200</td>\n",
              "        </tr>\n",
              "        <tr>\n",
              "            <td>Robotics</td>\n",
              "            <td>20200</td>\n",
              "        </tr>\n",
              "        <tr>\n",
              "            <td>Image Processing</td>\n",
              "            <td>20200</td>\n",
              "        </tr>\n",
              "        <tr>\n",
              "            <td>Database System Concepts</td>\n",
              "            <td>20200</td>\n",
              "        </tr>\n",
              "        <tr>\n",
              "            <td>Intro. to Digital Systems</td>\n",
              "            <td>86000</td>\n",
              "        </tr>\n",
              "        <tr>\n",
              "            <td>Investment Banking</td>\n",
              "            <td>121000</td>\n",
              "        </tr>\n",
              "        <tr>\n",
              "            <td>World History</td>\n",
              "            <td>51000</td>\n",
              "        </tr>\n",
              "        <tr>\n",
              "            <td>Music Video Production</td>\n",
              "            <td>81000</td>\n",
              "        </tr>\n",
              "        <tr>\n",
              "            <td>Physical Principles</td>\n",
              "            <td>71000</td>\n",
              "        </tr>\n",
              "    </tbody>\n",
              "</table>"
            ]
          },
          "metadata": {},
          "execution_count": 112
        }
      ]
    },
    {
      "cell_type": "markdown",
      "metadata": {
        "id": "quP7Z0SF08oB"
      },
      "source": [
        "### 52. Get the sum of the total credits of students that is dealt by the instructors along with their names "
      ]
    },
    {
      "cell_type": "code",
      "execution_count": 125,
      "metadata": {
        "id": "T65jfPIxcyCm",
        "outputId": "943f9955-417f-4429-d297-f11fd390ca73",
        "colab": {
          "base_uri": "https://localhost:8080/",
          "height": 200
        }
      },
      "outputs": [
        {
          "output_type": "stream",
          "name": "stdout",
          "text": [
            " * sqlite:///university.db\n",
            "Done.\n"
          ]
        },
        {
          "output_type": "execute_result",
          "data": {
            "text/plain": [
              "[('Srinivasan', 32),\n",
              " ('Einstein', 102),\n",
              " ('Katz', 160),\n",
              " ('Singh', 110),\n",
              " ('Crick', 120),\n",
              " ('Kim', 158)]"
            ],
            "text/html": [
              "<table>\n",
              "    <thead>\n",
              "        <tr>\n",
              "            <th>name</th>\n",
              "            <th>sum_of_credits</th>\n",
              "        </tr>\n",
              "    </thead>\n",
              "    <tbody>\n",
              "        <tr>\n",
              "            <td>Srinivasan</td>\n",
              "            <td>32</td>\n",
              "        </tr>\n",
              "        <tr>\n",
              "            <td>Einstein</td>\n",
              "            <td>102</td>\n",
              "        </tr>\n",
              "        <tr>\n",
              "            <td>Katz</td>\n",
              "            <td>160</td>\n",
              "        </tr>\n",
              "        <tr>\n",
              "            <td>Singh</td>\n",
              "            <td>110</td>\n",
              "        </tr>\n",
              "        <tr>\n",
              "            <td>Crick</td>\n",
              "            <td>120</td>\n",
              "        </tr>\n",
              "        <tr>\n",
              "            <td>Kim</td>\n",
              "            <td>158</td>\n",
              "        </tr>\n",
              "    </tbody>\n",
              "</table>"
            ]
          },
          "metadata": {},
          "execution_count": 125
        }
      ],
      "source": [
        "%%sql\n",
        "WITH stu_adv as (\n",
        "  select * from student \n",
        "  join advisor on student.id=advisor.s_ID\n",
        ")\n",
        "select i.name,sum_of_credits\n",
        "from (\n",
        "  select i_id, sum(tot_cred) as sum_of_credits\n",
        "  from stu_adv \n",
        "  group by i_id) as tot_cred_data \n",
        "  join instructor i on i.id=tot_cred_data.i_id\n"
      ]
    },
    {
      "cell_type": "markdown",
      "metadata": {
        "id": "u-0ZWt3YO-qp"
      },
      "source": [
        "### 53. Perform division between student credits and department total credits"
      ]
    },
    {
      "cell_type": "code",
      "source": [
        "%%sql\n",
        "with dept_cred as( \n",
        "  select dept_name,sum(credits) as dept_tot_cred\n",
        "  from course \n",
        "  group by dept_name\n",
        ")\n",
        "select s.name,  s.tot_cred/dept_tot_cred \n",
        "from student s join dept_cred dc on s.dept_name=dc.dept_name"
      ],
      "metadata": {
        "colab": {
          "base_uri": "https://localhost:8080/",
          "height": 347
        },
        "id": "o2BR_tBhWI52",
        "outputId": "aa0d3d71-fa07-4fe0-94c4-2913f84d5273"
      },
      "execution_count": 128,
      "outputs": [
        {
          "output_type": "stream",
          "name": "stdout",
          "text": [
            " * sqlite:///university.db\n",
            "Done.\n"
          ]
        },
        {
          "output_type": "execute_result",
          "data": {
            "text/plain": [
              "[('Zhang', 6),\n",
              " ('Shankar', 1),\n",
              " ('Brandt', 26),\n",
              " ('Chavez', 36),\n",
              " ('Peltier', 14),\n",
              " ('Levy', 11),\n",
              " ('Williams', 3),\n",
              " ('Sanchez', 12),\n",
              " ('Snow', 0),\n",
              " ('Brown', 3),\n",
              " ('Aoi', 20),\n",
              " ('Bourikas', 32),\n",
              " ('Tanaka', 10)]"
            ],
            "text/html": [
              "<table>\n",
              "    <thead>\n",
              "        <tr>\n",
              "            <th>name</th>\n",
              "            <th>s.tot_cred/dept_tot_cred</th>\n",
              "        </tr>\n",
              "    </thead>\n",
              "    <tbody>\n",
              "        <tr>\n",
              "            <td>Zhang</td>\n",
              "            <td>6</td>\n",
              "        </tr>\n",
              "        <tr>\n",
              "            <td>Shankar</td>\n",
              "            <td>1</td>\n",
              "        </tr>\n",
              "        <tr>\n",
              "            <td>Brandt</td>\n",
              "            <td>26</td>\n",
              "        </tr>\n",
              "        <tr>\n",
              "            <td>Chavez</td>\n",
              "            <td>36</td>\n",
              "        </tr>\n",
              "        <tr>\n",
              "            <td>Peltier</td>\n",
              "            <td>14</td>\n",
              "        </tr>\n",
              "        <tr>\n",
              "            <td>Levy</td>\n",
              "            <td>11</td>\n",
              "        </tr>\n",
              "        <tr>\n",
              "            <td>Williams</td>\n",
              "            <td>3</td>\n",
              "        </tr>\n",
              "        <tr>\n",
              "            <td>Sanchez</td>\n",
              "            <td>12</td>\n",
              "        </tr>\n",
              "        <tr>\n",
              "            <td>Snow</td>\n",
              "            <td>0</td>\n",
              "        </tr>\n",
              "        <tr>\n",
              "            <td>Brown</td>\n",
              "            <td>3</td>\n",
              "        </tr>\n",
              "        <tr>\n",
              "            <td>Aoi</td>\n",
              "            <td>20</td>\n",
              "        </tr>\n",
              "        <tr>\n",
              "            <td>Bourikas</td>\n",
              "            <td>32</td>\n",
              "        </tr>\n",
              "        <tr>\n",
              "            <td>Tanaka</td>\n",
              "            <td>10</td>\n",
              "        </tr>\n",
              "    </tbody>\n",
              "</table>"
            ]
          },
          "metadata": {},
          "execution_count": 128
        }
      ]
    },
    {
      "cell_type": "markdown",
      "metadata": {
        "id": "26ez9r1RuFT9"
      },
      "source": [
        "### 54. If the department budget was to be distributed among the buildings, how much amount can be allocated to each room in a building"
      ]
    },
    {
      "cell_type": "code",
      "execution_count": 152,
      "metadata": {
        "id": "QQZdtrX0cyJX",
        "colab": {
          "base_uri": "https://localhost:8080/",
          "height": 158
        },
        "outputId": "241b73da-e53c-44d5-8a39-9dade474982a"
      },
      "outputs": [
        {
          "output_type": "stream",
          "name": "stdout",
          "text": [
            " * sqlite:///university.db\n",
            "Done.\n"
          ]
        },
        {
          "output_type": "execute_result",
          "data": {
            "text/plain": [
              "[('Packard', 40500), ('Painter', 86000), ('Taylor', 93500), ('Watson', 81000)]"
            ],
            "text/html": [
              "<table>\n",
              "    <thead>\n",
              "        <tr>\n",
              "            <th>building</th>\n",
              "            <th>room_budget</th>\n",
              "        </tr>\n",
              "    </thead>\n",
              "    <tbody>\n",
              "        <tr>\n",
              "            <td>Packard</td>\n",
              "            <td>40500</td>\n",
              "        </tr>\n",
              "        <tr>\n",
              "            <td>Painter</td>\n",
              "            <td>86000</td>\n",
              "        </tr>\n",
              "        <tr>\n",
              "            <td>Taylor</td>\n",
              "            <td>93500</td>\n",
              "        </tr>\n",
              "        <tr>\n",
              "            <td>Watson</td>\n",
              "            <td>81000</td>\n",
              "        </tr>\n",
              "    </tbody>\n",
              "</table>"
            ]
          },
          "metadata": {},
          "execution_count": 152
        }
      ],
      "source": [
        "%%sql\n",
        "\n",
        "with build_room as ( \n",
        "  select cl.building, count(DISTINCT cl.room_number) as no_of_rooms\n",
        "  from classroom cl\n",
        "  join department de on de.building=cl.building\n",
        "  group by cl.building)\n",
        "select br.building, sum(de.budget)/no_of_rooms as room_budget\n",
        "from department de join build_room br on de.building=br.building\n",
        "group by de.building"
      ]
    },
    {
      "cell_type": "markdown",
      "metadata": {
        "id": "LOkBTpbxQ09f"
      },
      "source": [
        "### 55. Get the name of the building and room number that are occupied during mondays and tuesdays"
      ]
    },
    {
      "cell_type": "code",
      "execution_count": 156,
      "metadata": {
        "id": "FEWdR0yncyMN",
        "colab": {
          "base_uri": "https://localhost:8080/",
          "height": 368
        },
        "outputId": "49e14aae-3935-4995-9062-7fc052c326d0"
      },
      "outputs": [
        {
          "output_type": "stream",
          "name": "stdout",
          "text": [
            " * sqlite:///university.db\n",
            "Done.\n"
          ]
        },
        {
          "output_type": "execute_result",
          "data": {
            "text/plain": [
              "[('Painter', '514', 'M', 'B', 'Intro. to Biology'),\n",
              " ('Painter', '514', 'M', 'A', 'Genetics'),\n",
              " ('Packard', '101', 'T', 'F', 'Intro. to Computer Science'),\n",
              " ('Taylor', '3128', 'T', 'E', 'Game Design'),\n",
              " ('Taylor', '3128', 'M', 'A', 'Game Design'),\n",
              " ('Watson', '120', 'M', 'D', 'Robotics'),\n",
              " ('Watson', '100', 'M', 'B', 'Image Processing'),\n",
              " ('Taylor', '3128', 'M', 'C', 'Image Processing'),\n",
              " ('Taylor', '3128', 'M', 'A', 'Database System Concepts'),\n",
              " ('Taylor', '3128', 'M', 'C', 'Intro. to Digital Systems'),\n",
              " ('Packard', '101', 'M', 'B', 'Investment Banking'),\n",
              " ('Painter', '514', 'M', 'C', 'World History'),\n",
              " ('Packard', '101', 'M', 'D', 'Music Video Production'),\n",
              " ('Watson', '100', 'M', 'A', 'Physical Principles')]"
            ],
            "text/html": [
              "<table>\n",
              "    <thead>\n",
              "        <tr>\n",
              "            <th>building</th>\n",
              "            <th>room_number</th>\n",
              "            <th>day</th>\n",
              "            <th>time_slot_id</th>\n",
              "            <th>title</th>\n",
              "        </tr>\n",
              "    </thead>\n",
              "    <tbody>\n",
              "        <tr>\n",
              "            <td>Painter</td>\n",
              "            <td>514</td>\n",
              "            <td>M</td>\n",
              "            <td>B</td>\n",
              "            <td>Intro. to Biology</td>\n",
              "        </tr>\n",
              "        <tr>\n",
              "            <td>Painter</td>\n",
              "            <td>514</td>\n",
              "            <td>M</td>\n",
              "            <td>A</td>\n",
              "            <td>Genetics</td>\n",
              "        </tr>\n",
              "        <tr>\n",
              "            <td>Packard</td>\n",
              "            <td>101</td>\n",
              "            <td>T</td>\n",
              "            <td>F</td>\n",
              "            <td>Intro. to Computer Science</td>\n",
              "        </tr>\n",
              "        <tr>\n",
              "            <td>Taylor</td>\n",
              "            <td>3128</td>\n",
              "            <td>T</td>\n",
              "            <td>E</td>\n",
              "            <td>Game Design</td>\n",
              "        </tr>\n",
              "        <tr>\n",
              "            <td>Taylor</td>\n",
              "            <td>3128</td>\n",
              "            <td>M</td>\n",
              "            <td>A</td>\n",
              "            <td>Game Design</td>\n",
              "        </tr>\n",
              "        <tr>\n",
              "            <td>Watson</td>\n",
              "            <td>120</td>\n",
              "            <td>M</td>\n",
              "            <td>D</td>\n",
              "            <td>Robotics</td>\n",
              "        </tr>\n",
              "        <tr>\n",
              "            <td>Watson</td>\n",
              "            <td>100</td>\n",
              "            <td>M</td>\n",
              "            <td>B</td>\n",
              "            <td>Image Processing</td>\n",
              "        </tr>\n",
              "        <tr>\n",
              "            <td>Taylor</td>\n",
              "            <td>3128</td>\n",
              "            <td>M</td>\n",
              "            <td>C</td>\n",
              "            <td>Image Processing</td>\n",
              "        </tr>\n",
              "        <tr>\n",
              "            <td>Taylor</td>\n",
              "            <td>3128</td>\n",
              "            <td>M</td>\n",
              "            <td>A</td>\n",
              "            <td>Database System Concepts</td>\n",
              "        </tr>\n",
              "        <tr>\n",
              "            <td>Taylor</td>\n",
              "            <td>3128</td>\n",
              "            <td>M</td>\n",
              "            <td>C</td>\n",
              "            <td>Intro. to Digital Systems</td>\n",
              "        </tr>\n",
              "        <tr>\n",
              "            <td>Packard</td>\n",
              "            <td>101</td>\n",
              "            <td>M</td>\n",
              "            <td>B</td>\n",
              "            <td>Investment Banking</td>\n",
              "        </tr>\n",
              "        <tr>\n",
              "            <td>Painter</td>\n",
              "            <td>514</td>\n",
              "            <td>M</td>\n",
              "            <td>C</td>\n",
              "            <td>World History</td>\n",
              "        </tr>\n",
              "        <tr>\n",
              "            <td>Packard</td>\n",
              "            <td>101</td>\n",
              "            <td>M</td>\n",
              "            <td>D</td>\n",
              "            <td>Music Video Production</td>\n",
              "        </tr>\n",
              "        <tr>\n",
              "            <td>Watson</td>\n",
              "            <td>100</td>\n",
              "            <td>M</td>\n",
              "            <td>A</td>\n",
              "            <td>Physical Principles</td>\n",
              "        </tr>\n",
              "    </tbody>\n",
              "</table>"
            ]
          },
          "metadata": {},
          "execution_count": 156
        }
      ],
      "source": [
        "%%sql\n",
        "with section_slot as (\n",
        "  select * from section s\n",
        "  join time_slot ts on ts.time_slot_id=s.time_slot_id\n",
        "  join course co on co.course_id=s.course_id\n",
        ")\n",
        "select building, room_number, day,time_slot_id,title from section_slot\n",
        "where day = 'M' or day='T' \n"
      ]
    },
    {
      "cell_type": "markdown",
      "metadata": {
        "id": "2_J_ePCr2vQM"
      },
      "source": [
        "<b>Congratulations !! You Have Just completed an assignment!!</b>\n",
        "\n",
        "![](data:image/jpeg;base64,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)\n",
        "\n",
        "# **FEEDBACK FORM**\n",
        "\n",
        "https://docs.google.com/forms/d/e/1FAIpQLScnAaAKvph9R3vINyCtOOMiav-tSMsRGlJReMaHyPjsXDlTIA/viewform"
      ]
    }
  ],
  "metadata": {
    "colab": {
      "collapsed_sections": [],
      "name": "University_schema_withcode.ipynb",
      "provenance": []
    },
    "kernelspec": {
      "display_name": "Python 3 (ipykernel)",
      "language": "python",
      "name": "python3"
    },
    "language_info": {
      "codemirror_mode": {
        "name": "ipython",
        "version": 3
      },
      "file_extension": ".py",
      "mimetype": "text/x-python",
      "name": "python",
      "nbconvert_exporter": "python",
      "pygments_lexer": "ipython3",
      "version": "3.9.7"
    }
  },
  "nbformat": 4,
  "nbformat_minor": 0
}